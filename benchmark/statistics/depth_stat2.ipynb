{
 "cells": [
  {
   "cell_type": "code",
   "execution_count": 1,
   "id": "6f67b677",
   "metadata": {},
   "outputs": [],
   "source": [
    "from pathlib import Path\n",
    "import polars as pl\n",
    "import xlsxwriter\n",
    "\n",
    "chrom_stat_dir: Path = Path('/mnt/eqa/zhangyuanfeng/methylation/evaluated/chrom_stats')\n",
    "chrom_depth_stat_dir: Path = Path('/mnt/eqa/zhangyuanfeng/methylation/evaluated/chrom_depth_stats')\n",
    "\n",
    "workbook  = xlsxwriter.Workbook('/mnt/eqa/zhangyuanfeng/methylation/evaluated/chrom_stats.xlsx')"
   ]
  },
  {
   "cell_type": "markdown",
   "id": "85a26e4e",
   "metadata": {},
   "source": [
    "store all info"
   ]
  },
  {
   "cell_type": "code",
   "execution_count": 2,
   "id": "1980736d",
   "metadata": {},
   "outputs": [],
   "source": [
    "female_chroms: list[str] =  ['chr1', 'chr2', 'chr3', 'chr4', 'chr5', 'chr6', 'chr7', 'chr8', 'chr9', 'chr10',\n",
    "                              'chr11', 'chr12', 'chr13', 'chr14', 'chr15', 'chr16', 'chr17', 'chr18', 'chr19',\n",
    "                             'chr20', 'chr21', 'chr22', 'chrX', 'chrM']\n",
    "male_chroms: list[str] = female_chroms + ['chrY']\n",
    "female_with_controls: list[str] = female_chroms + ['lambda', 'pUC19']\n",
    "male_with_controls: list[str] = male_chroms + ['lambda', 'pUC19']"
   ]
  },
  {
   "cell_type": "code",
   "execution_count": 3,
   "id": "d54fbf80",
   "metadata": {},
   "outputs": [
    {
     "data": {
      "text/html": [
       "<div><style>\n",
       ".dataframe > thead > tr,\n",
       ".dataframe > tbody > tr {\n",
       "  text-align: right;\n",
       "  white-space: pre-wrap;\n",
       "}\n",
       "</style>\n",
       "<small>shape: (1_252, 36)</small><table border=\"1\" class=\"dataframe\"><thead><tr><th>lab</th><th>label</th><th>rep</th><th>count_type</th><th>fname</th><th>chr1</th><th>chr2</th><th>chr3</th><th>chr4</th><th>chr5</th><th>chr6</th><th>chr7</th><th>chr8</th><th>chr9</th><th>chr10</th><th>chr11</th><th>chr12</th><th>chr13</th><th>chr14</th><th>chr15</th><th>chr16</th><th>chr17</th><th>chr18</th><th>chr19</th><th>chr20</th><th>chr21</th><th>chr22</th><th>chrX</th><th>chrY</th><th>chrM</th><th>lambda</th><th>pUC19</th><th>pipeline</th><th>total_with_wrong</th><th>total</th><th>wrong</th></tr><tr><td>str</td><td>str</td><td>str</td><td>str</td><td>str</td><td>i64</td><td>i64</td><td>i64</td><td>i64</td><td>i64</td><td>i64</td><td>i64</td><td>i64</td><td>i64</td><td>i64</td><td>i64</td><td>i64</td><td>i64</td><td>i64</td><td>i64</td><td>i64</td><td>i64</td><td>i64</td><td>i64</td><td>i64</td><td>i64</td><td>i64</td><td>i64</td><td>i64</td><td>i64</td><td>i64</td><td>i64</td><td>str</td><td>i64</td><td>i64</td><td>i64</td></tr></thead><tbody><tr><td>&quot;BS1&quot;</td><td>&quot;BC&quot;</td><td>&quot;1&quot;</td><td>&quot;reads&quot;</td><td>&quot;BS1_BC_1&quot;</td><td>51512144</td><td>39049254</td><td>36995393</td><td>29966526</td><td>34423518</td><td>28042105</td><td>46548834</td><td>29828597</td><td>24212849</td><td>26804857</td><td>23001958</td><td>23195948</td><td>14902575</td><td>23083051</td><td>20217489</td><td>28739663</td><td>22146727</td><td>17240248</td><td>18595687</td><td>18508298</td><td>9536262</td><td>17580409</td><td>15550545</td><td>1201486</td><td>106736</td><td>761185</td><td>36419</td><td>&quot;best_pipeline&quot;</td><td>601788763</td><td>600587277</td><td>1201486</td></tr><tr><td>&quot;BS1&quot;</td><td>&quot;BC&quot;</td><td>&quot;1&quot;</td><td>&quot;cytosine&quot;</td><td>&quot;BS1_BC_1&quot;</td><td>4685840</td><td>4296304</td><td>3313069</td><td>2957693</td><td>3083191</td><td>2918008</td><td>3219411</td><td>2620271</td><td>2470205</td><td>2740084</td><td>2616322</td><td>2591828</td><td>1550119</td><td>1757950</td><td>1786682</td><td>2284444</td><td>2378872</td><td>1471416</td><td>2151504</td><td>1534475</td><td>876511</td><td>1234134</td><td>2528195</td><td>139118</td><td>870</td><td>6225</td><td>346</td><td>&quot;best_pipeline&quot;</td><td>57213087</td><td>57073969</td><td>139118</td></tr><tr><td>&quot;BS1&quot;</td><td>&quot;BC&quot;</td><td>&quot;1&quot;</td><td>&quot;reads&quot;</td><td>&quot;BS1_BC_1&quot;</td><td>51921470</td><td>40418670</td><td>37537951</td><td>31310140</td><td>34464524</td><td>28501234</td><td>45344300</td><td>30029001</td><td>22980075</td><td>27076830</td><td>22839239</td><td>23221579</td><td>15031290</td><td>23299049</td><td>19988571</td><td>32684327</td><td>23280571</td><td>14951076</td><td>17379747</td><td>17963147</td><td>7362397</td><td>17315422</td><td>13607231</td><td>877898</td><td>2081927</td><td>10230463</td><td>113653</td><td>&quot;informed&quot;</td><td>611811782</td><td>610933884</td><td>877898</td></tr><tr><td>&quot;BS1&quot;</td><td>&quot;BC&quot;</td><td>&quot;1&quot;</td><td>&quot;cytosine&quot;</td><td>&quot;BS1_BC_1&quot;</td><td>4493546</td><td>4228097</td><td>3233320</td><td>2888398</td><td>2946875</td><td>2858690</td><td>3080432</td><td>2523258</td><td>2337288</td><td>2670142</td><td>2549351</td><td>2538836</td><td>1495732</td><td>1697224</td><td>1670845</td><td>2141706</td><td>2297395</td><td>1347863</td><td>2061499</td><td>1472476</td><td>744980</td><td>1155348</td><td>2200541</td><td>19658</td><td>864</td><td>6226</td><td>346</td><td>&quot;informed&quot;</td><td>54660936</td><td>54641278</td><td>19658</td></tr><tr><td>&quot;BS1&quot;</td><td>&quot;BC&quot;</td><td>&quot;2&quot;</td><td>&quot;reads&quot;</td><td>&quot;BS1_BC_2&quot;</td><td>47824913</td><td>37685576</td><td>36061924</td><td>30346142</td><td>33564630</td><td>27339289</td><td>44376130</td><td>28621175</td><td>23152410</td><td>25254215</td><td>21468927</td><td>22158844</td><td>14837469</td><td>21856600</td><td>18849290</td><td>25734254</td><td>19283751</td><td>17487709</td><td>15797925</td><td>17175204</td><td>9293931</td><td>15296186</td><td>15428264</td><td>1058893</td><td>105113</td><td>745230</td><td>35637</td><td>&quot;best_pipeline&quot;</td><td>570839631</td><td>569780738</td><td>1058893</td></tr><tr><td>&hellip;</td><td>&hellip;</td><td>&hellip;</td><td>&hellip;</td><td>&hellip;</td><td>&hellip;</td><td>&hellip;</td><td>&hellip;</td><td>&hellip;</td><td>&hellip;</td><td>&hellip;</td><td>&hellip;</td><td>&hellip;</td><td>&hellip;</td><td>&hellip;</td><td>&hellip;</td><td>&hellip;</td><td>&hellip;</td><td>&hellip;</td><td>&hellip;</td><td>&hellip;</td><td>&hellip;</td><td>&hellip;</td><td>&hellip;</td><td>&hellip;</td><td>&hellip;</td><td>&hellip;</td><td>&hellip;</td><td>&hellip;</td><td>&hellip;</td><td>&hellip;</td><td>&hellip;</td><td>&hellip;</td><td>&hellip;</td><td>&hellip;</td><td>&hellip;</td></tr><tr><td>&quot;RR1&quot;</td><td>&quot;T4&quot;</td><td>&quot;2&quot;</td><td>&quot;reads&quot;</td><td>&quot;RR1_T4_2&quot;</td><td>8493337</td><td>6580537</td><td>4805638</td><td>4215368</td><td>4380065</td><td>4490168</td><td>5506619</td><td>3888165</td><td>4403792</td><td>4545850</td><td>4773927</td><td>4553927</td><td>2228459</td><td>3035449</td><td>2959344</td><td>4954498</td><td>5958569</td><td>1953664</td><td>6936141</td><td>3109093</td><td>2236321</td><td>2988866</td><td>2906052</td><td>481446</td><td>168505</td><td>17094863</td><td>374747</td><td>&quot;agnostic&quot;</td><td>118023410</td><td>100072354</td><td>17951056</td></tr><tr><td>&quot;RR1&quot;</td><td>&quot;T4&quot;</td><td>&quot;2&quot;</td><td>&quot;cytosine&quot;</td><td>&quot;RR1_T4_2&quot;</td><td>766808</td><td>575248</td><td>402858</td><td>366936</td><td>385637</td><td>385864</td><td>491863</td><td>341544</td><td>400513</td><td>397991</td><td>414209</td><td>389313</td><td>199515</td><td>262503</td><td>267379</td><td>435570</td><td>507103</td><td>171718</td><td>575918</td><td>251885</td><td>156817</td><td>259270</td><td>309582</td><td>36418</td><td>129</td><td>3494</td><td>96</td><td>&quot;best_pipeline&quot;</td><td>8756181</td><td>8716173</td><td>40008</td></tr><tr><td>&quot;RR1&quot;</td><td>&quot;T4&quot;</td><td>&quot;2&quot;</td><td>&quot;reads&quot;</td><td>&quot;RR1_T4_2&quot;</td><td>10788968</td><td>7602048</td><td>5394478</td><td>5138067</td><td>5120810</td><td>5159250</td><td>6456549</td><td>4591466</td><td>5184513</td><td>5705530</td><td>5589655</td><td>5359833</td><td>2636428</td><td>3452071</td><td>3534669</td><td>5650244</td><td>6769132</td><td>2289973</td><td>7822013</td><td>3366709</td><td>3440639</td><td>3333218</td><td>3936717</td><td>395786</td><td>8667</td><td>402309</td><td>8167</td><td>&quot;best_pipeline&quot;</td><td>119137909</td><td>118331647</td><td>806262</td></tr><tr><td>&quot;RR1&quot;</td><td>&quot;T4&quot;</td><td>&quot;2&quot;</td><td>&quot;reads&quot;</td><td>&quot;RR1_T4_2&quot;</td><td>8929429</td><td>6916097</td><td>5030216</td><td>4416527</td><td>4596584</td><td>4710622</td><td>5794356</td><td>4090826</td><td>4642377</td><td>4774489</td><td>5029704</td><td>4777296</td><td>2338954</td><td>3192894</td><td>3110350</td><td>5219939</td><td>6268976</td><td>2054076</td><td>7300114</td><td>3268584</td><td>2308784</td><td>3152167</td><td>3049524</td><td>486733</td><td>168831</td><td>17096012</td><td>374869</td><td>&quot;informed&quot;</td><td>123099330</td><td>105141716</td><td>17957614</td></tr><tr><td>&quot;RR1&quot;</td><td>&quot;T4&quot;</td><td>&quot;2&quot;</td><td>&quot;cytosine&quot;</td><td>&quot;RR1_T4_2&quot;</td><td>667240</td><td>517661</td><td>356641</td><td>314826</td><td>339880</td><td>346623</td><td>437294</td><td>307569</td><td>357090</td><td>352230</td><td>384261</td><td>350235</td><td>175112</td><td>239420</td><td>231399</td><td>398420</td><td>471088</td><td>155078</td><td>552490</td><td>242519</td><td>111785</td><td>238980</td><td>228714</td><td>6946</td><td>321</td><td>4570</td><td>175</td><td>&quot;informed&quot;</td><td>7788567</td><td>7776876</td><td>11691</td></tr></tbody></table></div>"
      ],
      "text/plain": [
       "shape: (1_252, 36)\n",
       "┌─────┬───────┬─────┬────────────┬───┬───────────────┬──────────────────┬───────────┬──────────┐\n",
       "│ lab ┆ label ┆ rep ┆ count_type ┆ … ┆ pipeline      ┆ total_with_wrong ┆ total     ┆ wrong    │\n",
       "│ --- ┆ ---   ┆ --- ┆ ---        ┆   ┆ ---           ┆ ---              ┆ ---       ┆ ---      │\n",
       "│ str ┆ str   ┆ str ┆ str        ┆   ┆ str           ┆ i64              ┆ i64       ┆ i64      │\n",
       "╞═════╪═══════╪═════╪════════════╪═══╪═══════════════╪══════════════════╪═══════════╪══════════╡\n",
       "│ BS1 ┆ BC    ┆ 1   ┆ reads      ┆ … ┆ best_pipeline ┆ 601788763        ┆ 600587277 ┆ 1201486  │\n",
       "│ BS1 ┆ BC    ┆ 1   ┆ cytosine   ┆ … ┆ best_pipeline ┆ 57213087         ┆ 57073969  ┆ 139118   │\n",
       "│ BS1 ┆ BC    ┆ 1   ┆ reads      ┆ … ┆ informed      ┆ 611811782        ┆ 610933884 ┆ 877898   │\n",
       "│ BS1 ┆ BC    ┆ 1   ┆ cytosine   ┆ … ┆ informed      ┆ 54660936         ┆ 54641278  ┆ 19658    │\n",
       "│ BS1 ┆ BC    ┆ 2   ┆ reads      ┆ … ┆ best_pipeline ┆ 570839631        ┆ 569780738 ┆ 1058893  │\n",
       "│ …   ┆ …     ┆ …   ┆ …          ┆ … ┆ …             ┆ …                ┆ …         ┆ …        │\n",
       "│ RR1 ┆ T4    ┆ 2   ┆ reads      ┆ … ┆ agnostic      ┆ 118023410        ┆ 100072354 ┆ 17951056 │\n",
       "│ RR1 ┆ T4    ┆ 2   ┆ cytosine   ┆ … ┆ best_pipeline ┆ 8756181          ┆ 8716173   ┆ 40008    │\n",
       "│ RR1 ┆ T4    ┆ 2   ┆ reads      ┆ … ┆ best_pipeline ┆ 119137909        ┆ 118331647 ┆ 806262   │\n",
       "│ RR1 ┆ T4    ┆ 2   ┆ reads      ┆ … ┆ informed      ┆ 123099330        ┆ 105141716 ┆ 17957614 │\n",
       "│ RR1 ┆ T4    ┆ 2   ┆ cytosine   ┆ … ┆ informed      ┆ 7788567          ┆ 7776876   ┆ 11691    │\n",
       "└─────┴───────┴─────┴────────────┴───┴───────────────┴──────────────────┴───────────┴──────────┘"
      ]
     },
     "execution_count": 3,
     "metadata": {},
     "output_type": "execute_result"
    }
   ],
   "source": [
    "df: pl.DataFrame\n",
    "df = (pl.concat([pl.read_parquet(chrom_stat_dir / fname).with_columns(pl.lit(tag).alias('pipeline'))\n",
    "                 for fname, tag in zip(['unified_informed.parquet.lz4',\n",
    "                                        'unified_agnostic.parquet.lz4',\n",
    "                                        'best_pipeline.parquet.lz4'],\n",
    "                                        ['informed', 'agnostic', 'best_pipeline'])])\n",
    "        .sort(by=['lab', 'label', 'rep', 'pipeline'])\n",
    "        .drop('total')\n",
    "        .with_columns(pl.sum_horizontal(male_with_controls).alias('total_with_wrong'))\n",
    "        .with_columns(pl.when(pl.col('lab').str.contains_any(['RR1', 'RM1', 'NP1', 'MA']),\n",
    "                              pl.col('label').str.contains_any(['F7', 'HF']))\n",
    "                        .then(pl.sum_horizontal(male_chroms))\n",
    "                        .when(pl.col('lab').str.contains_any(['RR1', 'RM1', 'NP1', 'MA']),\n",
    "                              ~pl.col('label').str.contains_any(['F7', 'HF']))\n",
    "                        .then(pl.sum_horizontal(female_chroms))\n",
    "                        .when(~pl.col('lab').str.contains_any(['RR1', 'RM1', 'NP1', 'MA']),\n",
    "                              pl.col('label').str.contains_any(['F7', 'HF']))\n",
    "                        .then(pl.sum_horizontal(male_with_controls))\n",
    "                        .otherwise(pl.sum_horizontal(female_with_controls))\n",
    "                        .alias('total'))\n",
    "        .with_columns((pl.col('total_with_wrong') - pl.col('total')).alias('wrong')))\n",
    "df"
   ]
  },
  {
   "cell_type": "code",
   "execution_count": 4,
   "id": "c0b60b8c",
   "metadata": {},
   "outputs": [
    {
     "data": {
      "text/plain": [
       "<xlsxwriter.workbook.Workbook at 0x776bba72cdd0>"
      ]
     },
     "execution_count": 4,
     "metadata": {},
     "output_type": "execute_result"
    }
   ],
   "source": [
    "df.write_excel(workbook=workbook, worksheet=workbook.add_worksheet('chrom_counts'),\n",
    "               include_header=True, autofit=True)"
   ]
  },
  {
   "cell_type": "code",
   "execution_count": 5,
   "id": "d6ed29cf",
   "metadata": {},
   "outputs": [],
   "source": [
    "dfs: list[pl.DataFrame] = []\n",
    "for fname, tag in zip(['unified_informed.parquet.lz4',\n",
    "                       'unified_agnostic.parquet.lz4',\n",
    "                       'best_pipeline.parquet.lz4'],\n",
    "                      ['informed', 'agnostic', 'best_pipeline']):\n",
    "    tag_df: pl.DataFrame\n",
    "    depth_df: pl.DataFrame\n",
    "    chrom_df: pl.DataFrame\n",
    "\n",
    "    tag_df = (pl.read_parquet(chrom_depth_stat_dir / fname)\n",
    "                .with_columns(pl.lit(tag).alias('pipeline'),\n",
    "                              pl.col('depth_bin').cast(pl.String)))\n",
    "    dfs.append(tag_df)\n",
    "\n",
    "\n",
    "(pl.concat(dfs)\n",
    "   .sort('lab', 'label', 'rep', 'fname', 'chrom', 'depth_bin', 'count_type', 'pipeline')\n",
    "   .write_excel(workbook=workbook, worksheet=workbook.add_worksheet('chrom_depth_counts'),\n",
    "                include_header=True, autofit=True))\n",
    "\n",
    "workbook.add_format({'font_size': 14, 'bold': True})\n",
    "\n",
    "workbook.close()"
   ]
  },
  {
   "cell_type": "code",
   "execution_count": 13,
   "id": "1aac9a5e",
   "metadata": {},
   "outputs": [],
   "source": [
    "stat_list = []\n",
    "stat_df: pl.DataFrame = (pl.concat(dfs)\n",
    "                           .sort('lab', 'label', 'rep', 'fname',\n",
    "                                 'chrom', 'depth_bin',\n",
    "                                 'count_type', 'pipeline'))\n",
    "\n",
    "for fname in stat_df['fname'].unique():\n",
    "    chroms: list[str] = [f'chr{i}' for i in range(1, 23)] + ['chrX', 'chrM']\n",
    "\n",
    "    if not any(l in fname for l in {'RR1', 'RM1', 'NP1', 'HF'}):\n",
    "        chroms += ['lambda', 'pUC19']\n",
    "\n",
    "    if any(l in fname for l in {'F7', 'HF'}):\n",
    "        chroms += ['chrY']\n",
    "\n",
    "    for tag in ['informed', 'agnostic', 'best_pipeline']:\n",
    "        tag_df: pl.DataFrame = stat_df.filter(pl.col('fname') == fname,\n",
    "                                             pl.col('pipeline') == tag,\n",
    "                                             pl.col('chrom').is_in(chroms))\n",
    "        total_cytosine: int = tag_df.filter(pl.col('count_type') == 'cytosine')['count'].sum()\n",
    "        total_depth: int = tag_df.filter(pl.col('count_type') == 'reads')['count'].sum()\n",
    "\n",
    "        tag_tmp: dict[str, int] = {\n",
    "            depth_bin: tag_df.filter(pl.col('count_type') == 'cytosine',\n",
    "                                     pl.col('depth_bin') == depth_bin)['count'].sum()\n",
    "            for depth_bin in tag_df['depth_bin'].unique()\n",
    "        }\n",
    "        \n",
    "        stat_list.append({\n",
    "            'fname': fname, 'pipeline': tag, 'total_cytosine': total_cytosine, 'total_depth': total_depth,\n",
    "            **tag_tmp\n",
    "        })"
   ]
  },
  {
   "cell_type": "code",
   "execution_count": 9,
   "id": "b9cded16",
   "metadata": {},
   "outputs": [
    {
     "data": {
      "text/html": [
       "<div><style>\n",
       ".dataframe > thead > tr,\n",
       ".dataframe > tbody > tr {\n",
       "  text-align: right;\n",
       "  white-space: pre-wrap;\n",
       "}\n",
       "</style>\n",
       "<small>shape: (418, 6)</small><table border=\"1\" class=\"dataframe\"><thead><tr><th>fname</th><th>pipeline</th><th>total_cytosine</th><th>total_depth</th><th>40–50x</th><th>.</th></tr><tr><td>str</td><td>str</td><td>i64</td><td>i64</td><td>i64</td><td>i64</td></tr></thead><tbody><tr><td>&quot;BS1_D6_2&quot;</td><td>&quot;best_pipeline&quot;</td><td>55592464</td><td>0</td><td>59161</td><td>55533303</td></tr><tr><td>&quot;PS1_T2_2&quot;</td><td>&quot;best_pipeline&quot;</td><td>56197572</td><td>0</td><td>28053</td><td>56169519</td></tr><tr><td>&quot;RR1_T4_1&quot;</td><td>&quot;agnostic&quot;</td><td>6400316</td><td>0</td><td>568417</td><td>5831899</td></tr><tr><td>&quot;RR1_T4_1&quot;</td><td>&quot;best_pipeline&quot;</td><td>9633847</td><td>0</td><td>600747</td><td>9033100</td></tr><tr><td>&quot;BS1_F7_1&quot;</td><td>&quot;agnostic&quot;</td><td>47064462</td><td>0</td><td>22040</td><td>47042422</td></tr><tr><td>&hellip;</td><td>&hellip;</td><td>&hellip;</td><td>&hellip;</td><td>&hellip;</td><td>&hellip;</td></tr><tr><td>&quot;EM4_T2_1&quot;</td><td>&quot;best_pipeline&quot;</td><td>57642571</td><td>0</td><td>268056</td><td>57374515</td></tr><tr><td>&quot;BS2_T1_2&quot;</td><td>&quot;best_pipeline&quot;</td><td>57754727</td><td>0</td><td>330083</td><td>57424644</td></tr><tr><td>&quot;RM1_T3_1&quot;</td><td>&quot;informed&quot;</td><td>30043092</td><td>0</td><td>null</td><td>30043092</td></tr><tr><td>&quot;RR1_T1_1&quot;</td><td>&quot;agnostic&quot;</td><td>5468471</td><td>0</td><td>613916</td><td>4854555</td></tr><tr><td>&quot;RR1_T1_1&quot;</td><td>&quot;best_pipeline&quot;</td><td>8516953</td><td>0</td><td>711239</td><td>7805714</td></tr></tbody></table></div>"
      ],
      "text/plain": [
       "shape: (418, 6)\n",
       "┌──────────┬───────────────┬────────────────┬─────────────┬────────┬──────────┐\n",
       "│ fname    ┆ pipeline      ┆ total_cytosine ┆ total_depth ┆ 40–50x ┆ .        │\n",
       "│ ---      ┆ ---           ┆ ---            ┆ ---         ┆ ---    ┆ ---      │\n",
       "│ str      ┆ str           ┆ i64            ┆ i64         ┆ i64    ┆ i64      │\n",
       "╞══════════╪═══════════════╪════════════════╪═════════════╪════════╪══════════╡\n",
       "│ BS1_D6_2 ┆ best_pipeline ┆ 55592464       ┆ 0           ┆ 59161  ┆ 55533303 │\n",
       "│ PS1_T2_2 ┆ best_pipeline ┆ 56197572       ┆ 0           ┆ 28053  ┆ 56169519 │\n",
       "│ RR1_T4_1 ┆ agnostic      ┆ 6400316        ┆ 0           ┆ 568417 ┆ 5831899  │\n",
       "│ RR1_T4_1 ┆ best_pipeline ┆ 9633847        ┆ 0           ┆ 600747 ┆ 9033100  │\n",
       "│ BS1_F7_1 ┆ agnostic      ┆ 47064462       ┆ 0           ┆ 22040  ┆ 47042422 │\n",
       "│ …        ┆ …             ┆ …              ┆ …           ┆ …      ┆ …        │\n",
       "│ EM4_T2_1 ┆ best_pipeline ┆ 57642571       ┆ 0           ┆ 268056 ┆ 57374515 │\n",
       "│ BS2_T1_2 ┆ best_pipeline ┆ 57754727       ┆ 0           ┆ 330083 ┆ 57424644 │\n",
       "│ RM1_T3_1 ┆ informed      ┆ 30043092       ┆ 0           ┆ null   ┆ 30043092 │\n",
       "│ RR1_T1_1 ┆ agnostic      ┆ 5468471        ┆ 0           ┆ 613916 ┆ 4854555  │\n",
       "│ RR1_T1_1 ┆ best_pipeline ┆ 8516953        ┆ 0           ┆ 711239 ┆ 7805714  │\n",
       "└──────────┴───────────────┴────────────────┴─────────────┴────────┴──────────┘"
      ]
     },
     "execution_count": 9,
     "metadata": {},
     "output_type": "execute_result"
    }
   ],
   "source": [
    "pl.DataFrame(stat_list).filter(pl.col('total_cytosine') > 0)"
   ]
  },
  {
   "cell_type": "code",
   "execution_count": 16,
   "id": "4e4384a7",
   "metadata": {},
   "outputs": [
    {
     "data": {
      "text/html": [
       "<div><style>\n",
       ".dataframe > thead > tr,\n",
       ".dataframe > tbody > tr {\n",
       "  text-align: right;\n",
       "  white-space: pre-wrap;\n",
       "}\n",
       "</style>\n",
       "<small>shape: (626, 18)</small><table border=\"1\" class=\"dataframe\"><thead><tr><th>lab</th><th>label</th><th>rep</th><th>fname</th><th>pipeline</th><th>total_cytosine</th><th>total_depth</th><th>1x</th><th>2x</th><th>3x</th><th>4x</th><th>5–10x</th><th>10–20x</th><th>20–30x</th><th>30–40x</th><th>40–50x</th><th>50–60x</th><th>≥60x</th></tr><tr><td>str</td><td>str</td><td>str</td><td>str</td><td>str</td><td>i64</td><td>i64</td><td>i64</td><td>i64</td><td>i64</td><td>i64</td><td>i64</td><td>i64</td><td>i64</td><td>i64</td><td>i64</td><td>i64</td><td>i64</td></tr></thead><tbody><tr><td>&quot;BS1&quot;</td><td>&quot;BC&quot;</td><td>&quot;1&quot;</td><td>&quot;BS1_BC_1&quot;</td><td>&quot;informed&quot;</td><td>54641278</td><td>610933884</td><td>2737109</td><td>2349745</td><td>2981919</td><td>3491671</td><td>19420248</td><td>19411915</td><td>3614254</td><td>498729</td><td>70012</td><td>17430</td><td>48246</td></tr><tr><td>&quot;BS1&quot;</td><td>&quot;BC&quot;</td><td>&quot;1&quot;</td><td>&quot;BS1_BC_1&quot;</td><td>&quot;best_pipeline&quot;</td><td>57073969</td><td>600587277</td><td>3056755</td><td>2714709</td><td>3424473</td><td>3966413</td><td>20893924</td><td>18932775</td><td>3261045</td><td>507744</td><td>119673</td><td>52819</td><td>143639</td></tr><tr><td>&quot;BS1&quot;</td><td>&quot;BC&quot;</td><td>&quot;2&quot;</td><td>&quot;BS1_BC_2&quot;</td><td>&quot;best_pipeline&quot;</td><td>56755018</td><td>569780738</td><td>4395747</td><td>3573569</td><td>4159229</td><td>4448397</td><td>19820304</td><td>16103647</td><td>3173458</td><td>657554</td><td>179370</td><td>74519</td><td>169224</td></tr><tr><td>&quot;BS1&quot;</td><td>&quot;BC&quot;</td><td>&quot;2&quot;</td><td>&quot;BS1_BC_2&quot;</td><td>&quot;informed&quot;</td><td>54428472</td><td>580696075</td><td>3943548</td><td>3114024</td><td>3656555</td><td>3969226</td><td>18631814</td><td>16720115</td><td>3503227</td><td>673251</td><td>130544</td><td>31654</td><td>54514</td></tr><tr><td>&quot;BS1&quot;</td><td>&quot;BL&quot;</td><td>&quot;1&quot;</td><td>&quot;BS1_BL_1&quot;</td><td>&quot;best_pipeline&quot;</td><td>57471398</td><td>592996136</td><td>2061866</td><td>2002562</td><td>2756597</td><td>3477138</td><td>22825845</td><td>22461201</td><td>1498429</td><td>154694</td><td>68614</td><td>39078</td><td>125374</td></tr><tr><td>&hellip;</td><td>&hellip;</td><td>&hellip;</td><td>&hellip;</td><td>&hellip;</td><td>&hellip;</td><td>&hellip;</td><td>&hellip;</td><td>&hellip;</td><td>&hellip;</td><td>&hellip;</td><td>&hellip;</td><td>&hellip;</td><td>&hellip;</td><td>&hellip;</td><td>&hellip;</td><td>&hellip;</td><td>&hellip;</td></tr><tr><td>&quot;RR1&quot;</td><td>&quot;T4&quot;</td><td>&quot;1&quot;</td><td>&quot;RR1_T4_1&quot;</td><td>&quot;informed&quot;</td><td>8481039</td><td>166986191</td><td>1474214</td><td>336722</td><td>290477</td><td>258953</td><td>1094749</td><td>1744539</td><td>1260262</td><td>903850</td><td>568961</td><td>294869</td><td>253443</td></tr><tr><td>&quot;RR1&quot;</td><td>&quot;T4&quot;</td><td>&quot;1&quot;</td><td>&quot;RR1_T4_1&quot;</td><td>&quot;agnostic&quot;</td><td>6379626</td><td>162824914</td><td>0</td><td>0</td><td>0</td><td>258953</td><td>1094749</td><td>1744539</td><td>1260262</td><td>903850</td><td>568961</td><td>294869</td><td>253443</td></tr><tr><td>&quot;RR1&quot;</td><td>&quot;T4&quot;</td><td>&quot;2&quot;</td><td>&quot;RR1_T4_2&quot;</td><td>&quot;informed&quot;</td><td>7776876</td><td>105141716</td><td>1596120</td><td>443791</td><td>383608</td><td>343631</td><td>1393504</td><td>1804860</td><td>985589</td><td>496384</td><td>202185</td><td>76180</td><td>51024</td></tr><tr><td>&quot;RR1&quot;</td><td>&quot;T4&quot;</td><td>&quot;2&quot;</td><td>&quot;RR1_T4_2&quot;</td><td>&quot;agnostic&quot;</td><td>5353357</td><td>100072354</td><td>0</td><td>0</td><td>0</td><td>343631</td><td>1393504</td><td>1804860</td><td>985589</td><td>496384</td><td>202185</td><td>76180</td><td>51024</td></tr><tr><td>&quot;RR1&quot;</td><td>&quot;T4&quot;</td><td>&quot;2&quot;</td><td>&quot;RR1_T4_2&quot;</td><td>&quot;best_pipeline&quot;</td><td>8716173</td><td>118331647</td><td>1798454</td><td>515457</td><td>441965</td><td>393486</td><td>1580975</td><td>1999016</td><td>1073986</td><td>527656</td><td>211469</td><td>82941</td><td>90768</td></tr></tbody></table></div>"
      ],
      "text/plain": [
       "shape: (626, 18)\n",
       "┌─────┬───────┬─────┬──────────┬───┬────────┬────────┬────────┬────────┐\n",
       "│ lab ┆ label ┆ rep ┆ fname    ┆ … ┆ 30–40x ┆ 40–50x ┆ 50–60x ┆ ≥60x   │\n",
       "│ --- ┆ ---   ┆ --- ┆ ---      ┆   ┆ ---    ┆ ---    ┆ ---    ┆ ---    │\n",
       "│ str ┆ str   ┆ str ┆ str      ┆   ┆ i64    ┆ i64    ┆ i64    ┆ i64    │\n",
       "╞═════╪═══════╪═════╪══════════╪═══╪════════╪════════╪════════╪════════╡\n",
       "│ BS1 ┆ BC    ┆ 1   ┆ BS1_BC_1 ┆ … ┆ 498729 ┆ 70012  ┆ 17430  ┆ 48246  │\n",
       "│ BS1 ┆ BC    ┆ 1   ┆ BS1_BC_1 ┆ … ┆ 507744 ┆ 119673 ┆ 52819  ┆ 143639 │\n",
       "│ BS1 ┆ BC    ┆ 2   ┆ BS1_BC_2 ┆ … ┆ 657554 ┆ 179370 ┆ 74519  ┆ 169224 │\n",
       "│ BS1 ┆ BC    ┆ 2   ┆ BS1_BC_2 ┆ … ┆ 673251 ┆ 130544 ┆ 31654  ┆ 54514  │\n",
       "│ BS1 ┆ BL    ┆ 1   ┆ BS1_BL_1 ┆ … ┆ 154694 ┆ 68614  ┆ 39078  ┆ 125374 │\n",
       "│ …   ┆ …     ┆ …   ┆ …        ┆ … ┆ …      ┆ …      ┆ …      ┆ …      │\n",
       "│ RR1 ┆ T4    ┆ 1   ┆ RR1_T4_1 ┆ … ┆ 903850 ┆ 568961 ┆ 294869 ┆ 253443 │\n",
       "│ RR1 ┆ T4    ┆ 1   ┆ RR1_T4_1 ┆ … ┆ 903850 ┆ 568961 ┆ 294869 ┆ 253443 │\n",
       "│ RR1 ┆ T4    ┆ 2   ┆ RR1_T4_2 ┆ … ┆ 496384 ┆ 202185 ┆ 76180  ┆ 51024  │\n",
       "│ RR1 ┆ T4    ┆ 2   ┆ RR1_T4_2 ┆ … ┆ 496384 ┆ 202185 ┆ 76180  ┆ 51024  │\n",
       "│ RR1 ┆ T4    ┆ 2   ┆ RR1_T4_2 ┆ … ┆ 527656 ┆ 211469 ┆ 82941  ┆ 90768  │\n",
       "└─────┴───────┴─────┴──────────┴───┴────────┴────────┴────────┴────────┘"
      ]
     },
     "execution_count": 16,
     "metadata": {},
     "output_type": "execute_result"
    }
   ],
   "source": [
    "merged_stat: pl.DataFrame = (pl.DataFrame(stat_list)\n",
    "                               .with_columns(pl.col('fname').str.head(3).alias('lab'),\n",
    "                                             pl.col('fname').str.slice(offset=4, length=2).alias('label'),\n",
    "                                             pl.col('fname').str.tail(n=1).alias('rep'))\n",
    "                               .select('lab', 'label', 'rep', 'fname', 'pipeline',\n",
    "                                       'total_cytosine', 'total_depth',\n",
    "                                      '1x', '2x', '3x', '4x', '5–10x', '10–20x',\n",
    "                                      '20–30x', '30–40x', '40–50x', '50–60x',\n",
    "                                       '≥60x')\n",
    "                               .fill_null(0)\n",
    "                               .filter(pl.col('total_cytosine') > 0,\n",
    "                                       pl.col('total_depth') > 0)\n",
    "                               .sort(by=['lab', 'label', 'rep']))\n",
    "merged_stat"
   ]
  },
  {
   "cell_type": "code",
   "execution_count": 17,
   "id": "1d6e769f",
   "metadata": {},
   "outputs": [],
   "source": [
    "merged_stat.write_parquet('/mnt/eqa/zhangyuanfeng/methylation/evaluated/depth_stat.parquet.lz4',\n",
    "                          compression='lz4')"
   ]
  }
 ],
 "metadata": {
  "kernelspec": {
   "display_name": "data2024",
   "language": "python",
   "name": "python3"
  },
  "language_info": {
   "codemirror_mode": {
    "name": "ipython",
    "version": 3
   },
   "file_extension": ".py",
   "mimetype": "text/x-python",
   "name": "python",
   "nbconvert_exporter": "python",
   "pygments_lexer": "ipython3",
   "version": "3.12.2"
  }
 },
 "nbformat": 4,
 "nbformat_minor": 5
}
