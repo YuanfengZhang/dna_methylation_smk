{
 "cells": [
  {
   "cell_type": "code",
   "execution_count": 1,
   "id": "1e547a8e",
   "metadata": {},
   "outputs": [],
   "source": [
    "from pathlib import Path\n",
    "from matplotlib import pyplot as plt\n",
    "import pandas as pd\n",
    "import polars as pl\n",
    "from scipy import stats\n",
    "import seaborn as sns\n",
    "\n",
    "\n",
    "# before_spearmanr_f: Path = Path('/mnt/eqa/zhangyuanfeng/methylation/best_pipeline/data/evalutaed/before/c_spearmanr/spearmanr_curated_features')\n",
    "# after_spearmanr_f: Path = Path('/mnt/eqa/zhangyuanfeng/methylation/best_pipeline/data/evalutaed/after/c_spearmanr/spearmanr_curated_features')\n",
    "\n",
    "before_spearmanr_f: Path = Path('/mnt/eqa/zhangyuanfeng/methylation/data_for_plot/6_methcali/before_spearmanr.csv')\n",
    "after_spearmanr_f: Path = Path('/mnt/eqa/zhangyuanfeng/methylation/data_for_plot/6_methcali/after_spearmanr.csv')"
   ]
  },
  {
   "cell_type": "code",
   "execution_count": 2,
   "id": "622d46ce",
   "metadata": {},
   "outputs": [
    {
     "data": {
      "application/vnd.microsoft.datawrangler.viewer.v0+json": {
       "columns": [
        {
         "name": "index",
         "rawType": "int64",
         "type": "integer"
        },
        {
         "name": "lab",
         "rawType": "object",
         "type": "string"
        },
        {
         "name": "label",
         "rawType": "object",
         "type": "string"
        },
        {
         "name": "feature",
         "rawType": "object",
         "type": "string"
        },
        {
         "name": "fgroup",
         "rawType": "object",
         "type": "string"
        },
        {
         "name": "count",
         "rawType": "int64",
         "type": "integer"
        },
        {
         "name": "spearmanr",
         "rawType": "float64",
         "type": "float"
        },
        {
         "name": "treatment",
         "rawType": "object",
         "type": "string"
        }
       ],
       "ref": "d991974c-4d3b-494e-92b8-348f84453ffe",
       "rows": [
        [
         "0",
         "RR1",
         "D6",
         "global",
         "global",
         "8693900",
         "0.8420505326614042",
         "before"
        ],
        [
         "1",
         "PS2",
         "F7",
         "global",
         "global",
         "55716840",
         "0.7922116435813027",
         "before"
        ],
        [
         "2",
         "EM3",
         "M8",
         "global",
         "global",
         "57350099",
         "0.909356518506437",
         "before"
        ],
        [
         "3",
         "EM4",
         "M8",
         "global",
         "global",
         "57465392",
         "0.8766648308072473",
         "before"
        ],
        [
         "4",
         "PS2",
         "D6",
         "global",
         "global",
         "55055046",
         "0.7832586572410001",
         "before"
        ],
        [
         "5",
         "BS1",
         "T4",
         "global",
         "global",
         "56521433",
         "0.7693014070366551",
         "before"
        ],
        [
         "6",
         "EM4",
         "T4",
         "global",
         "global",
         "57589997",
         "0.8750823301135482",
         "before"
        ],
        [
         "7",
         "EM3",
         "T4",
         "global",
         "global",
         "57417442",
         "0.8990906822146701",
         "before"
        ],
        [
         "8",
         "EM3",
         "T1",
         "global",
         "global",
         "57369539",
         "0.9068217866904018",
         "before"
        ],
        [
         "9",
         "BS2",
         "D5",
         "global",
         "global",
         "57562084",
         "0.8703703125591485",
         "before"
        ],
        [
         "10",
         "EM2",
         "T1",
         "global",
         "global",
         "57163796",
         "0.8854205628220294",
         "before"
        ],
        [
         "11",
         "PS2",
         "BC",
         "global",
         "global",
         "53958257",
         "0.7029012331021998",
         "before"
        ],
        [
         "12",
         "BS2",
         "T4",
         "global",
         "global",
         "57612028",
         "0.8560957809044399",
         "before"
        ],
        [
         "13",
         "PS3",
         "T3",
         "global",
         "global",
         "56440295",
         "0.8663340307517073",
         "before"
        ],
        [
         "14",
         "PS1",
         "T3",
         "global",
         "global",
         "55777666",
         "0.8203803407643855",
         "before"
        ],
        [
         "15",
         "PS2",
         "D5",
         "global",
         "global",
         "55530408",
         "0.8221884538747773",
         "before"
        ],
        [
         "16",
         "BS2",
         "F7",
         "global",
         "global",
         "57787254",
         "0.8467262302563164",
         "before"
        ],
        [
         "17",
         "RR1",
         "M8",
         "global",
         "global",
         "7910335",
         "0.8441545284393064",
         "before"
        ],
        [
         "18",
         "PS2",
         "T1",
         "global",
         "global",
         "55693597",
         "0.8257121197239301",
         "before"
        ],
        [
         "19",
         "RR1",
         "BL",
         "global",
         "global",
         "8176622",
         "0.8655679671753379",
         "before"
        ],
        [
         "20",
         "PS2",
         "T4",
         "global",
         "global",
         "55008807",
         "0.7845179499164736",
         "before"
        ],
        [
         "21",
         "EM2",
         "M8",
         "global",
         "global",
         "57476220",
         "0.8971806284900682",
         "before"
        ],
        [
         "22",
         "PS3",
         "BC",
         "global",
         "global",
         "55698447",
         "0.7090999531522904",
         "before"
        ],
        [
         "23",
         "BS3",
         "M8",
         "global",
         "global",
         "57222373",
         "0.8255490336096993",
         "before"
        ],
        [
         "24",
         "PS3",
         "D5",
         "global",
         "global",
         "56404310",
         "0.8691648676014315",
         "before"
        ],
        [
         "25",
         "PS3",
         "BL",
         "global",
         "global",
         "56487630",
         "0.9032382456122737",
         "before"
        ],
        [
         "26",
         "PS2",
         "T2",
         "global",
         "global",
         "55643019",
         "0.8193215990928552",
         "before"
        ],
        [
         "27",
         "BS3",
         "T4",
         "global",
         "global",
         "57309315",
         "0.8221404516525717",
         "before"
        ],
        [
         "28",
         "BS1",
         "BL",
         "global",
         "global",
         "57069688",
         "0.8734939420596628",
         "before"
        ],
        [
         "29",
         "BS2",
         "T3",
         "global",
         "global",
         "57675719",
         "0.8680673937451213",
         "before"
        ],
        [
         "30",
         "EM4",
         "BC",
         "global",
         "global",
         "56650039",
         "0.7383337036441131",
         "before"
        ],
        [
         "31",
         "RR1",
         "T1",
         "global",
         "global",
         "7178472",
         "0.8336908730665512",
         "before"
        ],
        [
         "32",
         "EM3",
         "D6",
         "global",
         "global",
         "57296132",
         "0.8957374604203266",
         "before"
        ],
        [
         "33",
         "PS1",
         "T1",
         "global",
         "global",
         "55545826",
         "0.820338907415962",
         "before"
        ],
        [
         "34",
         "BS4",
         "D5",
         "global",
         "global",
         "46539219",
         "0.6130600837213798",
         "before"
        ],
        [
         "35",
         "RR1",
         "D5",
         "global",
         "global",
         "8418584",
         "0.8371423265447955",
         "before"
        ],
        [
         "36",
         "PS3",
         "T1",
         "global",
         "global",
         "56487642",
         "0.8739812507646829",
         "before"
        ],
        [
         "37",
         "BS3",
         "T3",
         "global",
         "global",
         "57266436",
         "0.8198508922437561",
         "before"
        ],
        [
         "38",
         "PS1",
         "M8",
         "global",
         "global",
         "55903374",
         "0.8421052468524359",
         "before"
        ],
        [
         "39",
         "BS3",
         "D5",
         "global",
         "global",
         "56992898",
         "0.8325174268237729",
         "before"
        ],
        [
         "40",
         "BS4",
         "BC",
         "global",
         "global",
         "47755195",
         "0.6404726492126044",
         "before"
        ],
        [
         "41",
         "EM1",
         "D5",
         "global",
         "global",
         "57153350",
         "0.8363570772418347",
         "before"
        ],
        [
         "42",
         "PS1",
         "D5",
         "global",
         "global",
         "55694593",
         "0.8319043989347128",
         "before"
        ],
        [
         "43",
         "EM2",
         "D6",
         "global",
         "global",
         "57420266",
         "0.8816935664251077",
         "before"
        ],
        [
         "44",
         "EM1",
         "T4",
         "global",
         "global",
         "57445724",
         "0.8127392387544394",
         "before"
        ],
        [
         "45",
         "EM2",
         "T4",
         "global",
         "global",
         "57421433",
         "0.8838090991748305",
         "before"
        ],
        [
         "46",
         "BS1",
         "T2",
         "global",
         "global",
         "56383352",
         "0.7756641703372802",
         "before"
        ],
        [
         "47",
         "PS1",
         "BC",
         "global",
         "global",
         "54663719",
         "0.7021171275312962",
         "before"
        ],
        [
         "48",
         "BS3",
         "T1",
         "global",
         "global",
         "57335841",
         "0.8350742511950967",
         "before"
        ],
        [
         "49",
         "EM2",
         "T2",
         "global",
         "global",
         "57526539",
         "0.8924406446827663",
         "before"
        ]
       ],
       "shape": {
        "columns": 7,
        "rows": 240
       }
      },
      "text/html": [
       "<div><style>\n",
       ".dataframe > thead > tr,\n",
       ".dataframe > tbody > tr {\n",
       "  text-align: right;\n",
       "  white-space: pre-wrap;\n",
       "}\n",
       "</style>\n",
       "<small>shape: (240, 7)</small><table border=\"1\" class=\"dataframe\"><thead><tr><th>lab</th><th>label</th><th>feature</th><th>fgroup</th><th>count</th><th>spearmanr</th><th>treatment</th></tr><tr><td>str</td><td>str</td><td>str</td><td>str</td><td>i64</td><td>f64</td><td>str</td></tr></thead><tbody><tr><td>&quot;RR1&quot;</td><td>&quot;D6&quot;</td><td>&quot;global&quot;</td><td>&quot;global&quot;</td><td>8693900</td><td>0.842051</td><td>&quot;before&quot;</td></tr><tr><td>&quot;PS2&quot;</td><td>&quot;F7&quot;</td><td>&quot;global&quot;</td><td>&quot;global&quot;</td><td>55716840</td><td>0.792212</td><td>&quot;before&quot;</td></tr><tr><td>&quot;EM3&quot;</td><td>&quot;M8&quot;</td><td>&quot;global&quot;</td><td>&quot;global&quot;</td><td>57350099</td><td>0.909357</td><td>&quot;before&quot;</td></tr><tr><td>&quot;EM4&quot;</td><td>&quot;M8&quot;</td><td>&quot;global&quot;</td><td>&quot;global&quot;</td><td>57465392</td><td>0.876665</td><td>&quot;before&quot;</td></tr><tr><td>&quot;PS2&quot;</td><td>&quot;D6&quot;</td><td>&quot;global&quot;</td><td>&quot;global&quot;</td><td>55055046</td><td>0.783259</td><td>&quot;before&quot;</td></tr><tr><td>&hellip;</td><td>&hellip;</td><td>&hellip;</td><td>&hellip;</td><td>&hellip;</td><td>&hellip;</td><td>&hellip;</td></tr><tr><td>&quot;BS2&quot;</td><td>&quot;T4&quot;</td><td>&quot;global&quot;</td><td>&quot;global&quot;</td><td>57612028</td><td>0.872326</td><td>&quot;after&quot;</td></tr><tr><td>&quot;BS4&quot;</td><td>&quot;T1&quot;</td><td>&quot;global&quot;</td><td>&quot;global&quot;</td><td>47455185</td><td>0.649092</td><td>&quot;after&quot;</td></tr><tr><td>&quot;RR1&quot;</td><td>&quot;BC&quot;</td><td>&quot;global&quot;</td><td>&quot;global&quot;</td><td>8739303</td><td>0.859171</td><td>&quot;after&quot;</td></tr><tr><td>&quot;EM1&quot;</td><td>&quot;BL&quot;</td><td>&quot;global&quot;</td><td>&quot;global&quot;</td><td>56914483</td><td>0.882375</td><td>&quot;after&quot;</td></tr><tr><td>&quot;PS3&quot;</td><td>&quot;BL&quot;</td><td>&quot;global&quot;</td><td>&quot;global&quot;</td><td>56487630</td><td>0.926979</td><td>&quot;after&quot;</td></tr></tbody></table></div>"
      ],
      "text/plain": [
       "shape: (240, 7)\n",
       "┌─────┬───────┬─────────┬────────┬──────────┬───────────┬───────────┐\n",
       "│ lab ┆ label ┆ feature ┆ fgroup ┆ count    ┆ spearmanr ┆ treatment │\n",
       "│ --- ┆ ---   ┆ ---     ┆ ---    ┆ ---      ┆ ---       ┆ ---       │\n",
       "│ str ┆ str   ┆ str     ┆ str    ┆ i64      ┆ f64       ┆ str       │\n",
       "╞═════╪═══════╪═════════╪════════╪══════════╪═══════════╪═══════════╡\n",
       "│ RR1 ┆ D6    ┆ global  ┆ global ┆ 8693900  ┆ 0.842051  ┆ before    │\n",
       "│ PS2 ┆ F7    ┆ global  ┆ global ┆ 55716840 ┆ 0.792212  ┆ before    │\n",
       "│ EM3 ┆ M8    ┆ global  ┆ global ┆ 57350099 ┆ 0.909357  ┆ before    │\n",
       "│ EM4 ┆ M8    ┆ global  ┆ global ┆ 57465392 ┆ 0.876665  ┆ before    │\n",
       "│ PS2 ┆ D6    ┆ global  ┆ global ┆ 55055046 ┆ 0.783259  ┆ before    │\n",
       "│ …   ┆ …     ┆ …       ┆ …      ┆ …        ┆ …         ┆ …         │\n",
       "│ BS2 ┆ T4    ┆ global  ┆ global ┆ 57612028 ┆ 0.872326  ┆ after     │\n",
       "│ BS4 ┆ T1    ┆ global  ┆ global ┆ 47455185 ┆ 0.649092  ┆ after     │\n",
       "│ RR1 ┆ BC    ┆ global  ┆ global ┆ 8739303  ┆ 0.859171  ┆ after     │\n",
       "│ EM1 ┆ BL    ┆ global  ┆ global ┆ 56914483 ┆ 0.882375  ┆ after     │\n",
       "│ PS3 ┆ BL    ┆ global  ┆ global ┆ 56487630 ┆ 0.926979  ┆ after     │\n",
       "└─────┴───────┴─────────┴────────┴──────────┴───────────┴───────────┘"
      ]
     },
     "execution_count": 2,
     "metadata": {},
     "output_type": "execute_result"
    }
   ],
   "source": [
    "df: pl.DataFrame = (pl.concat([pl.scan_csv(f)\n",
    "                                 .unique(subset=['lab', 'label', 'feature', 'fgroup'],\n",
    "                                         keep='first')\n",
    "                                 .filter(pl.col('feature') == 'global')\n",
    "                                 .with_columns(pl.lit(n).alias('treatment'))\n",
    "                               for f, n in zip([before_spearmanr_f, after_spearmanr_f],\n",
    "                                               ['before', 'after'])])\n",
    "                      .collect())\n",
    "df"
   ]
  },
  {
   "cell_type": "code",
   "execution_count": 3,
   "id": "7b27df71",
   "metadata": {},
   "outputs": [
    {
     "data": {
      "application/vnd.microsoft.datawrangler.viewer.v0+json": {
       "columns": [
        {
         "name": "index",
         "rawType": "int64",
         "type": "integer"
        },
        {
         "name": "lab",
         "rawType": "object",
         "type": "string"
        },
        {
         "name": "label",
         "rawType": "object",
         "type": "string"
        },
        {
         "name": "before",
         "rawType": "float64",
         "type": "float"
        },
        {
         "name": "after",
         "rawType": "float64",
         "type": "float"
        },
        {
         "name": "diff",
         "rawType": "float64",
         "type": "float"
        }
       ],
       "ref": "d4812e8c-b16c-4720-b180-619db3070f7b",
       "rows": [
        [
         "0",
         "RR1",
         "D6",
         "0.8420505326614042",
         "0.8915511793203992",
         "0.04950064665899501"
        ],
        [
         "1",
         "PS2",
         "F7",
         "0.7922116435813027",
         "0.8070429594798968",
         "0.0148313158985941"
        ],
        [
         "2",
         "EM3",
         "M8",
         "0.909356518506437",
         "0.9230090406841114",
         "0.013652522177674431"
        ],
        [
         "3",
         "EM4",
         "M8",
         "0.8766648308072473",
         "0.8920773233084757",
         "0.015412492501228336"
        ],
        [
         "4",
         "PS2",
         "D6",
         "0.7832586572410001",
         "0.7989425283179517",
         "0.015683871076951572"
        ],
        [
         "5",
         "BS1",
         "T4",
         "0.7693014070366551",
         "0.7804844339968513",
         "0.01118302696019624"
        ],
        [
         "6",
         "EM4",
         "T4",
         "0.8750823301135482",
         "0.8908987222354557",
         "0.015816392121907552"
        ],
        [
         "7",
         "EM3",
         "T4",
         "0.8990906822146701",
         "0.9120878677698829",
         "0.012997185555212787"
        ],
        [
         "8",
         "EM3",
         "T1",
         "0.9068217866904018",
         "0.9201007961002965",
         "0.013279009409894682"
        ],
        [
         "9",
         "BS2",
         "D5",
         "0.8703703125591485",
         "0.8854266228903566",
         "0.015056310331208023"
        ],
        [
         "10",
         "EM2",
         "T1",
         "0.8854205628220294",
         "0.9027648835567919",
         "0.017344320734762442"
        ],
        [
         "11",
         "PS2",
         "BC",
         "0.7029012331021998",
         "0.7591026047615378",
         "0.05620137165933803"
        ],
        [
         "12",
         "BS2",
         "T4",
         "0.8560957809044399",
         "0.872326318841526",
         "0.016230537937086065"
        ],
        [
         "13",
         "PS3",
         "T3",
         "0.8663340307517073",
         "0.8840815151024034",
         "0.017747484350696063"
        ],
        [
         "14",
         "PS1",
         "T3",
         "0.8203803407643855",
         "0.8356658808024842",
         "0.015285540038098677"
        ],
        [
         "15",
         "PS2",
         "D5",
         "0.8221884538747773",
         "0.8361437338111041",
         "0.013955279936326725"
        ],
        [
         "16",
         "BS2",
         "F7",
         "0.8467262302563164",
         "0.8652247425482831",
         "0.01849851229196664"
        ],
        [
         "17",
         "RR1",
         "M8",
         "0.8441545284393064",
         "0.8832468423806021",
         "0.03909231394129575"
        ],
        [
         "18",
         "PS2",
         "T1",
         "0.8257121197239301",
         "0.8401638804268091",
         "0.014451760702879013"
        ],
        [
         "19",
         "RR1",
         "BL",
         "0.8655679671753379",
         "0.9130216728586622",
         "0.0474537056833243"
        ],
        [
         "20",
         "PS2",
         "T4",
         "0.7845179499164736",
         "0.8008064610317989",
         "0.016288511115325255"
        ],
        [
         "21",
         "EM2",
         "M8",
         "0.8971806284900682",
         "0.9114596190949553",
         "0.014278990604887132"
        ],
        [
         "22",
         "PS3",
         "BC",
         "0.7090999531522904",
         "0.787567343183349",
         "0.07846739003105863"
        ],
        [
         "23",
         "BS3",
         "M8",
         "0.8255490336096993",
         "0.8379654574540066",
         "0.0124164238443073"
        ],
        [
         "24",
         "PS3",
         "D5",
         "0.8691648676014315",
         "0.8890736056258373",
         "0.019908738024405737"
        ],
        [
         "25",
         "PS3",
         "BL",
         "0.9032382456122737",
         "0.9269793426605148",
         "0.023741097048241122"
        ],
        [
         "26",
         "PS2",
         "T2",
         "0.8193215990928552",
         "0.8339077794056202",
         "0.01458618031276504"
        ],
        [
         "27",
         "BS3",
         "T4",
         "0.8221404516525717",
         "0.836648305788266",
         "0.014507854135694331"
        ],
        [
         "28",
         "BS1",
         "BL",
         "0.8734939420596628",
         "0.8780916804675841",
         "0.004597738407921326"
        ],
        [
         "29",
         "BS2",
         "T3",
         "0.8680673937451213",
         "0.8841359061527981",
         "0.016068512407676816"
        ],
        [
         "30",
         "EM4",
         "BC",
         "0.7383337036441131",
         "0.7626399437230124",
         "0.024306240078899255"
        ],
        [
         "31",
         "RR1",
         "T1",
         "0.8336908730665512",
         "0.8841358517334531",
         "0.050444978666901896"
        ],
        [
         "32",
         "EM3",
         "D6",
         "0.8957374604203266",
         "0.9089011795744161",
         "0.013163719154089426"
        ],
        [
         "33",
         "PS1",
         "T1",
         "0.820338907415962",
         "0.8369836257953147",
         "0.016644718379352663"
        ],
        [
         "34",
         "BS4",
         "D5",
         "0.6130600837213798",
         "0.6567555197665846",
         "0.04369543604520487"
        ],
        [
         "35",
         "RR1",
         "D5",
         "0.8371423265447955",
         "0.8897569529858884",
         "0.05261462644109294"
        ],
        [
         "36",
         "PS3",
         "T1",
         "0.8739812507646829",
         "0.8925181050320796",
         "0.018536854267396707"
        ],
        [
         "37",
         "BS3",
         "T3",
         "0.8198508922437561",
         "0.8333891433993771",
         "0.013538251155621017"
        ],
        [
         "38",
         "PS1",
         "M8",
         "0.8421052468524359",
         "0.8565202865536127",
         "0.014415039701176746"
        ],
        [
         "39",
         "BS3",
         "D5",
         "0.8325174268237729",
         "0.8442064879422517",
         "0.011689061118478783"
        ],
        [
         "40",
         "BS4",
         "BC",
         "0.6404726492126044",
         "0.6810560705729004",
         "0.040583421360296024"
        ],
        [
         "41",
         "EM1",
         "D5",
         "0.8363570772418347",
         "0.8567381027544728",
         "0.020381025512638096"
        ],
        [
         "42",
         "PS1",
         "D5",
         "0.8319043989347128",
         "0.8474979986037204",
         "0.01559359966900764"
        ],
        [
         "43",
         "EM2",
         "D6",
         "0.8816935664251077",
         "0.8958730921935871",
         "0.014179525768479473"
        ],
        [
         "44",
         "EM1",
         "T4",
         "0.8127392387544394",
         "0.8272330859419107",
         "0.014493847187471265"
        ],
        [
         "45",
         "EM2",
         "T4",
         "0.8838090991748305",
         "0.8987768668369958",
         "0.014967767662165232"
        ],
        [
         "46",
         "BS1",
         "T2",
         "0.7756641703372802",
         "0.7873678470500979",
         "0.01170367671281769"
        ],
        [
         "47",
         "PS1",
         "BC",
         "0.7021171275312962",
         "0.7635829503314828",
         "0.06146582280018664"
        ],
        [
         "48",
         "BS3",
         "T1",
         "0.8350742511950967",
         "0.8483150956002715",
         "0.013240844405174812"
        ],
        [
         "49",
         "EM2",
         "T2",
         "0.8924406446827663",
         "0.9067673045205918",
         "0.01432665983782555"
        ]
       ],
       "shape": {
        "columns": 5,
        "rows": 120
       }
      },
      "text/html": [
       "<div><style>\n",
       ".dataframe > thead > tr,\n",
       ".dataframe > tbody > tr {\n",
       "  text-align: right;\n",
       "  white-space: pre-wrap;\n",
       "}\n",
       "</style>\n",
       "<small>shape: (120, 5)</small><table border=\"1\" class=\"dataframe\"><thead><tr><th>lab</th><th>label</th><th>before</th><th>after</th><th>diff</th></tr><tr><td>str</td><td>str</td><td>f64</td><td>f64</td><td>f64</td></tr></thead><tbody><tr><td>&quot;RR1&quot;</td><td>&quot;D6&quot;</td><td>0.842051</td><td>0.891551</td><td>0.049501</td></tr><tr><td>&quot;PS2&quot;</td><td>&quot;F7&quot;</td><td>0.792212</td><td>0.807043</td><td>0.014831</td></tr><tr><td>&quot;EM3&quot;</td><td>&quot;M8&quot;</td><td>0.909357</td><td>0.923009</td><td>0.013653</td></tr><tr><td>&quot;EM4&quot;</td><td>&quot;M8&quot;</td><td>0.876665</td><td>0.892077</td><td>0.015412</td></tr><tr><td>&quot;PS2&quot;</td><td>&quot;D6&quot;</td><td>0.783259</td><td>0.798943</td><td>0.015684</td></tr><tr><td>&hellip;</td><td>&hellip;</td><td>&hellip;</td><td>&hellip;</td><td>&hellip;</td></tr><tr><td>&quot;BS4&quot;</td><td>&quot;T2&quot;</td><td>0.605068</td><td>0.646924</td><td>0.041855</td></tr><tr><td>&quot;EM4&quot;</td><td>&quot;T3&quot;</td><td>0.871139</td><td>0.886077</td><td>0.014938</td></tr><tr><td>&quot;PS2&quot;</td><td>&quot;M8&quot;</td><td>0.830973</td><td>0.845633</td><td>0.014661</td></tr><tr><td>&quot;EM2&quot;</td><td>&quot;BC&quot;</td><td>0.764036</td><td>0.778999</td><td>0.014963</td></tr><tr><td>&quot;PS1&quot;</td><td>&quot;F7&quot;</td><td>0.789226</td><td>0.806628</td><td>0.017402</td></tr></tbody></table></div>"
      ],
      "text/plain": [
       "shape: (120, 5)\n",
       "┌─────┬───────┬──────────┬──────────┬──────────┐\n",
       "│ lab ┆ label ┆ before   ┆ after    ┆ diff     │\n",
       "│ --- ┆ ---   ┆ ---      ┆ ---      ┆ ---      │\n",
       "│ str ┆ str   ┆ f64      ┆ f64      ┆ f64      │\n",
       "╞═════╪═══════╪══════════╪══════════╪══════════╡\n",
       "│ RR1 ┆ D6    ┆ 0.842051 ┆ 0.891551 ┆ 0.049501 │\n",
       "│ PS2 ┆ F7    ┆ 0.792212 ┆ 0.807043 ┆ 0.014831 │\n",
       "│ EM3 ┆ M8    ┆ 0.909357 ┆ 0.923009 ┆ 0.013653 │\n",
       "│ EM4 ┆ M8    ┆ 0.876665 ┆ 0.892077 ┆ 0.015412 │\n",
       "│ PS2 ┆ D6    ┆ 0.783259 ┆ 0.798943 ┆ 0.015684 │\n",
       "│ …   ┆ …     ┆ …        ┆ …        ┆ …        │\n",
       "│ BS4 ┆ T2    ┆ 0.605068 ┆ 0.646924 ┆ 0.041855 │\n",
       "│ EM4 ┆ T3    ┆ 0.871139 ┆ 0.886077 ┆ 0.014938 │\n",
       "│ PS2 ┆ M8    ┆ 0.830973 ┆ 0.845633 ┆ 0.014661 │\n",
       "│ EM2 ┆ BC    ┆ 0.764036 ┆ 0.778999 ┆ 0.014963 │\n",
       "│ PS1 ┆ F7    ┆ 0.789226 ┆ 0.806628 ┆ 0.017402 │\n",
       "└─────┴───────┴──────────┴──────────┴──────────┘"
      ]
     },
     "execution_count": 3,
     "metadata": {},
     "output_type": "execute_result"
    }
   ],
   "source": [
    "df_pivot: pl.DataFrame = (df.pivot(on='treatment',\n",
    "                                   index=['lab', 'label'],\n",
    "                                   values='spearmanr')\n",
    "                            .with_columns((pl.col('after') - pl.col('before')).alias('diff')))\n",
    "df_pivot"
   ]
  },
  {
   "cell_type": "code",
   "execution_count": 4,
   "id": "0b45869c",
   "metadata": {},
   "outputs": [],
   "source": [
    "def run_paired_test(before: pl.Series,\n",
    "                    after: pl.Series,\n",
    "                    alpha: float = .05):\n",
    "    diff: pl.Series = (before - after).alias('diff')\n",
    "\n",
    "    # Normality Test\n",
    "    shapiro_stat, shapiro_p = stats.shapiro(diff)\n",
    "\n",
    "    print(f'Shapiro-Wilk Normality Test: W={shapiro_stat:.3f}, p={shapiro_p:.3f}')\n",
    "    if shapiro_p > 0.05:\n",
    "        print('✅ Normality Test passed. t test can be used.')\n",
    "        t_stat, p_val = stats.ttest_rel(after, before)\n",
    "        print(f'\\n👉 t test result:')\n",
    "        print(f'  t = {t_stat:.3f}, samples = {diff.shape[0]}, p = {p_val:.3e}')\n",
    "        print(f'  average diff = {diff.mean():.3f}')\n",
    "        test_type = 't test'\n",
    "        avg_diff = diff.mean()\n",
    "    else:\n",
    "        print('❌ Normality Test failed. Wilcoxon test will be used.')\n",
    "        w_stat, p_val = stats.wilcoxon(before, after)\n",
    "        print(f'\\n👉 Wilcoxon test result:')\n",
    "        print(f'  W = {w_stat:.0f}, p = {p_val:.3e}')\n",
    "        print(f'  median diff = {diff.median():.3f}')\n",
    "        print(f'  average diff = {diff.mean():.3f}')\n",
    "        test_type = 'Wilcoxon'\n",
    "        avg_diff = diff.median()\n",
    "\n",
    "    change_pct = (after.mean() - before.mean()) / before.mean() * 100\n",
    "\n",
    "    if p_val < alpha:\n",
    "        print('✅ There is a significant difference between before and after treatment (p < 0.05)')\n",
    "    else:\n",
    "        print('❌ There is no significant difference between before and after treatment (p ≥ 0.05)')\n",
    "\n",
    "    significant: bool = True if p_val < alpha else False\n",
    "\n",
    "    return avg_diff, change_pct, test_type, p_val"
   ]
  },
  {
   "cell_type": "code",
   "execution_count": 8,
   "id": "aa1f7edf",
   "metadata": {},
   "outputs": [
    {
     "name": "stdout",
     "output_type": "stream",
     "text": [
      "Shapiro-Wilk Normality Test: W=0.708, p=0.000\n",
      "❌ Normality Test failed. Wilcoxon test will be used.\n",
      "\n",
      "👉 Wilcoxon test result:\n",
      "  W = 0, p = 1.972e-21\n",
      "  median diff = 0.015\n",
      "  average diff = 0.022\n",
      "✅ There is a significant difference between before and after treatment (p < 0.05)\n"
     ]
    },
    {
     "data": {
      "text/plain": [
       "(0.015119114022945468, -2.5668009331560513, 'Wilcoxon', 1.9719517121524354e-21)"
      ]
     },
     "execution_count": 8,
     "metadata": {},
     "output_type": "execute_result"
    }
   ],
   "source": [
    "run_paired_test(before=df_pivot['after'],\n",
    "                after=df_pivot['before'])"
   ]
  },
  {
   "cell_type": "code",
   "execution_count": 5,
   "id": "7b176755",
   "metadata": {},
   "outputs": [
    {
     "name": "stdout",
     "output_type": "stream",
     "text": [
      "--------------------------------------------------\n",
      "Label: BC\n",
      "Shapiro-Wilk Normality Test: W=0.905, p=0.183\n",
      "✅ Normality Test passed. t test can be used.\n",
      "\n",
      "👉 t test result:\n",
      "  t = 5.034, samples = 12, p = 3.813e-04\n",
      "  average diff = -0.037\n",
      "✅ There is a significant difference between before and after treatment (p < 0.05)\n",
      "--------------------------------------------------\n",
      "Label: BL\n",
      "Shapiro-Wilk Normality Test: W=0.818, p=0.015\n",
      "❌ Normality Test failed. Wilcoxon test will be used.\n",
      "\n",
      "👉 Wilcoxon test result:\n",
      "  W = 0, p = 4.883e-04\n",
      "  median diff = -0.014\n",
      "  average diff = -0.015\n",
      "✅ There is a significant difference between before and after treatment (p < 0.05)\n",
      "--------------------------------------------------\n",
      "Label: D5\n",
      "Shapiro-Wilk Normality Test: W=0.660, p=0.000\n",
      "❌ Normality Test failed. Wilcoxon test will be used.\n",
      "\n",
      "👉 Wilcoxon test result:\n",
      "  W = 0, p = 4.883e-04\n",
      "  median diff = -0.015\n",
      "  average diff = -0.021\n",
      "✅ There is a significant difference between before and after treatment (p < 0.05)\n",
      "--------------------------------------------------\n",
      "Label: D6\n",
      "Shapiro-Wilk Normality Test: W=0.567, p=0.000\n",
      "❌ Normality Test failed. Wilcoxon test will be used.\n",
      "\n",
      "👉 Wilcoxon test result:\n",
      "  W = 0, p = 4.883e-04\n",
      "  median diff = -0.015\n",
      "  average diff = -0.021\n",
      "✅ There is a significant difference between before and after treatment (p < 0.05)\n",
      "--------------------------------------------------\n",
      "Label: F7\n",
      "Shapiro-Wilk Normality Test: W=0.648, p=0.000\n",
      "❌ Normality Test failed. Wilcoxon test will be used.\n",
      "\n",
      "👉 Wilcoxon test result:\n",
      "  W = 0, p = 4.883e-04\n",
      "  median diff = -0.017\n",
      "  average diff = -0.023\n",
      "✅ There is a significant difference between before and after treatment (p < 0.05)\n",
      "--------------------------------------------------\n",
      "Label: M8\n",
      "Shapiro-Wilk Normality Test: W=0.646, p=0.000\n",
      "❌ Normality Test failed. Wilcoxon test will be used.\n",
      "\n",
      "👉 Wilcoxon test result:\n",
      "  W = 0, p = 4.883e-04\n",
      "  median diff = -0.015\n",
      "  average diff = -0.019\n",
      "✅ There is a significant difference between before and after treatment (p < 0.05)\n",
      "--------------------------------------------------\n",
      "Label: T1\n",
      "Shapiro-Wilk Normality Test: W=0.625, p=0.000\n",
      "❌ Normality Test failed. Wilcoxon test will be used.\n",
      "\n",
      "👉 Wilcoxon test result:\n",
      "  W = 0, p = 4.883e-04\n",
      "  median diff = -0.015\n",
      "  average diff = -0.020\n",
      "✅ There is a significant difference between before and after treatment (p < 0.05)\n",
      "--------------------------------------------------\n",
      "Label: T2\n",
      "Shapiro-Wilk Normality Test: W=0.610, p=0.000\n",
      "❌ Normality Test failed. Wilcoxon test will be used.\n",
      "\n",
      "👉 Wilcoxon test result:\n",
      "  W = 0, p = 4.883e-04\n",
      "  median diff = -0.014\n",
      "  average diff = -0.020\n",
      "✅ There is a significant difference between before and after treatment (p < 0.05)\n",
      "--------------------------------------------------\n",
      "Label: T3\n",
      "Shapiro-Wilk Normality Test: W=0.558, p=0.000\n",
      "❌ Normality Test failed. Wilcoxon test will be used.\n",
      "\n",
      "👉 Wilcoxon test result:\n",
      "  W = 0, p = 4.883e-04\n",
      "  median diff = -0.015\n",
      "  average diff = -0.021\n",
      "✅ There is a significant difference between before and after treatment (p < 0.05)\n",
      "--------------------------------------------------\n",
      "Label: T4\n",
      "Shapiro-Wilk Normality Test: W=0.615, p=0.000\n",
      "❌ Normality Test failed. Wilcoxon test will be used.\n",
      "\n",
      "👉 Wilcoxon test result:\n",
      "  W = 0, p = 4.883e-04\n",
      "  median diff = -0.015\n",
      "  average diff = -0.020\n",
      "✅ There is a significant difference between before and after treatment (p < 0.05)\n"
     ]
    }
   ],
   "source": [
    "label_test_results = []\n",
    "for label in ['BC', 'BL', 'D5', 'D6', 'F7', 'M8', 'T1', 'T2', 'T3', 'T4']:\n",
    "    print('-' * 50)\n",
    "    print(f'Label: {label}')\n",
    "    (avg_diff,\n",
    "     change_pct,\n",
    "     test_type,\n",
    "     p_val) = run_paired_test(before=df_pivot.filter(pl.col('label') == label)['before'],\n",
    "                              after=df_pivot.filter(pl.col('label') == label)['after'])\n",
    "    label_test_results.append({\n",
    "        'label': label, 'Average Diff': avg_diff,\n",
    "        'Average Diff Change (%)': change_pct,\n",
    "        'Test Type': test_type, 'p value': p_val\n",
    "    })\n",
    "label_test_results_df = pd.DataFrame(label_test_results)"
   ]
  },
  {
   "cell_type": "code",
   "execution_count": 6,
   "id": "31be5837",
   "metadata": {},
   "outputs": [
    {
     "data": {
      "application/vnd.microsoft.datawrangler.viewer.v0+json": {
       "columns": [
        {
         "name": "index",
         "rawType": "int64",
         "type": "integer"
        },
        {
         "name": "label",
         "rawType": "object",
         "type": "string"
        },
        {
         "name": "Average Diff",
         "rawType": "float64",
         "type": "float"
        },
        {
         "name": "Average Diff Change (%)",
         "rawType": "float64",
         "type": "float"
        },
        {
         "name": "Test Type",
         "rawType": "object",
         "type": "string"
        },
        {
         "name": "p value",
         "rawType": "float64",
         "type": "float"
        }
       ],
       "ref": "f31e16e0-e904-464c-b066-bac6e071e02c",
       "rows": [
        [
         "0",
         "BC",
         "-0.03746462030541029",
         "5.105647761500374",
         "t test",
         "0.0003812936404007196"
        ],
        [
         "1",
         "BL",
         "-0.014403341999936314",
         "1.7451364862170982",
         "Wilcoxon",
         "0.00048828125"
        ],
        [
         "2",
         "D5",
         "-0.014906917320638147",
         "2.4783956899641644",
         "Wilcoxon",
         "0.00048828125"
        ],
        [
         "3",
         "D6",
         "-0.015383179406785907",
         "2.5821006452718493",
         "Wilcoxon",
         "0.00048828125"
        ],
        [
         "4",
         "F7",
         "-0.01683750728922445",
         "2.7812538300874317",
         "Wilcoxon",
         "0.00048828125"
        ],
        [
         "5",
         "M8",
         "-0.01453793169275397",
         "2.2208789747814137",
         "Wilcoxon",
         "0.00048828125"
        ],
        [
         "6",
         "T1",
         "-0.015224075634419854",
         "2.438213958590495",
         "Wilcoxon",
         "0.00048828125"
        ],
        [
         "7",
         "T2",
         "-0.014456420075295295",
         "2.3743194309209192",
         "Wilcoxon",
         "0.00048828125"
        ],
        [
         "8",
         "T3",
         "-0.014886047683190795",
         "2.5375484488600155",
         "Wilcoxon",
         "0.00048828125"
        ],
        [
         "9",
         "T4",
         "-0.015392079892036392",
         "2.4182140133212022",
         "Wilcoxon",
         "0.00048828125"
        ]
       ],
       "shape": {
        "columns": 5,
        "rows": 10
       }
      },
      "text/html": [
       "<div>\n",
       "<style scoped>\n",
       "    .dataframe tbody tr th:only-of-type {\n",
       "        vertical-align: middle;\n",
       "    }\n",
       "\n",
       "    .dataframe tbody tr th {\n",
       "        vertical-align: top;\n",
       "    }\n",
       "\n",
       "    .dataframe thead th {\n",
       "        text-align: right;\n",
       "    }\n",
       "</style>\n",
       "<table border=\"1\" class=\"dataframe\">\n",
       "  <thead>\n",
       "    <tr style=\"text-align: right;\">\n",
       "      <th></th>\n",
       "      <th>label</th>\n",
       "      <th>Average Diff</th>\n",
       "      <th>Average Diff Change (%)</th>\n",
       "      <th>Test Type</th>\n",
       "      <th>p value</th>\n",
       "    </tr>\n",
       "  </thead>\n",
       "  <tbody>\n",
       "    <tr>\n",
       "      <th>0</th>\n",
       "      <td>BC</td>\n",
       "      <td>-0.037465</td>\n",
       "      <td>5.105648</td>\n",
       "      <td>t test</td>\n",
       "      <td>0.000381</td>\n",
       "    </tr>\n",
       "    <tr>\n",
       "      <th>1</th>\n",
       "      <td>BL</td>\n",
       "      <td>-0.014403</td>\n",
       "      <td>1.745136</td>\n",
       "      <td>Wilcoxon</td>\n",
       "      <td>0.000488</td>\n",
       "    </tr>\n",
       "    <tr>\n",
       "      <th>2</th>\n",
       "      <td>D5</td>\n",
       "      <td>-0.014907</td>\n",
       "      <td>2.478396</td>\n",
       "      <td>Wilcoxon</td>\n",
       "      <td>0.000488</td>\n",
       "    </tr>\n",
       "    <tr>\n",
       "      <th>3</th>\n",
       "      <td>D6</td>\n",
       "      <td>-0.015383</td>\n",
       "      <td>2.582101</td>\n",
       "      <td>Wilcoxon</td>\n",
       "      <td>0.000488</td>\n",
       "    </tr>\n",
       "    <tr>\n",
       "      <th>4</th>\n",
       "      <td>F7</td>\n",
       "      <td>-0.016838</td>\n",
       "      <td>2.781254</td>\n",
       "      <td>Wilcoxon</td>\n",
       "      <td>0.000488</td>\n",
       "    </tr>\n",
       "    <tr>\n",
       "      <th>5</th>\n",
       "      <td>M8</td>\n",
       "      <td>-0.014538</td>\n",
       "      <td>2.220879</td>\n",
       "      <td>Wilcoxon</td>\n",
       "      <td>0.000488</td>\n",
       "    </tr>\n",
       "    <tr>\n",
       "      <th>6</th>\n",
       "      <td>T1</td>\n",
       "      <td>-0.015224</td>\n",
       "      <td>2.438214</td>\n",
       "      <td>Wilcoxon</td>\n",
       "      <td>0.000488</td>\n",
       "    </tr>\n",
       "    <tr>\n",
       "      <th>7</th>\n",
       "      <td>T2</td>\n",
       "      <td>-0.014456</td>\n",
       "      <td>2.374319</td>\n",
       "      <td>Wilcoxon</td>\n",
       "      <td>0.000488</td>\n",
       "    </tr>\n",
       "    <tr>\n",
       "      <th>8</th>\n",
       "      <td>T3</td>\n",
       "      <td>-0.014886</td>\n",
       "      <td>2.537548</td>\n",
       "      <td>Wilcoxon</td>\n",
       "      <td>0.000488</td>\n",
       "    </tr>\n",
       "    <tr>\n",
       "      <th>9</th>\n",
       "      <td>T4</td>\n",
       "      <td>-0.015392</td>\n",
       "      <td>2.418214</td>\n",
       "      <td>Wilcoxon</td>\n",
       "      <td>0.000488</td>\n",
       "    </tr>\n",
       "  </tbody>\n",
       "</table>\n",
       "</div>"
      ],
      "text/plain": [
       "  label  Average Diff  Average Diff Change (%) Test Type   p value\n",
       "0    BC     -0.037465                 5.105648    t test  0.000381\n",
       "1    BL     -0.014403                 1.745136  Wilcoxon  0.000488\n",
       "2    D5     -0.014907                 2.478396  Wilcoxon  0.000488\n",
       "3    D6     -0.015383                 2.582101  Wilcoxon  0.000488\n",
       "4    F7     -0.016838                 2.781254  Wilcoxon  0.000488\n",
       "5    M8     -0.014538                 2.220879  Wilcoxon  0.000488\n",
       "6    T1     -0.015224                 2.438214  Wilcoxon  0.000488\n",
       "7    T2     -0.014456                 2.374319  Wilcoxon  0.000488\n",
       "8    T3     -0.014886                 2.537548  Wilcoxon  0.000488\n",
       "9    T4     -0.015392                 2.418214  Wilcoxon  0.000488"
      ]
     },
     "execution_count": 6,
     "metadata": {},
     "output_type": "execute_result"
    }
   ],
   "source": [
    "label_test_results_df"
   ]
  },
  {
   "cell_type": "code",
   "execution_count": 10,
   "id": "72ebc061",
   "metadata": {},
   "outputs": [],
   "source": [
    "label_test_results_df.to_csv(\n",
    "    '/mnt/eqa/zhangyuanfeng/methylation/data_for_plot/6_methcali/spearmanr_label_test_result.csv',\n",
    "    index=False\n",
    ")"
   ]
  },
  {
   "cell_type": "code",
   "execution_count": 8,
   "id": "085c8343",
   "metadata": {},
   "outputs": [
    {
     "name": "stdout",
     "output_type": "stream",
     "text": [
      "--------------------------------------------------\n",
      "Label: BS1\n",
      "Shapiro-Wilk Normality Test: W=0.756, p=0.004\n",
      "❌ Normality Test failed. Wilcoxon test will be used.\n",
      "\n",
      "👉 Wilcoxon test result:\n",
      "  W = 0, p = 1.953e-03\n",
      "  median diff = -0.011\n",
      "  average diff = -0.010\n",
      "✅ There is a significant difference between before and after treatment (p < 0.05)\n",
      "--------------------------------------------------\n",
      "Label: BS2\n",
      "Shapiro-Wilk Normality Test: W=0.786, p=0.010\n",
      "❌ Normality Test failed. Wilcoxon test will be used.\n",
      "\n",
      "👉 Wilcoxon test result:\n",
      "  W = 0, p = 1.953e-03\n",
      "  median diff = -0.016\n",
      "  average diff = -0.017\n",
      "✅ There is a significant difference between before and after treatment (p < 0.05)\n",
      "--------------------------------------------------\n",
      "Label: BS3\n",
      "Shapiro-Wilk Normality Test: W=0.863, p=0.082\n",
      "✅ Normality Test passed. t test can be used.\n",
      "\n",
      "👉 t test result:\n",
      "  t = 17.958, samples = 10, p = 2.342e-08\n",
      "  average diff = -0.012\n",
      "✅ There is a significant difference between before and after treatment (p < 0.05)\n",
      "--------------------------------------------------\n",
      "Label: BS4\n",
      "Shapiro-Wilk Normality Test: W=0.742, p=0.003\n",
      "❌ Normality Test failed. Wilcoxon test will be used.\n",
      "\n",
      "👉 Wilcoxon test result:\n",
      "  W = 0, p = 1.953e-03\n",
      "  median diff = -0.043\n",
      "  average diff = -0.042\n",
      "✅ There is a significant difference between before and after treatment (p < 0.05)\n",
      "--------------------------------------------------\n",
      "Label: EM1\n",
      "Shapiro-Wilk Normality Test: W=0.931, p=0.458\n",
      "✅ Normality Test passed. t test can be used.\n",
      "\n",
      "👉 t test result:\n",
      "  t = 9.106, samples = 10, p = 7.761e-06\n",
      "  average diff = -0.013\n",
      "✅ There is a significant difference between before and after treatment (p < 0.05)\n",
      "--------------------------------------------------\n",
      "Label: EM2\n",
      "Shapiro-Wilk Normality Test: W=0.755, p=0.004\n",
      "❌ Normality Test failed. Wilcoxon test will be used.\n",
      "\n",
      "👉 Wilcoxon test result:\n",
      "  W = 0, p = 1.953e-03\n",
      "  median diff = -0.015\n",
      "  average diff = -0.015\n",
      "✅ There is a significant difference between before and after treatment (p < 0.05)\n",
      "--------------------------------------------------\n",
      "Label: EM3\n",
      "Shapiro-Wilk Normality Test: W=0.415, p=0.000\n",
      "❌ Normality Test failed. Wilcoxon test will be used.\n",
      "\n",
      "👉 Wilcoxon test result:\n",
      "  W = 0, p = 1.953e-03\n",
      "  median diff = -0.014\n",
      "  average diff = -0.019\n",
      "✅ There is a significant difference between before and after treatment (p < 0.05)\n",
      "--------------------------------------------------\n",
      "Label: EM4\n",
      "Shapiro-Wilk Normality Test: W=0.622, p=0.000\n",
      "❌ Normality Test failed. Wilcoxon test will be used.\n",
      "\n",
      "👉 Wilcoxon test result:\n",
      "  W = 0, p = 1.953e-03\n",
      "  median diff = -0.015\n",
      "  average diff = -0.016\n",
      "✅ There is a significant difference between before and after treatment (p < 0.05)\n",
      "--------------------------------------------------\n",
      "Label: PS1\n",
      "Shapiro-Wilk Normality Test: W=0.443, p=0.000\n",
      "❌ Normality Test failed. Wilcoxon test will be used.\n",
      "\n",
      "👉 Wilcoxon test result:\n",
      "  W = 0, p = 1.953e-03\n",
      "  median diff = -0.016\n",
      "  average diff = -0.021\n",
      "✅ There is a significant difference between before and after treatment (p < 0.05)\n",
      "--------------------------------------------------\n",
      "Label: PS2\n",
      "Shapiro-Wilk Normality Test: W=0.448, p=0.000\n",
      "❌ Normality Test failed. Wilcoxon test will be used.\n",
      "\n",
      "👉 Wilcoxon test result:\n",
      "  W = 0, p = 1.953e-03\n",
      "  median diff = -0.015\n",
      "  average diff = -0.019\n",
      "✅ There is a significant difference between before and after treatment (p < 0.05)\n",
      "--------------------------------------------------\n",
      "Label: PS3\n",
      "Shapiro-Wilk Normality Test: W=0.459, p=0.000\n",
      "❌ Normality Test failed. Wilcoxon test will be used.\n",
      "\n",
      "👉 Wilcoxon test result:\n",
      "  W = 0, p = 1.953e-03\n",
      "  median diff = -0.019\n",
      "  average diff = -0.025\n",
      "✅ There is a significant difference between before and after treatment (p < 0.05)\n",
      "--------------------------------------------------\n",
      "Label: RR1\n",
      "Shapiro-Wilk Normality Test: W=0.932, p=0.470\n",
      "✅ Normality Test passed. t test can be used.\n",
      "\n",
      "👉 t test result:\n",
      "  t = 25.449, samples = 10, p = 1.075e-09\n",
      "  average diff = -0.049\n",
      "✅ There is a significant difference between before and after treatment (p < 0.05)\n"
     ]
    }
   ],
   "source": [
    "lab_test_results = []\n",
    "for lab in ['BS1', 'BS2', 'BS3', 'BS4', 'EM1', 'EM2',\n",
    "            'EM3', 'EM4', 'PS1', 'PS2', 'PS3', 'RR1']:\n",
    "    print('-' * 50)\n",
    "    print(f'Label: {lab}')\n",
    "    (avg_diff,\n",
    "     change_pct,\n",
    "     test_type,\n",
    "     p_val) = run_paired_test(before=df_pivot.filter(pl.col('lab') == lab)['before'],\n",
    "                              after=df_pivot.filter(pl.col('lab') == lab)['after'])\n",
    "    lab_test_results.append({\n",
    "        'lab': lab, 'Average Diff': avg_diff,\n",
    "        'Average Diff Change (%)': change_pct,\n",
    "        'Test Type': test_type, 'p value': p_val\n",
    "    })\n",
    "lab_test_results_df = pd.DataFrame(lab_test_results)"
   ]
  },
  {
   "cell_type": "code",
   "execution_count": 9,
   "id": "f90056bb",
   "metadata": {},
   "outputs": [
    {
     "data": {
      "application/vnd.microsoft.datawrangler.viewer.v0+json": {
       "columns": [
        {
         "name": "index",
         "rawType": "int64",
         "type": "integer"
        },
        {
         "name": "lab",
         "rawType": "object",
         "type": "string"
        },
        {
         "name": "Average Diff",
         "rawType": "float64",
         "type": "float"
        },
        {
         "name": "Average Diff Change (%)",
         "rawType": "float64",
         "type": "float"
        },
        {
         "name": "Test Type",
         "rawType": "object",
         "type": "string"
        },
        {
         "name": "p value",
         "rawType": "float64",
         "type": "float"
        }
       ],
       "ref": "9969a5d2-8216-4c27-ad95-60662c4ba08c",
       "rows": [
        [
         "0",
         "BS1",
         "-0.011403786628595924",
         "1.3435952873765447",
         "Wilcoxon",
         "0.001953125"
        ],
        [
         "1",
         "BS2",
         "-0.016048532338691968",
         "1.9470951093112827",
         "Wilcoxon",
         "0.001953125"
        ],
        [
         "2",
         "BS3",
         "-0.01243763881721791",
         "1.5243919474103191",
         "t test",
         "2.3421384892079207e-08"
        ],
        [
         "3",
         "BS4",
         "-0.04333291922265714",
         "7.003125669573654",
         "Wilcoxon",
         "0.001953125"
        ],
        [
         "4",
         "EM1",
         "-0.012787965153239845",
         "1.5453636853865413",
         "t test",
         "7.760538196788656e-06"
        ],
        [
         "5",
         "EM2",
         "-0.014820635218059486",
         "1.7115024469632893",
         "Wilcoxon",
         "0.001953125"
        ],
        [
         "6",
         "EM3",
         "-0.013727082373674038",
         "2.125973098544095",
         "Wilcoxon",
         "0.001953125"
        ],
        [
         "7",
         "EM4",
         "-0.014916034092126051",
         "1.8462391207655682",
         "Wilcoxon",
         "0.001953125"
        ],
        [
         "8",
         "PS1",
         "-0.015830788449038014",
         "2.5307976794107354",
         "Wilcoxon",
         "0.001953125"
        ],
        [
         "9",
         "PS2",
         "-0.01477986401129433",
         "2.414888378688684",
         "Wilcoxon",
         "0.001953125"
        ],
        [
         "10",
         "PS3",
         "-0.018717509636424212",
         "2.947507487172049",
         "Wilcoxon",
         "0.001953125"
        ],
        [
         "11",
         "RR1",
         "-0.04899815754827187",
         "5.863503611629273",
         "t test",
         "1.0746637167788765e-09"
        ]
       ],
       "shape": {
        "columns": 5,
        "rows": 12
       }
      },
      "text/html": [
       "<div>\n",
       "<style scoped>\n",
       "    .dataframe tbody tr th:only-of-type {\n",
       "        vertical-align: middle;\n",
       "    }\n",
       "\n",
       "    .dataframe tbody tr th {\n",
       "        vertical-align: top;\n",
       "    }\n",
       "\n",
       "    .dataframe thead th {\n",
       "        text-align: right;\n",
       "    }\n",
       "</style>\n",
       "<table border=\"1\" class=\"dataframe\">\n",
       "  <thead>\n",
       "    <tr style=\"text-align: right;\">\n",
       "      <th></th>\n",
       "      <th>lab</th>\n",
       "      <th>Average Diff</th>\n",
       "      <th>Average Diff Change (%)</th>\n",
       "      <th>Test Type</th>\n",
       "      <th>p value</th>\n",
       "    </tr>\n",
       "  </thead>\n",
       "  <tbody>\n",
       "    <tr>\n",
       "      <th>0</th>\n",
       "      <td>BS1</td>\n",
       "      <td>-0.011404</td>\n",
       "      <td>1.343595</td>\n",
       "      <td>Wilcoxon</td>\n",
       "      <td>1.953125e-03</td>\n",
       "    </tr>\n",
       "    <tr>\n",
       "      <th>1</th>\n",
       "      <td>BS2</td>\n",
       "      <td>-0.016049</td>\n",
       "      <td>1.947095</td>\n",
       "      <td>Wilcoxon</td>\n",
       "      <td>1.953125e-03</td>\n",
       "    </tr>\n",
       "    <tr>\n",
       "      <th>2</th>\n",
       "      <td>BS3</td>\n",
       "      <td>-0.012438</td>\n",
       "      <td>1.524392</td>\n",
       "      <td>t test</td>\n",
       "      <td>2.342138e-08</td>\n",
       "    </tr>\n",
       "    <tr>\n",
       "      <th>3</th>\n",
       "      <td>BS4</td>\n",
       "      <td>-0.043333</td>\n",
       "      <td>7.003126</td>\n",
       "      <td>Wilcoxon</td>\n",
       "      <td>1.953125e-03</td>\n",
       "    </tr>\n",
       "    <tr>\n",
       "      <th>4</th>\n",
       "      <td>EM1</td>\n",
       "      <td>-0.012788</td>\n",
       "      <td>1.545364</td>\n",
       "      <td>t test</td>\n",
       "      <td>7.760538e-06</td>\n",
       "    </tr>\n",
       "    <tr>\n",
       "      <th>5</th>\n",
       "      <td>EM2</td>\n",
       "      <td>-0.014821</td>\n",
       "      <td>1.711502</td>\n",
       "      <td>Wilcoxon</td>\n",
       "      <td>1.953125e-03</td>\n",
       "    </tr>\n",
       "    <tr>\n",
       "      <th>6</th>\n",
       "      <td>EM3</td>\n",
       "      <td>-0.013727</td>\n",
       "      <td>2.125973</td>\n",
       "      <td>Wilcoxon</td>\n",
       "      <td>1.953125e-03</td>\n",
       "    </tr>\n",
       "    <tr>\n",
       "      <th>7</th>\n",
       "      <td>EM4</td>\n",
       "      <td>-0.014916</td>\n",
       "      <td>1.846239</td>\n",
       "      <td>Wilcoxon</td>\n",
       "      <td>1.953125e-03</td>\n",
       "    </tr>\n",
       "    <tr>\n",
       "      <th>8</th>\n",
       "      <td>PS1</td>\n",
       "      <td>-0.015831</td>\n",
       "      <td>2.530798</td>\n",
       "      <td>Wilcoxon</td>\n",
       "      <td>1.953125e-03</td>\n",
       "    </tr>\n",
       "    <tr>\n",
       "      <th>9</th>\n",
       "      <td>PS2</td>\n",
       "      <td>-0.014780</td>\n",
       "      <td>2.414888</td>\n",
       "      <td>Wilcoxon</td>\n",
       "      <td>1.953125e-03</td>\n",
       "    </tr>\n",
       "    <tr>\n",
       "      <th>10</th>\n",
       "      <td>PS3</td>\n",
       "      <td>-0.018718</td>\n",
       "      <td>2.947507</td>\n",
       "      <td>Wilcoxon</td>\n",
       "      <td>1.953125e-03</td>\n",
       "    </tr>\n",
       "    <tr>\n",
       "      <th>11</th>\n",
       "      <td>RR1</td>\n",
       "      <td>-0.048998</td>\n",
       "      <td>5.863504</td>\n",
       "      <td>t test</td>\n",
       "      <td>1.074664e-09</td>\n",
       "    </tr>\n",
       "  </tbody>\n",
       "</table>\n",
       "</div>"
      ],
      "text/plain": [
       "    lab  Average Diff  Average Diff Change (%) Test Type       p value\n",
       "0   BS1     -0.011404                 1.343595  Wilcoxon  1.953125e-03\n",
       "1   BS2     -0.016049                 1.947095  Wilcoxon  1.953125e-03\n",
       "2   BS3     -0.012438                 1.524392    t test  2.342138e-08\n",
       "3   BS4     -0.043333                 7.003126  Wilcoxon  1.953125e-03\n",
       "4   EM1     -0.012788                 1.545364    t test  7.760538e-06\n",
       "5   EM2     -0.014821                 1.711502  Wilcoxon  1.953125e-03\n",
       "6   EM3     -0.013727                 2.125973  Wilcoxon  1.953125e-03\n",
       "7   EM4     -0.014916                 1.846239  Wilcoxon  1.953125e-03\n",
       "8   PS1     -0.015831                 2.530798  Wilcoxon  1.953125e-03\n",
       "9   PS2     -0.014780                 2.414888  Wilcoxon  1.953125e-03\n",
       "10  PS3     -0.018718                 2.947507  Wilcoxon  1.953125e-03\n",
       "11  RR1     -0.048998                 5.863504    t test  1.074664e-09"
      ]
     },
     "execution_count": 9,
     "metadata": {},
     "output_type": "execute_result"
    }
   ],
   "source": [
    "lab_test_results_df"
   ]
  },
  {
   "cell_type": "code",
   "execution_count": 11,
   "id": "c534d0ab",
   "metadata": {},
   "outputs": [],
   "source": [
    "lab_test_results_df.to_csv(\n",
    "    '/mnt/eqa/zhangyuanfeng/methylation/data_for_plot/6_methcali/spearmanr_lab_test_result.csv',\n",
    "    index=False\n",
    ")"
   ]
  },
  {
   "cell_type": "code",
   "execution_count": 9,
   "id": "438bcd83",
   "metadata": {},
   "outputs": [
    {
     "data": {
      "image/png": "[encoded data removed]",
      "text/plain": [
       "<Figure size 1200x800 with 1 Axes>"
      ]
     },
     "metadata": {},
     "output_type": "display_data"
    }
   ],
   "source": [
    "from matplotlib.axes import Axes\n",
    "from matplotlib.figure import Figure\n",
    "\n",
    "fig: Figure = plt.figure(figsize=(12, 8))\n",
    "ax: Axes = (sns.boxplot(data=df.to_pandas(),\n",
    "                        x='lab', y='spearmanr', hue='treatment'))"
   ]
  },
  {
   "cell_type": "code",
   "execution_count": 10,
   "id": "2b00de92",
   "metadata": {},
   "outputs": [
    {
     "data": {
      "image/png": "[encoded data removed]",
      "text/plain": [
       "<Figure size 1200x800 with 1 Axes>"
      ]
     },
     "metadata": {},
     "output_type": "display_data"
    }
   ],
   "source": [
    "fig: Figure = plt.figure(figsize=(12, 8))\n",
    "ax: Axes = (sns.boxplot(data=df.to_pandas(),\n",
    "                        x='label', y='spearmanr', hue='treatment'))"
   ]
  },
  {
   "cell_type": "code",
   "execution_count": 11,
   "id": "dbb37bab",
   "metadata": {},
   "outputs": [
    {
     "data": {
      "text/plain": [
       "<Axes: xlabel='PC1', ylabel='PC2'>"
      ]
     },
     "execution_count": 11,
     "metadata": {},
     "output_type": "execute_result"
    },
    {
     "data": {
      "image/png": "[encoded data removed]",
      "text/plain": [
       "<Figure size 640x480 with 1 Axes>"
      ]
     },
     "metadata": {},
     "output_type": "display_data"
    }
   ],
   "source": [
    "snr = pd.read_csv('/mnt/eqa/zhangyuanfeng/methylation/best_pipeline/data/evalutaed/after/c_snr/depth5/RR1.pcs.csv')\n",
    "snr['label'] = snr['sample'].str.slice(stop=2)\n",
    "sns.scatterplot(data=snr, x='PC1', y='PC2', hue='label')"
   ]
  }
 ],
 "metadata": {
  "kernelspec": {
   "display_name": "data2024",
   "language": "python",
   "name": "python3"
  },
  "language_info": {
   "codemirror_mode": {
    "name": "ipython",
    "version": 3
   },
   "file_extension": ".py",
   "mimetype": "text/x-python",
   "name": "python",
   "nbconvert_exporter": "python",
   "pygments_lexer": "ipython3",
   "version": "3.12.2"
  }
 },
 "nbformat": 4,
 "nbformat_minor": 5
}
