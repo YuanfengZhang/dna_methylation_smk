{
 "cells": [
  {
   "cell_type": "code",
   "execution_count": 1,
   "id": "65cf9938",
   "metadata": {},
   "outputs": [],
   "source": [
    "import polars as pl\n",
    "\n",
    "\n",
    "fq_stat: pl.DataFrame = (pl.read_csv('/mnt/eqa/zhangyuanfeng/methylation/evaluated/fq_stat.csv',\n",
    "                                     schema={'file': pl.String, 'format': pl.String,  'type': pl.String,\n",
    "                                             'num_seqs': pl.Int64, 'sum_len': pl.Int64, 'min_len': pl.Int64,\n",
    "                                             'avg_len': pl.Float64, 'max_len': pl.Int64, 'Q1': pl.Int64, 'Q2': pl.Int64,\n",
    "                                             'Q3': pl.Int64, 'sum_gap': pl.Int64, 'N50': pl.Int64, 'N50_num': pl.Int64,\n",
    "                                             'Q20(%)': pl.Float64, 'Q30(%)': pl.Float64, 'AvgQual': pl.Float64,\n",
    "                                             'GC(%)': pl.Float64, 'sum_n': pl.Int64})\n",
    "                           .with_columns(pl.col('file').str.slice(offset=0, length=8).alias('fname'))\n",
    "                           .group_by('fname')\n",
    "                           .agg(pl.col('sum_len').sum().alias('sum_len'))\n",
    "                           .sort(by=['fname'])\n",
    "                           .select('fname', 'sum_len'))\n",
    "depth_stat = pl.read_excel('/mnt/eqa/zhangyuanfeng/methylation/evaluated/chrom_stats.xlsx',\n",
    "                           sheet_name='chrom_counts')\n",
    "chrom_stat = pl.read_excel('/mnt/eqa/zhangyuanfeng/methylation/evaluated/chrom_stats.xlsx',\n",
    "                           sheet_name='chrom_depth_counts')\n"
   ]
  },
  {
   "cell_type": "code",
   "execution_count": 2,
   "id": "f6787ff3",
   "metadata": {},
   "outputs": [
    {
     "data": {
      "text/html": [
       "<div><style>\n",
       ".dataframe > thead > tr,\n",
       ".dataframe > tbody > tr {\n",
       "  text-align: right;\n",
       "  white-space: pre-wrap;\n",
       "}\n",
       "</style>\n",
       "<small>shape: (1_252, 36)</small><table border=\"1\" class=\"dataframe\"><thead><tr><th>lab</th><th>label</th><th>rep</th><th>count_type</th><th>fname</th><th>chr1</th><th>chr2</th><th>chr3</th><th>chr4</th><th>chr5</th><th>chr6</th><th>chr7</th><th>chr8</th><th>chr9</th><th>chr10</th><th>chr11</th><th>chr12</th><th>chr13</th><th>chr14</th><th>chr15</th><th>chr16</th><th>chr17</th><th>chr18</th><th>chr19</th><th>chr20</th><th>chr21</th><th>chr22</th><th>chrX</th><th>chrY</th><th>chrM</th><th>lambda</th><th>pUC19</th><th>pipeline</th><th>total_with_wrong</th><th>total</th><th>wrong</th></tr><tr><td>str</td><td>str</td><td>str</td><td>str</td><td>str</td><td>i64</td><td>i64</td><td>i64</td><td>i64</td><td>i64</td><td>i64</td><td>i64</td><td>i64</td><td>i64</td><td>i64</td><td>i64</td><td>i64</td><td>i64</td><td>i64</td><td>i64</td><td>i64</td><td>i64</td><td>i64</td><td>i64</td><td>i64</td><td>i64</td><td>i64</td><td>i64</td><td>i64</td><td>i64</td><td>i64</td><td>i64</td><td>str</td><td>i64</td><td>i64</td><td>i64</td></tr></thead><tbody><tr><td>&quot;BS1&quot;</td><td>&quot;BC&quot;</td><td>&quot;1&quot;</td><td>&quot;reads&quot;</td><td>&quot;BS1_BC_1&quot;</td><td>51512144</td><td>39049254</td><td>36995393</td><td>29966526</td><td>34423518</td><td>28042105</td><td>46548834</td><td>29828597</td><td>24212849</td><td>26804857</td><td>23001958</td><td>23195948</td><td>14902575</td><td>23083051</td><td>20217489</td><td>28739663</td><td>22146727</td><td>17240248</td><td>18595687</td><td>18508298</td><td>9536262</td><td>17580409</td><td>15550545</td><td>1201486</td><td>106736</td><td>761185</td><td>36419</td><td>&quot;best_pipeline&quot;</td><td>601788763</td><td>600587277</td><td>1201486</td></tr><tr><td>&quot;BS1&quot;</td><td>&quot;BC&quot;</td><td>&quot;1&quot;</td><td>&quot;cytosine&quot;</td><td>&quot;BS1_BC_1&quot;</td><td>4685840</td><td>4296304</td><td>3313069</td><td>2957693</td><td>3083191</td><td>2918008</td><td>3219411</td><td>2620271</td><td>2470205</td><td>2740084</td><td>2616322</td><td>2591828</td><td>1550119</td><td>1757950</td><td>1786682</td><td>2284444</td><td>2378872</td><td>1471416</td><td>2151504</td><td>1534475</td><td>876511</td><td>1234134</td><td>2528195</td><td>139118</td><td>870</td><td>6225</td><td>346</td><td>&quot;best_pipeline&quot;</td><td>57213087</td><td>57073969</td><td>139118</td></tr><tr><td>&quot;BS1&quot;</td><td>&quot;BC&quot;</td><td>&quot;1&quot;</td><td>&quot;reads&quot;</td><td>&quot;BS1_BC_1&quot;</td><td>51921470</td><td>40418670</td><td>37537951</td><td>31310140</td><td>34464524</td><td>28501234</td><td>45344300</td><td>30029001</td><td>22980075</td><td>27076830</td><td>22839239</td><td>23221579</td><td>15031290</td><td>23299049</td><td>19988571</td><td>32684327</td><td>23280571</td><td>14951076</td><td>17379747</td><td>17963147</td><td>7362397</td><td>17315422</td><td>13607231</td><td>877898</td><td>2081927</td><td>10230463</td><td>113653</td><td>&quot;informed&quot;</td><td>611811782</td><td>610933884</td><td>877898</td></tr><tr><td>&quot;BS1&quot;</td><td>&quot;BC&quot;</td><td>&quot;1&quot;</td><td>&quot;cytosine&quot;</td><td>&quot;BS1_BC_1&quot;</td><td>4493546</td><td>4228097</td><td>3233320</td><td>2888398</td><td>2946875</td><td>2858690</td><td>3080432</td><td>2523258</td><td>2337288</td><td>2670142</td><td>2549351</td><td>2538836</td><td>1495732</td><td>1697224</td><td>1670845</td><td>2141706</td><td>2297395</td><td>1347863</td><td>2061499</td><td>1472476</td><td>744980</td><td>1155348</td><td>2200541</td><td>19658</td><td>864</td><td>6226</td><td>346</td><td>&quot;informed&quot;</td><td>54660936</td><td>54641278</td><td>19658</td></tr><tr><td>&quot;BS1&quot;</td><td>&quot;BC&quot;</td><td>&quot;2&quot;</td><td>&quot;reads&quot;</td><td>&quot;BS1_BC_2&quot;</td><td>47824913</td><td>37685576</td><td>36061924</td><td>30346142</td><td>33564630</td><td>27339289</td><td>44376130</td><td>28621175</td><td>23152410</td><td>25254215</td><td>21468927</td><td>22158844</td><td>14837469</td><td>21856600</td><td>18849290</td><td>25734254</td><td>19283751</td><td>17487709</td><td>15797925</td><td>17175204</td><td>9293931</td><td>15296186</td><td>15428264</td><td>1058893</td><td>105113</td><td>745230</td><td>35637</td><td>&quot;best_pipeline&quot;</td><td>570839631</td><td>569780738</td><td>1058893</td></tr><tr><td>&hellip;</td><td>&hellip;</td><td>&hellip;</td><td>&hellip;</td><td>&hellip;</td><td>&hellip;</td><td>&hellip;</td><td>&hellip;</td><td>&hellip;</td><td>&hellip;</td><td>&hellip;</td><td>&hellip;</td><td>&hellip;</td><td>&hellip;</td><td>&hellip;</td><td>&hellip;</td><td>&hellip;</td><td>&hellip;</td><td>&hellip;</td><td>&hellip;</td><td>&hellip;</td><td>&hellip;</td><td>&hellip;</td><td>&hellip;</td><td>&hellip;</td><td>&hellip;</td><td>&hellip;</td><td>&hellip;</td><td>&hellip;</td><td>&hellip;</td><td>&hellip;</td><td>&hellip;</td><td>&hellip;</td><td>&hellip;</td><td>&hellip;</td><td>&hellip;</td></tr><tr><td>&quot;RR1&quot;</td><td>&quot;T4&quot;</td><td>&quot;2&quot;</td><td>&quot;reads&quot;</td><td>&quot;RR1_T4_2&quot;</td><td>8493337</td><td>6580537</td><td>4805638</td><td>4215368</td><td>4380065</td><td>4490168</td><td>5506619</td><td>3888165</td><td>4403792</td><td>4545850</td><td>4773927</td><td>4553927</td><td>2228459</td><td>3035449</td><td>2959344</td><td>4954498</td><td>5958569</td><td>1953664</td><td>6936141</td><td>3109093</td><td>2236321</td><td>2988866</td><td>2906052</td><td>481446</td><td>168505</td><td>17094863</td><td>374747</td><td>&quot;agnostic&quot;</td><td>118023410</td><td>100072354</td><td>17951056</td></tr><tr><td>&quot;RR1&quot;</td><td>&quot;T4&quot;</td><td>&quot;2&quot;</td><td>&quot;cytosine&quot;</td><td>&quot;RR1_T4_2&quot;</td><td>766808</td><td>575248</td><td>402858</td><td>366936</td><td>385637</td><td>385864</td><td>491863</td><td>341544</td><td>400513</td><td>397991</td><td>414209</td><td>389313</td><td>199515</td><td>262503</td><td>267379</td><td>435570</td><td>507103</td><td>171718</td><td>575918</td><td>251885</td><td>156817</td><td>259270</td><td>309582</td><td>36418</td><td>129</td><td>3494</td><td>96</td><td>&quot;best_pipeline&quot;</td><td>8756181</td><td>8716173</td><td>40008</td></tr><tr><td>&quot;RR1&quot;</td><td>&quot;T4&quot;</td><td>&quot;2&quot;</td><td>&quot;reads&quot;</td><td>&quot;RR1_T4_2&quot;</td><td>10788968</td><td>7602048</td><td>5394478</td><td>5138067</td><td>5120810</td><td>5159250</td><td>6456549</td><td>4591466</td><td>5184513</td><td>5705530</td><td>5589655</td><td>5359833</td><td>2636428</td><td>3452071</td><td>3534669</td><td>5650244</td><td>6769132</td><td>2289973</td><td>7822013</td><td>3366709</td><td>3440639</td><td>3333218</td><td>3936717</td><td>395786</td><td>8667</td><td>402309</td><td>8167</td><td>&quot;best_pipeline&quot;</td><td>119137909</td><td>118331647</td><td>806262</td></tr><tr><td>&quot;RR1&quot;</td><td>&quot;T4&quot;</td><td>&quot;2&quot;</td><td>&quot;reads&quot;</td><td>&quot;RR1_T4_2&quot;</td><td>8929429</td><td>6916097</td><td>5030216</td><td>4416527</td><td>4596584</td><td>4710622</td><td>5794356</td><td>4090826</td><td>4642377</td><td>4774489</td><td>5029704</td><td>4777296</td><td>2338954</td><td>3192894</td><td>3110350</td><td>5219939</td><td>6268976</td><td>2054076</td><td>7300114</td><td>3268584</td><td>2308784</td><td>3152167</td><td>3049524</td><td>486733</td><td>168831</td><td>17096012</td><td>374869</td><td>&quot;informed&quot;</td><td>123099330</td><td>105141716</td><td>17957614</td></tr><tr><td>&quot;RR1&quot;</td><td>&quot;T4&quot;</td><td>&quot;2&quot;</td><td>&quot;cytosine&quot;</td><td>&quot;RR1_T4_2&quot;</td><td>667240</td><td>517661</td><td>356641</td><td>314826</td><td>339880</td><td>346623</td><td>437294</td><td>307569</td><td>357090</td><td>352230</td><td>384261</td><td>350235</td><td>175112</td><td>239420</td><td>231399</td><td>398420</td><td>471088</td><td>155078</td><td>552490</td><td>242519</td><td>111785</td><td>238980</td><td>228714</td><td>6946</td><td>321</td><td>4570</td><td>175</td><td>&quot;informed&quot;</td><td>7788567</td><td>7776876</td><td>11691</td></tr></tbody></table></div>"
      ],
      "text/plain": [
       "shape: (1_252, 36)\n",
       "┌─────┬───────┬─────┬────────────┬───┬───────────────┬──────────────────┬───────────┬──────────┐\n",
       "│ lab ┆ label ┆ rep ┆ count_type ┆ … ┆ pipeline      ┆ total_with_wrong ┆ total     ┆ wrong    │\n",
       "│ --- ┆ ---   ┆ --- ┆ ---        ┆   ┆ ---           ┆ ---              ┆ ---       ┆ ---      │\n",
       "│ str ┆ str   ┆ str ┆ str        ┆   ┆ str           ┆ i64              ┆ i64       ┆ i64      │\n",
       "╞═════╪═══════╪═════╪════════════╪═══╪═══════════════╪══════════════════╪═══════════╪══════════╡\n",
       "│ BS1 ┆ BC    ┆ 1   ┆ reads      ┆ … ┆ best_pipeline ┆ 601788763        ┆ 600587277 ┆ 1201486  │\n",
       "│ BS1 ┆ BC    ┆ 1   ┆ cytosine   ┆ … ┆ best_pipeline ┆ 57213087         ┆ 57073969  ┆ 139118   │\n",
       "│ BS1 ┆ BC    ┆ 1   ┆ reads      ┆ … ┆ informed      ┆ 611811782        ┆ 610933884 ┆ 877898   │\n",
       "│ BS1 ┆ BC    ┆ 1   ┆ cytosine   ┆ … ┆ informed      ┆ 54660936         ┆ 54641278  ┆ 19658    │\n",
       "│ BS1 ┆ BC    ┆ 2   ┆ reads      ┆ … ┆ best_pipeline ┆ 570839631        ┆ 569780738 ┆ 1058893  │\n",
       "│ …   ┆ …     ┆ …   ┆ …          ┆ … ┆ …             ┆ …                ┆ …         ┆ …        │\n",
       "│ RR1 ┆ T4    ┆ 2   ┆ reads      ┆ … ┆ agnostic      ┆ 118023410        ┆ 100072354 ┆ 17951056 │\n",
       "│ RR1 ┆ T4    ┆ 2   ┆ cytosine   ┆ … ┆ best_pipeline ┆ 8756181          ┆ 8716173   ┆ 40008    │\n",
       "│ RR1 ┆ T4    ┆ 2   ┆ reads      ┆ … ┆ best_pipeline ┆ 119137909        ┆ 118331647 ┆ 806262   │\n",
       "│ RR1 ┆ T4    ┆ 2   ┆ reads      ┆ … ┆ informed      ┆ 123099330        ┆ 105141716 ┆ 17957614 │\n",
       "│ RR1 ┆ T4    ┆ 2   ┆ cytosine   ┆ … ┆ informed      ┆ 7788567          ┆ 7776876   ┆ 11691    │\n",
       "└─────┴───────┴─────┴────────────┴───┴───────────────┴──────────────────┴───────────┴──────────┘"
      ]
     },
     "execution_count": 2,
     "metadata": {},
     "output_type": "execute_result"
    }
   ],
   "source": [
    "depth_stat"
   ]
  },
  {
   "cell_type": "code",
   "execution_count": 4,
   "id": "a4470a23",
   "metadata": {},
   "outputs": [
    {
     "data": {
      "text/html": [
       "<div><style>\n",
       ".dataframe > thead > tr,\n",
       ".dataframe > tbody > tr {\n",
       "  text-align: right;\n",
       "  white-space: pre-wrap;\n",
       "}\n",
       "</style>\n",
       "<small>shape: (297, 7)</small><table border=\"1\" class=\"dataframe\"><thead><tr><th>lab</th><th>label</th><th>rep</th><th>fname</th><th>total_depth</th><th>total_bases</th><th>depth_efficiency</th></tr><tr><td>str</td><td>str</td><td>str</td><td>str</td><td>i64</td><td>i64</td><td>f64</td></tr></thead><tbody><tr><td>&quot;BS1&quot;</td><td>&quot;BC&quot;</td><td>&quot;1&quot;</td><td>&quot;BS1_BC_1&quot;</td><td>610933884</td><td>54040177350</td><td>11.305179</td></tr><tr><td>&quot;BS1&quot;</td><td>&quot;BC&quot;</td><td>&quot;2&quot;</td><td>&quot;BS1_BC_2&quot;</td><td>580696075</td><td>56411283450</td><td>10.29397</td></tr><tr><td>&quot;BS1&quot;</td><td>&quot;BL&quot;</td><td>&quot;1&quot;</td><td>&quot;BS1_BL_1&quot;</td><td>619893872</td><td>53765509650</td><td>11.529582</td></tr><tr><td>&quot;BS1&quot;</td><td>&quot;BL&quot;</td><td>&quot;2&quot;</td><td>&quot;BS1_BL_2&quot;</td><td>587019336</td><td>51372176250</td><td>11.426795</td></tr><tr><td>&quot;BS1&quot;</td><td>&quot;D5&quot;</td><td>&quot;1&quot;</td><td>&quot;BS1_D5_1&quot;</td><td>575165929</td><td>55670357850</td><td>10.331637</td></tr><tr><td>&hellip;</td><td>&hellip;</td><td>&hellip;</td><td>&hellip;</td><td>&hellip;</td><td>&hellip;</td><td>&hellip;</td></tr><tr><td>&quot;RR1&quot;</td><td>&quot;T2&quot;</td><td>&quot;2&quot;</td><td>&quot;RR1_T2_2&quot;</td><td>181223824</td><td>4495763506</td><td>40.30991</td></tr><tr><td>&quot;RR1&quot;</td><td>&quot;T3&quot;</td><td>&quot;1&quot;</td><td>&quot;RR1_T3_1&quot;</td><td>182320245</td><td>4262106112</td><td>42.777031</td></tr><tr><td>&quot;RR1&quot;</td><td>&quot;T3&quot;</td><td>&quot;2&quot;</td><td>&quot;RR1_T3_2&quot;</td><td>204480880</td><td>4810530952</td><td>42.506925</td></tr><tr><td>&quot;RR1&quot;</td><td>&quot;T4&quot;</td><td>&quot;1&quot;</td><td>&quot;RR1_T4_1&quot;</td><td>166986191</td><td>3984880107</td><td>41.904947</td></tr><tr><td>&quot;RR1&quot;</td><td>&quot;T4&quot;</td><td>&quot;2&quot;</td><td>&quot;RR1_T4_2&quot;</td><td>105141716</td><td>2548584993</td><td>41.254938</td></tr></tbody></table></div>"
      ],
      "text/plain": [
       "shape: (297, 7)\n",
       "┌─────┬───────┬─────┬──────────┬─────────────┬─────────────┬──────────────────┐\n",
       "│ lab ┆ label ┆ rep ┆ fname    ┆ total_depth ┆ total_bases ┆ depth_efficiency │\n",
       "│ --- ┆ ---   ┆ --- ┆ ---      ┆ ---         ┆ ---         ┆ ---              │\n",
       "│ str ┆ str   ┆ str ┆ str      ┆ i64         ┆ i64         ┆ f64              │\n",
       "╞═════╪═══════╪═════╪══════════╪═════════════╪═════════════╪══════════════════╡\n",
       "│ BS1 ┆ BC    ┆ 1   ┆ BS1_BC_1 ┆ 610933884   ┆ 54040177350 ┆ 11.305179        │\n",
       "│ BS1 ┆ BC    ┆ 2   ┆ BS1_BC_2 ┆ 580696075   ┆ 56411283450 ┆ 10.29397         │\n",
       "│ BS1 ┆ BL    ┆ 1   ┆ BS1_BL_1 ┆ 619893872   ┆ 53765509650 ┆ 11.529582        │\n",
       "│ BS1 ┆ BL    ┆ 2   ┆ BS1_BL_2 ┆ 587019336   ┆ 51372176250 ┆ 11.426795        │\n",
       "│ BS1 ┆ D5    ┆ 1   ┆ BS1_D5_1 ┆ 575165929   ┆ 55670357850 ┆ 10.331637        │\n",
       "│ …   ┆ …     ┆ …   ┆ …        ┆ …           ┆ …           ┆ …                │\n",
       "│ RR1 ┆ T2    ┆ 2   ┆ RR1_T2_2 ┆ 181223824   ┆ 4495763506  ┆ 40.30991         │\n",
       "│ RR1 ┆ T3    ┆ 1   ┆ RR1_T3_1 ┆ 182320245   ┆ 4262106112  ┆ 42.777031        │\n",
       "│ RR1 ┆ T3    ┆ 2   ┆ RR1_T3_2 ┆ 204480880   ┆ 4810530952  ┆ 42.506925        │\n",
       "│ RR1 ┆ T4    ┆ 1   ┆ RR1_T4_1 ┆ 166986191   ┆ 3984880107  ┆ 41.904947        │\n",
       "│ RR1 ┆ T4    ┆ 2   ┆ RR1_T4_2 ┆ 105141716   ┆ 2548584993  ┆ 41.254938        │\n",
       "└─────┴───────┴─────┴──────────┴─────────────┴─────────────┴──────────────────┘"
      ]
     },
     "execution_count": 4,
     "metadata": {},
     "output_type": "execute_result"
    }
   ],
   "source": [
    "depth_dict_list = []\n",
    "for fname in (depth_stat.filter(pl.col('count_type') == 'reads',\n",
    "                                pl.col('pipeline') == 'informed')['fname'].unique()):\n",
    "    chroms = ['chr' + str(i) for i in range(1, 23)] + ['chrX', 'chrM']\n",
    "    total: int | float = (depth_stat.filter(pl.col('count_type') == 'reads',\n",
    "                                            pl.col('pipeline') == 'informed',\n",
    "                                            pl.col('fname') == fname)\n",
    "                                    ['total'].first())\n",
    "    depth_dict_list.append({'fname': fname, 'total_depth': total})\n",
    "\n",
    "\n",
    "depth_efficiency: pl.DataFrame = (pl.DataFrame(depth_dict_list)\n",
    "                                    .join(other=fq_stat, on='fname', how='inner')\n",
    "                                    .with_columns((1000 * pl.col('total_depth') / pl.col('sum_len')).alias('depth_efficiency'),\n",
    "                                                  pl.col('fname').str.head(3).alias('lab'),\n",
    "                                                  pl.col('fname').str.slice(offset=4,\n",
    "                                                                            length=2).alias('label'),\n",
    "                                                  pl.col('fname').str.tail(n=1).alias('rep'))\n",
    "                                    .rename({'sum_len': 'total_bases'})\n",
    "                                    .select('lab', 'label', 'rep', 'fname', 'total_depth',\n",
    "                                            'total_bases', 'depth_efficiency')\n",
    "                                    .sort(by=['lab', 'label', 'rep']))\n",
    "depth_efficiency"
   ]
  },
  {
   "cell_type": "code",
   "execution_count": 6,
   "id": "1cf54435",
   "metadata": {},
   "outputs": [],
   "source": [
    "depth_efficiency.write_csv('/mnt/eqa/zhangyuanfeng/methylation/data_for_plot/1_data_quality_snr/depth_efficiency.csv')"
   ]
  },
  {
   "cell_type": "code",
   "execution_count": 7,
   "id": "855b4b9e",
   "metadata": {},
   "outputs": [
    {
     "data": {
      "text/html": [
       "<div><style>\n",
       ".dataframe > thead > tr,\n",
       ".dataframe > tbody > tr {\n",
       "  text-align: right;\n",
       "  white-space: pre-wrap;\n",
       "}\n",
       "</style>\n",
       "<small>shape: (297, 7)</small><table border=\"1\" class=\"dataframe\"><thead><tr><th>lab</th><th>label</th><th>rep</th><th>fname</th><th>total_cytosines</th><th>total_bases</th><th>cytosine_efficiency</th></tr><tr><td>str</td><td>str</td><td>str</td><td>str</td><td>i64</td><td>i64</td><td>f64</td></tr></thead><tbody><tr><td>&quot;BS1&quot;</td><td>&quot;BC&quot;</td><td>&quot;1&quot;</td><td>&quot;BS1_BC_1&quot;</td><td>54641278</td><td>54040177350</td><td>10.111232</td></tr><tr><td>&quot;BS1&quot;</td><td>&quot;BC&quot;</td><td>&quot;2&quot;</td><td>&quot;BS1_BC_2&quot;</td><td>54428472</td><td>56411283450</td><td>9.648508</td></tr><tr><td>&quot;BS1&quot;</td><td>&quot;BL&quot;</td><td>&quot;1&quot;</td><td>&quot;BS1_BL_1&quot;</td><td>55081153</td><td>53765509650</td><td>10.2447</td></tr><tr><td>&quot;BS1&quot;</td><td>&quot;BL&quot;</td><td>&quot;2&quot;</td><td>&quot;BS1_BL_2&quot;</td><td>54999523</td><td>51372176250</td><td>10.706092</td></tr><tr><td>&quot;BS1&quot;</td><td>&quot;D5&quot;</td><td>&quot;1&quot;</td><td>&quot;BS1_D5_1&quot;</td><td>54282667</td><td>55670357850</td><td>9.750731</td></tr><tr><td>&hellip;</td><td>&hellip;</td><td>&hellip;</td><td>&hellip;</td><td>&hellip;</td><td>&hellip;</td><td>&hellip;</td></tr><tr><td>&quot;RR1&quot;</td><td>&quot;T2&quot;</td><td>&quot;2&quot;</td><td>&quot;RR1_T2_2&quot;</td><td>8369190</td><td>4495763506</td><td>18.615726</td></tr><tr><td>&quot;RR1&quot;</td><td>&quot;T3&quot;</td><td>&quot;1&quot;</td><td>&quot;RR1_T3_1&quot;</td><td>6192331</td><td>4262106112</td><td>14.528805</td></tr><tr><td>&quot;RR1&quot;</td><td>&quot;T3&quot;</td><td>&quot;2&quot;</td><td>&quot;RR1_T3_2&quot;</td><td>8799089</td><td>4810530952</td><td>18.291305</td></tr><tr><td>&quot;RR1&quot;</td><td>&quot;T4&quot;</td><td>&quot;1&quot;</td><td>&quot;RR1_T4_1&quot;</td><td>8481039</td><td>3984880107</td><td>21.283047</td></tr><tr><td>&quot;RR1&quot;</td><td>&quot;T4&quot;</td><td>&quot;2&quot;</td><td>&quot;RR1_T4_2&quot;</td><td>7776876</td><td>2548584993</td><td>30.514486</td></tr></tbody></table></div>"
      ],
      "text/plain": [
       "shape: (297, 7)\n",
       "┌─────┬───────┬─────┬──────────┬─────────────────┬─────────────┬─────────────────────┐\n",
       "│ lab ┆ label ┆ rep ┆ fname    ┆ total_cytosines ┆ total_bases ┆ cytosine_efficiency │\n",
       "│ --- ┆ ---   ┆ --- ┆ ---      ┆ ---             ┆ ---         ┆ ---                 │\n",
       "│ str ┆ str   ┆ str ┆ str      ┆ i64             ┆ i64         ┆ f64                 │\n",
       "╞═════╪═══════╪═════╪══════════╪═════════════════╪═════════════╪═════════════════════╡\n",
       "│ BS1 ┆ BC    ┆ 1   ┆ BS1_BC_1 ┆ 54641278        ┆ 54040177350 ┆ 10.111232           │\n",
       "│ BS1 ┆ BC    ┆ 2   ┆ BS1_BC_2 ┆ 54428472        ┆ 56411283450 ┆ 9.648508            │\n",
       "│ BS1 ┆ BL    ┆ 1   ┆ BS1_BL_1 ┆ 55081153        ┆ 53765509650 ┆ 10.2447             │\n",
       "│ BS1 ┆ BL    ┆ 2   ┆ BS1_BL_2 ┆ 54999523        ┆ 51372176250 ┆ 10.706092           │\n",
       "│ BS1 ┆ D5    ┆ 1   ┆ BS1_D5_1 ┆ 54282667        ┆ 55670357850 ┆ 9.750731            │\n",
       "│ …   ┆ …     ┆ …   ┆ …        ┆ …               ┆ …           ┆ …                   │\n",
       "│ RR1 ┆ T2    ┆ 2   ┆ RR1_T2_2 ┆ 8369190         ┆ 4495763506  ┆ 18.615726           │\n",
       "│ RR1 ┆ T3    ┆ 1   ┆ RR1_T3_1 ┆ 6192331         ┆ 4262106112  ┆ 14.528805           │\n",
       "│ RR1 ┆ T3    ┆ 2   ┆ RR1_T3_2 ┆ 8799089         ┆ 4810530952  ┆ 18.291305           │\n",
       "│ RR1 ┆ T4    ┆ 1   ┆ RR1_T4_1 ┆ 8481039         ┆ 3984880107  ┆ 21.283047           │\n",
       "│ RR1 ┆ T4    ┆ 2   ┆ RR1_T4_2 ┆ 7776876         ┆ 2548584993  ┆ 30.514486           │\n",
       "└─────┴───────┴─────┴──────────┴─────────────────┴─────────────┴─────────────────────┘"
      ]
     },
     "execution_count": 7,
     "metadata": {},
     "output_type": "execute_result"
    }
   ],
   "source": [
    "cytosine_dict_list = []\n",
    "for fname in (depth_stat.filter(pl.col('count_type') == 'cytosine',\n",
    "                                   pl.col('pipeline') == 'informed')['fname'].unique()):\n",
    "    total: int | float = (depth_stat.filter(pl.col('count_type') == 'cytosine',\n",
    "                                            pl.col('pipeline') == 'informed',\n",
    "                                            pl.col('fname') == fname)\n",
    "                                    ['total'].first())\n",
    "    cytosine_dict_list.append({'fname': fname, 'total_cytosines': total})\n",
    "\n",
    "\n",
    "cytosine_efficiency: pl.DataFrame = (pl.DataFrame(cytosine_dict_list)\n",
    "                                       .join(other=fq_stat, on='fname', how='inner')\n",
    "                                       .with_columns((10000 * pl.col('total_cytosines') / pl.col('sum_len')).alias('cytosine_efficiency'),\n",
    "                                                      pl.col('fname').str.head(3).alias('lab'),\n",
    "                                                      pl.col('fname').str.slice(offset=4,\n",
    "                                                                                length=2).alias('label'),\n",
    "                                                      pl.col('fname').str.tail(n=1).alias('rep'))\n",
    "                                       .rename({'sum_len': 'total_bases'})\n",
    "                                       .select('lab', 'label', 'rep', 'fname', 'total_cytosines',\n",
    "                                               'total_bases', 'cytosine_efficiency')\n",
    "                                       .sort(by=['lab', 'label', 'rep']))\n",
    "cytosine_efficiency"
   ]
  },
  {
   "cell_type": "code",
   "execution_count": 8,
   "id": "95503ee7",
   "metadata": {},
   "outputs": [],
   "source": [
    "cytosine_efficiency.write_csv('/mnt/eqa/zhangyuanfeng/methylation/data_for_plot/1_data_quality_snr/cytosine_efficiency.csv')"
   ]
  },
  {
   "cell_type": "code",
   "execution_count": 9,
   "id": "9bc54d6b",
   "metadata": {},
   "outputs": [
    {
     "data": {
      "text/plain": [
       "<Axes: xlabel='lab', ylabel='depth_efficiency'>"
      ]
     },
     "execution_count": 9,
     "metadata": {},
     "output_type": "execute_result"
    },
    {
     "data": {
      "image/png": "[encoded data removed]",
      "text/plain": [
       "<Figure size 1200x800 with 1 Axes>"
      ]
     },
     "metadata": {},
     "output_type": "display_data"
    }
   ],
   "source": [
    "from matplotlib import pyplot as plt\n",
    "import seaborn as sns\n",
    "\n",
    "\n",
    "fig = plt.figure(figsize=(12, 8))\n",
    "sns.boxplot(data=depth_efficiency.to_pandas(),\n",
    "            x='lab', y='depth_efficiency', hue='lab', palette='Set2', linewidth=1.5)"
   ]
  },
  {
   "cell_type": "code",
   "execution_count": 10,
   "id": "d749b589",
   "metadata": {},
   "outputs": [
    {
     "data": {
      "text/plain": [
       "<Axes: xlabel='lab', ylabel='cytosine_efficiency'>"
      ]
     },
     "execution_count": 10,
     "metadata": {},
     "output_type": "execute_result"
    },
    {
     "data": {
      "image/png": "[encoded data removed]",
      "text/plain": [
       "<Figure size 1200x800 with 1 Axes>"
      ]
     },
     "metadata": {},
     "output_type": "display_data"
    }
   ],
   "source": [
    "fig = plt.figure(figsize=(12, 8))\n",
    "sns.boxplot(data=cytosine_efficiency.to_pandas(),\n",
    "            x='lab', y='cytosine_efficiency', hue='lab', palette='Set2', linewidth=1.5)"
   ]
  },
  {
   "cell_type": "code",
   "execution_count": 12,
   "id": "cef4d121",
   "metadata": {},
   "outputs": [
    {
     "data": {
      "text/html": [
       "<div><style>\n",
       ".dataframe > thead > tr,\n",
       ".dataframe > tbody > tr {\n",
       "  text-align: right;\n",
       "  white-space: pre-wrap;\n",
       "}\n",
       "</style>\n",
       "<small>shape: (3_278, 5)</small><table border=\"1\" class=\"dataframe\"><thead><tr><th>lab</th><th>label</th><th>rep</th><th>depth_bin</th><th>cytosines</th></tr><tr><td>str</td><td>str</td><td>str</td><td>str</td><td>i64</td></tr></thead><tbody><tr><td>&quot;BS3&quot;</td><td>&quot;T3&quot;</td><td>&quot;1&quot;</td><td>&quot;4x&quot;</td><td>2673493</td></tr><tr><td>&quot;BS3&quot;</td><td>&quot;T3&quot;</td><td>&quot;1&quot;</td><td>&quot;5–10x&quot;</td><td>20865257</td></tr><tr><td>&quot;BS3&quot;</td><td>&quot;T3&quot;</td><td>&quot;1&quot;</td><td>&quot;≥60x&quot;</td><td>34639</td></tr><tr><td>&quot;BS3&quot;</td><td>&quot;T3&quot;</td><td>&quot;1&quot;</td><td>&quot;3x&quot;</td><td>2012587</td></tr><tr><td>&quot;BS3&quot;</td><td>&quot;T3&quot;</td><td>&quot;1&quot;</td><td>&quot;10–20x&quot;</td><td>23967121</td></tr><tr><td>&hellip;</td><td>&hellip;</td><td>&hellip;</td><td>&hellip;</td><td>&hellip;</td></tr><tr><td>&quot;BS4&quot;</td><td>&quot;BL&quot;</td><td>&quot;2&quot;</td><td>&quot;50–60x&quot;</td><td>4844</td></tr><tr><td>&quot;BS4&quot;</td><td>&quot;BL&quot;</td><td>&quot;2&quot;</td><td>&quot;20–30x&quot;</td><td>47814</td></tr><tr><td>&quot;BS4&quot;</td><td>&quot;BL&quot;</td><td>&quot;2&quot;</td><td>&quot;5–10x&quot;</td><td>10705081</td></tr><tr><td>&quot;BS4&quot;</td><td>&quot;BL&quot;</td><td>&quot;2&quot;</td><td>&quot;30–40x&quot;</td><td>13537</td></tr><tr><td>&quot;BS4&quot;</td><td>&quot;BL&quot;</td><td>&quot;2&quot;</td><td>&quot;4x&quot;</td><td>5014605</td></tr></tbody></table></div>"
      ],
      "text/plain": [
       "shape: (3_278, 5)\n",
       "┌─────┬───────┬─────┬───────────┬───────────┐\n",
       "│ lab ┆ label ┆ rep ┆ depth_bin ┆ cytosines │\n",
       "│ --- ┆ ---   ┆ --- ┆ ---       ┆ ---       │\n",
       "│ str ┆ str   ┆ str ┆ str       ┆ i64       │\n",
       "╞═════╪═══════╪═════╪═══════════╪═══════════╡\n",
       "│ BS3 ┆ T3    ┆ 1   ┆ 4x        ┆ 2673493   │\n",
       "│ BS3 ┆ T3    ┆ 1   ┆ 5–10x     ┆ 20865257  │\n",
       "│ BS3 ┆ T3    ┆ 1   ┆ ≥60x      ┆ 34639     │\n",
       "│ BS3 ┆ T3    ┆ 1   ┆ 3x        ┆ 2012587   │\n",
       "│ BS3 ┆ T3    ┆ 1   ┆ 10–20x    ┆ 23967121  │\n",
       "│ …   ┆ …     ┆ …   ┆ …         ┆ …         │\n",
       "│ BS4 ┆ BL    ┆ 2   ┆ 50–60x    ┆ 4844      │\n",
       "│ BS4 ┆ BL    ┆ 2   ┆ 20–30x    ┆ 47814     │\n",
       "│ BS4 ┆ BL    ┆ 2   ┆ 5–10x     ┆ 10705081  │\n",
       "│ BS4 ┆ BL    ┆ 2   ┆ 30–40x    ┆ 13537     │\n",
       "│ BS4 ┆ BL    ┆ 2   ┆ 4x        ┆ 5014605   │\n",
       "└─────┴───────┴─────┴───────────┴───────────┘"
      ]
     },
     "execution_count": 12,
     "metadata": {},
     "output_type": "execute_result"
    }
   ],
   "source": [
    "chrom_sum_dict_list = []\n",
    "\n",
    "for fname in (chrom_stat.filter(pl.col('count_type') == 'cytosine',\n",
    "                                pl.col('pipeline') == 'informed')['fname'].unique()):\n",
    "    chroms = ['chr' + str(i) for i in range(1, 23)] + ['chrX', 'chrM']\n",
    "\n",
    "    if 'F7' in fname or 'HF' in fname:\n",
    "        chroms += ['chrY']\n",
    "\n",
    "    if 'RR' not in fname and 'HF' not in fname:\n",
    "        chroms += ['lambda', 'pUC19']\n",
    "\n",
    "    fname_df: pl.DataFrame = (chrom_stat.filter(pl.col('count_type') == 'cytosine',\n",
    "                                                pl.col('pipeline') == 'informed',\n",
    "                                                pl.col('fname') == fname,\n",
    "                                                pl.col('chrom').is_in(chroms))\n",
    ")\n",
    "    for depth_bin in chrom_stat['depth_bin'].unique():\n",
    "        total: int\n",
    "        if fname_df.filter(pl.col('depth_bin') == depth_bin).is_empty():\n",
    "            total = 0\n",
    "        else:\n",
    "            total = (fname_df.filter(pl.col('depth_bin') == depth_bin)['count'].sum())\n",
    "        chrom_sum_dict_list.append({\n",
    "            'fname': fname, 'depth_bin': depth_bin, 'cytosines': total\n",
    "        })\n",
    "\n",
    "\n",
    "depth_cytosine_efficiency = (pl.DataFrame(chrom_sum_dict_list)\n",
    "                               .with_columns(pl.col('fname').str.head(3).alias('lab'),\n",
    "                                             pl.col('fname').str.slice(offset=4,\n",
    "                                                                       length=2).alias('label'),\n",
    "                                             pl.col('fname').str.tail(n=1).alias('rep'))\n",
    "                               .select('lab', 'label', 'rep', 'depth_bin', 'cytosines'))\n",
    "depth_cytosine_efficiency\n"
   ]
  },
  {
   "cell_type": "code",
   "execution_count": 13,
   "id": "bca379a1",
   "metadata": {},
   "outputs": [],
   "source": [
    "depth_cytosine_efficiency.write_csv('/mnt/eqa/zhangyuanfeng/methylation/data_for_plot/1_data_quality_snr/depth_cytosine_efficiency.csv')"
   ]
  },
  {
   "cell_type": "code",
   "execution_count": 19,
   "id": "8c11e587",
   "metadata": {},
   "outputs": [
    {
     "data": {
      "text/html": [
       "<div><style>\n",
       ".dataframe > thead > tr,\n",
       ".dataframe > tbody > tr {\n",
       "  text-align: right;\n",
       "  white-space: pre-wrap;\n",
       "}\n",
       "</style>\n",
       "<small>shape: (298, 5)</small><table border=\"1\" class=\"dataframe\"><thead><tr><th>lab</th><th>label</th><th>rep</th><th>≥5x%</th><th>≥10x%</th></tr><tr><td>str</td><td>str</td><td>str</td><td>f64</td><td>f64</td></tr></thead><tbody><tr><td>&quot;BS1&quot;</td><td>&quot;BC&quot;</td><td>&quot;1&quot;</td><td>78.84302</td><td>43.30167</td></tr><tr><td>&quot;BS1&quot;</td><td>&quot;BC&quot;</td><td>&quot;2&quot;</td><td>73.022662</td><td>38.79092</td></tr><tr><td>&quot;BS1&quot;</td><td>&quot;BL&quot;</td><td>&quot;1&quot;</td><td>83.990811</td><td>46.36178</td></tr><tr><td>&quot;BS1&quot;</td><td>&quot;BL&quot;</td><td>&quot;2&quot;</td><td>81.196031</td><td>42.553853</td></tr><tr><td>&quot;BS1&quot;</td><td>&quot;D5&quot;</td><td>&quot;1&quot;</td><td>75.784523</td><td>42.475024</td></tr><tr><td>&hellip;</td><td>&hellip;</td><td>&hellip;</td><td>&hellip;</td><td>&hellip;</td></tr><tr><td>&quot;RR1&quot;</td><td>&quot;T2&quot;</td><td>&quot;2&quot;</td><td>71.091969</td><td>57.888625</td></tr><tr><td>&quot;RR1&quot;</td><td>&quot;T3&quot;</td><td>&quot;1&quot;</td><td>76.2025</td><td>66.960019</td></tr><tr><td>&quot;RR1&quot;</td><td>&quot;T3&quot;</td><td>&quot;2&quot;</td><td>70.361614</td><td>59.207288</td></tr><tr><td>&quot;RR1&quot;</td><td>&quot;T4&quot;</td><td>&quot;1&quot;</td><td>72.168905</td><td>59.260711</td></tr><tr><td>&quot;RR1&quot;</td><td>&quot;T4&quot;</td><td>&quot;2&quot;</td><td>64.418232</td><td>46.499674</td></tr></tbody></table></div>"
      ],
      "text/plain": [
       "shape: (298, 5)\n",
       "┌─────┬───────┬─────┬───────────┬───────────┐\n",
       "│ lab ┆ label ┆ rep ┆ ≥5x%      ┆ ≥10x%     │\n",
       "│ --- ┆ ---   ┆ --- ┆ ---       ┆ ---       │\n",
       "│ str ┆ str   ┆ str ┆ f64       ┆ f64       │\n",
       "╞═════╪═══════╪═════╪═══════════╪═══════════╡\n",
       "│ BS1 ┆ BC    ┆ 1   ┆ 78.84302  ┆ 43.30167  │\n",
       "│ BS1 ┆ BC    ┆ 2   ┆ 73.022662 ┆ 38.79092  │\n",
       "│ BS1 ┆ BL    ┆ 1   ┆ 83.990811 ┆ 46.36178  │\n",
       "│ BS1 ┆ BL    ┆ 2   ┆ 81.196031 ┆ 42.553853 │\n",
       "│ BS1 ┆ D5    ┆ 1   ┆ 75.784523 ┆ 42.475024 │\n",
       "│ …   ┆ …     ┆ …   ┆ …         ┆ …         │\n",
       "│ RR1 ┆ T2    ┆ 2   ┆ 71.091969 ┆ 57.888625 │\n",
       "│ RR1 ┆ T3    ┆ 1   ┆ 76.2025   ┆ 66.960019 │\n",
       "│ RR1 ┆ T3    ┆ 2   ┆ 70.361614 ┆ 59.207288 │\n",
       "│ RR1 ┆ T4    ┆ 1   ┆ 72.168905 ┆ 59.260711 │\n",
       "│ RR1 ┆ T4    ┆ 2   ┆ 64.418232 ┆ 46.499674 │\n",
       "└─────┴───────┴─────┴───────────┴───────────┘"
      ]
     },
     "execution_count": 19,
     "metadata": {},
     "output_type": "execute_result"
    }
   ],
   "source": [
    "percent_stat: pl.DataFrame\n",
    "\n",
    "percent_stat = (depth_cytosine_efficiency\n",
    "                .pivot(on='depth_bin',\n",
    "                       index=['lab', 'label', 'rep'],\n",
    "                       values='cytosines')\n",
    "                .with_columns(pl.sum_horizontal('1x', '2x', '3x', '4x',\n",
    "                                                '5–10x', '10–20x',\n",
    "                                                '20–30x', '30–40x',\n",
    "                                                '40–50x', '50–60x',\n",
    "                                                '≥60x')\n",
    "                                .alias('total'))\n",
    "                .with_columns((pl.sum_horizontal('5–10x', '10–20x',\n",
    "                                                 '20–30x', '30–40x',\n",
    "                                                 '40–50x', '50–60x',\n",
    "                                                 '≥60x') * 100 / pl.col('total'))\n",
    "                                .alias('≥5x%'),\n",
    "                              (pl.sum_horizontal('10–20x', '20–30x',\n",
    "                                                 '30–40x', '40–50x',\n",
    "                                                 '50–60x', '≥60x') * 100 / pl.col('total'))\n",
    "                                .alias('≥10x%'))\n",
    "                .select('lab', 'label', 'rep', '≥5x%', '≥10x%')\n",
    "                .sort(by=['lab', 'label', 'rep'])\n",
    "                )\n",
    "percent_stat"
   ]
  },
  {
   "cell_type": "code",
   "execution_count": 20,
   "id": "5cbdd22f",
   "metadata": {},
   "outputs": [],
   "source": [
    "percent_stat.write_csv('/mnt/eqa/zhangyuanfeng/methylation/data_for_plot/1_data_quality_snr/depth_5_10_percent.csv')"
   ]
  }
 ],
 "metadata": {
  "kernelspec": {
   "display_name": "data2024",
   "language": "python",
   "name": "python3"
  },
  "language_info": {
   "codemirror_mode": {
    "name": "ipython",
    "version": 3
   },
   "file_extension": ".py",
   "mimetype": "text/x-python",
   "name": "python",
   "nbconvert_exporter": "python",
   "pygments_lexer": "ipython3",
   "version": "3.12.2"
  }
 },
 "nbformat": 4,
 "nbformat_minor": 5
}
