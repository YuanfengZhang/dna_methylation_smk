{
 "cells": [
  {
   "cell_type": "code",
   "execution_count": 1,
   "id": "75856fb7",
   "metadata": {},
   "outputs": [
    {
     "data": {
      "application/vnd.microsoft.datawrangler.viewer.v0+json": {
       "columns": [
        {
         "name": "index",
         "rawType": "int64",
         "type": "integer"
        },
        {
         "name": "lab",
         "rawType": "object",
         "type": "string"
        },
        {
         "name": "sample",
         "rawType": "object",
         "type": "string"
        },
        {
         "name": "feature",
         "rawType": "object",
         "type": "string"
        },
        {
         "name": "fgroup",
         "rawType": "object",
         "type": "string"
        },
        {
         "name": "count",
         "rawType": "int64",
         "type": "integer"
        },
        {
         "name": "rmse",
         "rawType": "float64",
         "type": "float"
        }
       ],
       "ref": "f62e1964-bbdb-4ffd-a6a5-a59f9e2e8816",
       "rows": [
        [
         "0",
         "BS1",
         "D6_2",
         "global",
         "global",
         "22352800",
         "17.149639170862148"
        ],
        [
         "1",
         "BS1",
         "D6_1",
         "global",
         "global",
         "28501895",
         "17.027248454430467"
        ],
        [
         "2",
         "BS1",
         "D5_2",
         "global",
         "global",
         "22338724",
         "17.889396882290452"
        ],
        [
         "3",
         "BS1",
         "D5_1",
         "global",
         "global",
         "22932557",
         "17.824894690809597"
        ],
        [
         "4",
         "BS1",
         "BL_2",
         "global",
         "global",
         "33157745",
         "14.838078666652608"
        ],
        [
         "5",
         "BS1",
         "BL_1",
         "global",
         "global",
         "33594484",
         "14.920146857801033"
        ],
        [
         "6",
         "BS1",
         "BC_2",
         "global",
         "global",
         "27488960",
         "15.4626999403591"
        ],
        [
         "7",
         "BS1",
         "BC_1",
         "global",
         "global",
         "32319650",
         "15.238507234533447"
        ],
        [
         "8",
         "BS1",
         "T2_2",
         "global",
         "global",
         "19821848",
         "17.544068342671462"
        ],
        [
         "9",
         "BS1",
         "T2_1",
         "global",
         "global",
         "20559706",
         "17.39583625109588"
        ],
        [
         "10",
         "BS1",
         "T1_2",
         "global",
         "global",
         "18595159",
         "17.838244802922926"
        ],
        [
         "11",
         "BS1",
         "T1_1",
         "global",
         "global",
         "19837873",
         "17.381496298976717"
        ],
        [
         "12",
         "BS1",
         "M8_2",
         "global",
         "global",
         "23889677",
         "15.799867749077032"
        ],
        [
         "13",
         "BS1",
         "M8_1",
         "global",
         "global",
         "22993088",
         "16.05459349899732"
        ],
        [
         "14",
         "BS1",
         "F7_2",
         "global",
         "global",
         "26338311",
         "16.416302924173156"
        ],
        [
         "15",
         "BS1",
         "F7_1",
         "global",
         "global",
         "24194250",
         "16.772022609758853"
        ],
        [
         "16",
         "BS1",
         "T3_1",
         "global",
         "global",
         "21016516",
         "17.158053250040364"
        ],
        [
         "17",
         "BS1",
         "T3_2",
         "global",
         "global",
         "19148998",
         "17.414596237389915"
        ],
        [
         "18",
         "BS1",
         "T4_1",
         "global",
         "global",
         "19868669",
         "16.901940577465965"
        ],
        [
         "19",
         "BS1",
         "T4_2",
         "global",
         "global",
         "20687646",
         "17.042084011958288"
        ],
        [
         "20",
         "BS2",
         "T3_1",
         "global",
         "global",
         "11520001",
         "22.95464895215902"
        ],
        [
         "21",
         "BS2",
         "T3_2",
         "global",
         "global",
         "11520001",
         "23.196869271308145"
        ],
        [
         "22",
         "BS2",
         "T4_1",
         "global",
         "global",
         "11520001",
         "23.51216581655199"
        ],
        [
         "23",
         "BS2",
         "T4_2",
         "global",
         "global",
         "11520001",
         "23.472331333589104"
        ],
        [
         "24",
         "BS2",
         "T1_1",
         "global",
         "global",
         "11520001",
         "23.02819192559157"
        ],
        [
         "25",
         "BS2",
         "T1_2",
         "global",
         "global",
         "11520001",
         "22.79142058460909"
        ],
        [
         "26",
         "BS2",
         "T2_1",
         "global",
         "global",
         "11520001",
         "23.04301717951877"
        ],
        [
         "27",
         "BS2",
         "T2_2",
         "global",
         "global",
         "11520001",
         "23.234958895401487"
        ],
        [
         "28",
         "BS2",
         "BC_1",
         "global",
         "global",
         "19809511",
         "19.61610000281548"
        ],
        [
         "29",
         "BS2",
         "BC_2",
         "global",
         "global",
         "19809511",
         "19.681656110302907"
        ],
        [
         "30",
         "BS2",
         "BL_1",
         "global",
         "global",
         "19478064",
         "19.46518484847989"
        ],
        [
         "31",
         "BS2",
         "BL_2",
         "global",
         "global",
         "19478064",
         "19.656475170364217"
        ],
        [
         "32",
         "BS2",
         "D5_1",
         "global",
         "global",
         "13936141",
         "23.18815154426664"
        ],
        [
         "33",
         "BS2",
         "D5_2",
         "global",
         "global",
         "13936141",
         "23.0515715818202"
        ],
        [
         "34",
         "BS2",
         "D6_1",
         "global",
         "global",
         "15982297",
         "23.120103312828668"
        ],
        [
         "35",
         "BS2",
         "D6_2",
         "global",
         "global",
         "15982297",
         "23.210479077510254"
        ],
        [
         "36",
         "BS2",
         "F7_1",
         "global",
         "global",
         "14450642",
         "22.94184116406152"
        ],
        [
         "37",
         "BS2",
         "F7_2",
         "global",
         "global",
         "14450642",
         "22.589777543361134"
        ],
        [
         "38",
         "BS2",
         "M8_1",
         "global",
         "global",
         "13863473",
         "22.30614459043561"
        ],
        [
         "39",
         "BS2",
         "M8_2",
         "global",
         "global",
         "13863473",
         "22.28913547808278"
        ],
        [
         "40",
         "BS3",
         "BC_1",
         "global",
         "global",
         "20086768",
         "15.47900735973558"
        ],
        [
         "41",
         "BS3",
         "BC_2",
         "global",
         "global",
         "20110305",
         "15.460206263170928"
        ],
        [
         "42",
         "BS3",
         "BL_1",
         "global",
         "global",
         "19966786",
         "13.808903020349184"
        ],
        [
         "43",
         "BS3",
         "BL_2",
         "global",
         "global",
         "19984050",
         "13.791143412646084"
        ],
        [
         "44",
         "BS3",
         "D5_1",
         "global",
         "global",
         "14118966",
         "17.112803757964443"
        ],
        [
         "45",
         "BS3",
         "D5_2",
         "global",
         "global",
         "14118507",
         "17.124746971459327"
        ],
        [
         "46",
         "BS3",
         "D6_1",
         "global",
         "global",
         "16216527",
         "15.9673269819421"
        ],
        [
         "47",
         "BS3",
         "D6_2",
         "global",
         "global",
         "16204257",
         "16.02278183431963"
        ],
        [
         "48",
         "BS3",
         "T3_1",
         "global",
         "global",
         "11645749",
         "16.517375927628887"
        ],
        [
         "49",
         "BS3",
         "T3_2",
         "global",
         "global",
         "11659706",
         "16.291286962412393"
        ]
       ],
       "shape": {
        "columns": 6,
        "rows": 320
       }
      },
      "text/html": [
       "<div>\n",
       "<style scoped>\n",
       "    .dataframe tbody tr th:only-of-type {\n",
       "        vertical-align: middle;\n",
       "    }\n",
       "\n",
       "    .dataframe tbody tr th {\n",
       "        vertical-align: top;\n",
       "    }\n",
       "\n",
       "    .dataframe thead th {\n",
       "        text-align: right;\n",
       "    }\n",
       "</style>\n",
       "<table border=\"1\" class=\"dataframe\">\n",
       "  <thead>\n",
       "    <tr style=\"text-align: right;\">\n",
       "      <th></th>\n",
       "      <th>lab</th>\n",
       "      <th>sample</th>\n",
       "      <th>feature</th>\n",
       "      <th>fgroup</th>\n",
       "      <th>count</th>\n",
       "      <th>rmse</th>\n",
       "    </tr>\n",
       "  </thead>\n",
       "  <tbody>\n",
       "    <tr>\n",
       "      <th>0</th>\n",
       "      <td>BS1</td>\n",
       "      <td>D6_2</td>\n",
       "      <td>global</td>\n",
       "      <td>global</td>\n",
       "      <td>22352800</td>\n",
       "      <td>17.149639</td>\n",
       "    </tr>\n",
       "    <tr>\n",
       "      <th>1</th>\n",
       "      <td>BS1</td>\n",
       "      <td>D6_1</td>\n",
       "      <td>global</td>\n",
       "      <td>global</td>\n",
       "      <td>28501895</td>\n",
       "      <td>17.027248</td>\n",
       "    </tr>\n",
       "    <tr>\n",
       "      <th>2</th>\n",
       "      <td>BS1</td>\n",
       "      <td>D5_2</td>\n",
       "      <td>global</td>\n",
       "      <td>global</td>\n",
       "      <td>22338724</td>\n",
       "      <td>17.889397</td>\n",
       "    </tr>\n",
       "    <tr>\n",
       "      <th>3</th>\n",
       "      <td>BS1</td>\n",
       "      <td>D5_1</td>\n",
       "      <td>global</td>\n",
       "      <td>global</td>\n",
       "      <td>22932557</td>\n",
       "      <td>17.824895</td>\n",
       "    </tr>\n",
       "    <tr>\n",
       "      <th>4</th>\n",
       "      <td>BS1</td>\n",
       "      <td>BL_2</td>\n",
       "      <td>global</td>\n",
       "      <td>global</td>\n",
       "      <td>33157745</td>\n",
       "      <td>14.838079</td>\n",
       "    </tr>\n",
       "    <tr>\n",
       "      <th>...</th>\n",
       "      <td>...</td>\n",
       "      <td>...</td>\n",
       "      <td>...</td>\n",
       "      <td>...</td>\n",
       "      <td>...</td>\n",
       "      <td>...</td>\n",
       "    </tr>\n",
       "    <tr>\n",
       "      <th>315</th>\n",
       "      <td>MA3</td>\n",
       "      <td>BL_2</td>\n",
       "      <td>global</td>\n",
       "      <td>global</td>\n",
       "      <td>753372</td>\n",
       "      <td>12.705825</td>\n",
       "    </tr>\n",
       "    <tr>\n",
       "      <th>316</th>\n",
       "      <td>MA3</td>\n",
       "      <td>D5_1</td>\n",
       "      <td>global</td>\n",
       "      <td>global</td>\n",
       "      <td>555864</td>\n",
       "      <td>15.181384</td>\n",
       "    </tr>\n",
       "    <tr>\n",
       "      <th>317</th>\n",
       "      <td>MA3</td>\n",
       "      <td>D5_2</td>\n",
       "      <td>global</td>\n",
       "      <td>global</td>\n",
       "      <td>556031</td>\n",
       "      <td>15.243044</td>\n",
       "    </tr>\n",
       "    <tr>\n",
       "      <th>318</th>\n",
       "      <td>MA3</td>\n",
       "      <td>D6_1</td>\n",
       "      <td>global</td>\n",
       "      <td>global</td>\n",
       "      <td>650224</td>\n",
       "      <td>13.933550</td>\n",
       "    </tr>\n",
       "    <tr>\n",
       "      <th>319</th>\n",
       "      <td>MA3</td>\n",
       "      <td>D6_2</td>\n",
       "      <td>global</td>\n",
       "      <td>global</td>\n",
       "      <td>650405</td>\n",
       "      <td>13.957581</td>\n",
       "    </tr>\n",
       "  </tbody>\n",
       "</table>\n",
       "<p>320 rows × 6 columns</p>\n",
       "</div>"
      ],
      "text/plain": [
       "     lab sample feature  fgroup     count       rmse\n",
       "0    BS1   D6_2  global  global  22352800  17.149639\n",
       "1    BS1   D6_1  global  global  28501895  17.027248\n",
       "2    BS1   D5_2  global  global  22338724  17.889397\n",
       "3    BS1   D5_1  global  global  22932557  17.824895\n",
       "4    BS1   BL_2  global  global  33157745  14.838079\n",
       "..   ...    ...     ...     ...       ...        ...\n",
       "315  MA3   BL_2  global  global    753372  12.705825\n",
       "316  MA3   D5_1  global  global    555864  15.181384\n",
       "317  MA3   D5_2  global  global    556031  15.243044\n",
       "318  MA3   D6_1  global  global    650224  13.933550\n",
       "319  MA3   D6_2  global  global    650405  13.957581\n",
       "\n",
       "[320 rows x 6 columns]"
      ]
     },
     "execution_count": 1,
     "metadata": {},
     "output_type": "execute_result"
    }
   ],
   "source": [
    "import matplotlib.pyplot as plt\n",
    "import pandas as pd\n",
    "import seaborn as sns\n",
    "\n",
    "\n",
    "submitted: pd.DataFrame\n",
    "submitted = (pd.read_csv('/mnt/eqa/zhangyuanfeng/methylation/evaluated/submitted_rmse.csv')\n",
    "               .sort_values(by='lab', key=lambda s: s.apply(['BS1', 'BS2', 'BS3', 'BS4',\n",
    "                                                             'EM1', 'EM2', 'EM3', 'EM4',\n",
    "                                                             'RR1', 'PS1', 'PS2', 'PS3',\n",
    "                                                             'RM1', 'MA1', 'MA2', 'MA3'].index), ignore_index=True))\n",
    "\n",
    "submitted"
   ]
  },
  {
   "cell_type": "code",
   "execution_count": 2,
   "id": "c57ba572",
   "metadata": {},
   "outputs": [
    {
     "data": {
      "application/vnd.microsoft.datawrangler.viewer.v0+json": {
       "columns": [
        {
         "name": "index",
         "rawType": "int64",
         "type": "integer"
        },
        {
         "name": "lab",
         "rawType": "object",
         "type": "string"
        },
        {
         "name": "sample",
         "rawType": "object",
         "type": "string"
        },
        {
         "name": "feature",
         "rawType": "object",
         "type": "string"
        },
        {
         "name": "fgroup",
         "rawType": "object",
         "type": "string"
        },
        {
         "name": "count",
         "rawType": "int64",
         "type": "integer"
        },
        {
         "name": "rmse",
         "rawType": "float64",
         "type": "float"
        }
       ],
       "ref": "e1429526-f556-497d-8fca-80d90938c9b0",
       "rows": [
        [
         "0",
         "BS1",
         "F7_1",
         "compact_depth_bin",
         "≥10x",
         "18462803",
         "14.953260953705565"
        ],
        [
         "1",
         "BS1",
         "F7_2",
         "compact_depth_bin",
         "≥10x",
         "17964416",
         "14.9631677990012"
        ],
        [
         "2",
         "BS1",
         "BL_1",
         "compact_depth_bin",
         "≥10x",
         "25925701",
         "13.228193213566826"
        ],
        [
         "3",
         "BS1",
         "BL_2",
         "compact_depth_bin",
         "≥10x",
         "24263587",
         "13.159559077163886"
        ],
        [
         "4",
         "BS1",
         "BC_1",
         "compact_depth_bin",
         "≥10x",
         "22841865",
         "13.809189305382892"
        ],
        [
         "5",
         "BS1",
         "BC_2",
         "compact_depth_bin",
         "≥10x",
         "20475800",
         "13.95605202745858"
        ],
        [
         "6",
         "BS1",
         "T2_2",
         "compact_depth_bin",
         "≥10x",
         "12923750",
         "15.96534047464909"
        ],
        [
         "7",
         "BS1",
         "T2_1",
         "compact_depth_bin",
         "≥10x",
         "13165582",
         "15.926805333791975"
        ],
        [
         "8",
         "BS1",
         "T1_2",
         "compact_depth_bin",
         "≥10x",
         "13460082",
         "16.02951642672753"
        ],
        [
         "9",
         "BS1",
         "T1_1",
         "compact_depth_bin",
         "≥10x",
         "14376134",
         "15.946328625685029"
        ],
        [
         "10",
         "BS1",
         "M8_2",
         "compact_depth_bin",
         "≥10x",
         "18229045",
         "13.920989466374705"
        ],
        [
         "11",
         "BS1",
         "M8_1",
         "compact_depth_bin",
         "≥10x",
         "18871116",
         "14.100828642565435"
        ],
        [
         "12",
         "BS1",
         "D6_2",
         "compact_depth_bin",
         "≥10x",
         "12688582",
         "15.03521847273075"
        ],
        [
         "13",
         "BS1",
         "D6_1",
         "compact_depth_bin",
         "≥10x",
         "18554648",
         "15.504327786519545"
        ],
        [
         "14",
         "BS1",
         "D5_2",
         "compact_depth_bin",
         "≥10x",
         "19284177",
         "15.946387263993346"
        ],
        [
         "15",
         "BS1",
         "D5_1",
         "compact_depth_bin",
         "≥10x",
         "17736966",
         "16.271191530633057"
        ],
        [
         "16",
         "BS1",
         "T4_1",
         "compact_depth_bin",
         "≥10x",
         "10771906",
         "15.239125122346442"
        ],
        [
         "17",
         "BS1",
         "T4_2",
         "compact_depth_bin",
         "≥10x",
         "16731848",
         "15.302930803477638"
        ],
        [
         "18",
         "BS1",
         "T3_1",
         "compact_depth_bin",
         "≥10x",
         "14808604",
         "15.72057978562393"
        ],
        [
         "19",
         "BS1",
         "T3_2",
         "compact_depth_bin",
         "≥10x",
         "11723415",
         "15.656713164442234"
        ],
        [
         "20",
         "BS2",
         "BC_1",
         "compact_depth_bin",
         "≥10x",
         "29972740",
         "15.76908878789808"
        ],
        [
         "21",
         "BS2",
         "BC_2",
         "compact_depth_bin",
         "≥10x",
         "28942829",
         "15.891719292372676"
        ],
        [
         "22",
         "BS2",
         "M8_2",
         "compact_depth_bin",
         "≥10x",
         "24372665",
         "15.324945551385014"
        ],
        [
         "23",
         "BS2",
         "M8_1",
         "compact_depth_bin",
         "≥10x",
         "24625710",
         "15.335111066045464"
        ],
        [
         "24",
         "BS2",
         "F7_2",
         "compact_depth_bin",
         "≥10x",
         "25554835",
         "16.177055394795325"
        ],
        [
         "25",
         "BS2",
         "F7_1",
         "compact_depth_bin",
         "≥10x",
         "24186091",
         "16.271872993758404"
        ],
        [
         "26",
         "BS2",
         "D6_2",
         "compact_depth_bin",
         "≥10x",
         "28705625",
         "16.48434271348044"
        ],
        [
         "27",
         "BS2",
         "D6_1",
         "compact_depth_bin",
         "≥10x",
         "29062686",
         "16.301775213714002"
        ],
        [
         "28",
         "BS2",
         "D5_2",
         "compact_depth_bin",
         "≥10x",
         "23243962",
         "17.792927080698288"
        ],
        [
         "29",
         "BS2",
         "D5_1",
         "compact_depth_bin",
         "≥10x",
         "22183149",
         "17.768825499310896"
        ],
        [
         "30",
         "BS2",
         "BL_2",
         "compact_depth_bin",
         "≥10x",
         "35178228",
         "14.108253740573849"
        ],
        [
         "31",
         "BS2",
         "BL_1",
         "compact_depth_bin",
         "≥10x",
         "35592275",
         "13.924425008885908"
        ],
        [
         "32",
         "BS2",
         "T4_2",
         "compact_depth_bin",
         "≥10x",
         "19343028",
         "16.948130252854778"
        ],
        [
         "33",
         "BS2",
         "T4_1",
         "compact_depth_bin",
         "≥10x",
         "19237305",
         "16.84937316276114"
        ],
        [
         "34",
         "BS2",
         "T1_1",
         "compact_depth_bin",
         "≥10x",
         "18192085",
         "17.606248996484045"
        ],
        [
         "35",
         "BS2",
         "T1_2",
         "compact_depth_bin",
         "≥10x",
         "19674380",
         "17.60478939954812"
        ],
        [
         "36",
         "BS2",
         "T2_1",
         "compact_depth_bin",
         "≥10x",
         "19046808",
         "17.298398779150876"
        ],
        [
         "37",
         "BS2",
         "T2_2",
         "compact_depth_bin",
         "≥10x",
         "19189748",
         "17.344603096564544"
        ],
        [
         "38",
         "BS2",
         "T3_1",
         "compact_depth_bin",
         "≥10x",
         "20440884",
         "16.985847560864702"
        ],
        [
         "39",
         "BS2",
         "T3_2",
         "compact_depth_bin",
         "≥10x",
         "19797663",
         "17.116774011415988"
        ],
        [
         "40",
         "BS3",
         "T3_2",
         "compact_depth_bin",
         "≥10x",
         "17795181",
         "16.304689026426086"
        ],
        [
         "41",
         "BS3",
         "T3_1",
         "compact_depth_bin",
         "≥10x",
         "15112802",
         "16.37880415871961"
        ],
        [
         "42",
         "BS3",
         "T1_2",
         "compact_depth_bin",
         "≥10x",
         "17072641",
         "16.713640896217335"
        ],
        [
         "43",
         "BS3",
         "T1_1",
         "compact_depth_bin",
         "≥10x",
         "17414981",
         "16.746353448448566"
        ],
        [
         "44",
         "BS3",
         "T4_2",
         "compact_depth_bin",
         "≥10x",
         "17649321",
         "16.096034887569118"
        ],
        [
         "45",
         "BS3",
         "T4_1",
         "compact_depth_bin",
         "≥10x",
         "17638289",
         "16.086406519523795"
        ],
        [
         "46",
         "BS3",
         "BL_1",
         "compact_depth_bin",
         "≥10x",
         "25536154",
         "13.669813771311974"
        ],
        [
         "47",
         "BS3",
         "BL_2",
         "compact_depth_bin",
         "≥10x",
         "26087788",
         "13.63966255396169"
        ],
        [
         "48",
         "BS3",
         "T2_2",
         "compact_depth_bin",
         "≥10x",
         "14472987",
         "16.64794596490014"
        ],
        [
         "49",
         "BS3",
         "T2_1",
         "compact_depth_bin",
         "≥10x",
         "17671453",
         "16.482486529487264"
        ]
       ],
       "shape": {
        "columns": 6,
        "rows": 330
       }
      },
      "text/html": [
       "<div>\n",
       "<style scoped>\n",
       "    .dataframe tbody tr th:only-of-type {\n",
       "        vertical-align: middle;\n",
       "    }\n",
       "\n",
       "    .dataframe tbody tr th {\n",
       "        vertical-align: top;\n",
       "    }\n",
       "\n",
       "    .dataframe thead th {\n",
       "        text-align: right;\n",
       "    }\n",
       "</style>\n",
       "<table border=\"1\" class=\"dataframe\">\n",
       "  <thead>\n",
       "    <tr style=\"text-align: right;\">\n",
       "      <th></th>\n",
       "      <th>lab</th>\n",
       "      <th>sample</th>\n",
       "      <th>feature</th>\n",
       "      <th>fgroup</th>\n",
       "      <th>count</th>\n",
       "      <th>rmse</th>\n",
       "    </tr>\n",
       "  </thead>\n",
       "  <tbody>\n",
       "    <tr>\n",
       "      <th>0</th>\n",
       "      <td>BS1</td>\n",
       "      <td>F7_1</td>\n",
       "      <td>compact_depth_bin</td>\n",
       "      <td>≥10x</td>\n",
       "      <td>18462803</td>\n",
       "      <td>14.953261</td>\n",
       "    </tr>\n",
       "    <tr>\n",
       "      <th>1</th>\n",
       "      <td>BS1</td>\n",
       "      <td>F7_2</td>\n",
       "      <td>compact_depth_bin</td>\n",
       "      <td>≥10x</td>\n",
       "      <td>17964416</td>\n",
       "      <td>14.963168</td>\n",
       "    </tr>\n",
       "    <tr>\n",
       "      <th>2</th>\n",
       "      <td>BS1</td>\n",
       "      <td>BL_1</td>\n",
       "      <td>compact_depth_bin</td>\n",
       "      <td>≥10x</td>\n",
       "      <td>25925701</td>\n",
       "      <td>13.228193</td>\n",
       "    </tr>\n",
       "    <tr>\n",
       "      <th>3</th>\n",
       "      <td>BS1</td>\n",
       "      <td>BL_2</td>\n",
       "      <td>compact_depth_bin</td>\n",
       "      <td>≥10x</td>\n",
       "      <td>24263587</td>\n",
       "      <td>13.159559</td>\n",
       "    </tr>\n",
       "    <tr>\n",
       "      <th>4</th>\n",
       "      <td>BS1</td>\n",
       "      <td>BC_1</td>\n",
       "      <td>compact_depth_bin</td>\n",
       "      <td>≥10x</td>\n",
       "      <td>22841865</td>\n",
       "      <td>13.809189</td>\n",
       "    </tr>\n",
       "    <tr>\n",
       "      <th>...</th>\n",
       "      <td>...</td>\n",
       "      <td>...</td>\n",
       "      <td>...</td>\n",
       "      <td>...</td>\n",
       "      <td>...</td>\n",
       "      <td>...</td>\n",
       "    </tr>\n",
       "    <tr>\n",
       "      <th>325</th>\n",
       "      <td>MA3</td>\n",
       "      <td>T3_2</td>\n",
       "      <td>global</td>\n",
       "      <td>global</td>\n",
       "      <td>477313</td>\n",
       "      <td>14.489987</td>\n",
       "    </tr>\n",
       "    <tr>\n",
       "      <th>326</th>\n",
       "      <td>MA3</td>\n",
       "      <td>F7_2</td>\n",
       "      <td>global</td>\n",
       "      <td>global</td>\n",
       "      <td>595760</td>\n",
       "      <td>13.842521</td>\n",
       "    </tr>\n",
       "    <tr>\n",
       "      <th>327</th>\n",
       "      <td>MA3</td>\n",
       "      <td>M8_1</td>\n",
       "      <td>global</td>\n",
       "      <td>global</td>\n",
       "      <td>550163</td>\n",
       "      <td>13.481177</td>\n",
       "    </tr>\n",
       "    <tr>\n",
       "      <th>328</th>\n",
       "      <td>MA3</td>\n",
       "      <td>M8_2</td>\n",
       "      <td>global</td>\n",
       "      <td>global</td>\n",
       "      <td>550251</td>\n",
       "      <td>13.558554</td>\n",
       "    </tr>\n",
       "    <tr>\n",
       "      <th>329</th>\n",
       "      <td>MA3</td>\n",
       "      <td>BC_1</td>\n",
       "      <td>global</td>\n",
       "      <td>global</td>\n",
       "      <td>755274</td>\n",
       "      <td>13.237324</td>\n",
       "    </tr>\n",
       "  </tbody>\n",
       "</table>\n",
       "<p>330 rows × 6 columns</p>\n",
       "</div>"
      ],
      "text/plain": [
       "     lab sample            feature  fgroup     count       rmse\n",
       "0    BS1   F7_1  compact_depth_bin    ≥10x  18462803  14.953261\n",
       "1    BS1   F7_2  compact_depth_bin    ≥10x  17964416  14.963168\n",
       "2    BS1   BL_1  compact_depth_bin    ≥10x  25925701  13.228193\n",
       "3    BS1   BL_2  compact_depth_bin    ≥10x  24263587  13.159559\n",
       "4    BS1   BC_1  compact_depth_bin    ≥10x  22841865  13.809189\n",
       "..   ...    ...                ...     ...       ...        ...\n",
       "325  MA3   T3_2             global  global    477313  14.489987\n",
       "326  MA3   F7_2             global  global    595760  13.842521\n",
       "327  MA3   M8_1             global  global    550163  13.481177\n",
       "328  MA3   M8_2             global  global    550251  13.558554\n",
       "329  MA3   BC_1             global  global    755274  13.237324\n",
       "\n",
       "[330 rows x 6 columns]"
      ]
     },
     "execution_count": 2,
     "metadata": {},
     "output_type": "execute_result"
    }
   ],
   "source": [
    "unified: pd.DataFrame\n",
    "unified = (pd.concat([pd.read_csv('/mnt/eqa/zhangyuanfeng/methylation/unified_informed/evaluated/c_rmse/unified_rmse')\n",
    "                        .query(\"feature == 'compact_depth_bin' & fgroup == '≥10x'\"),\n",
    "                      submitted[submitted['lab'].isin(['MA1', 'MA2', 'MA3'])]])\n",
    "             .sort_values(by='lab', key=lambda s: s.apply(['BS1', 'BS2', 'BS3', 'BS4',\n",
    "                                                           'EM1', 'EM2', 'EM3', 'EM4',\n",
    "                                                           'RR1', 'PS1', 'PS2', 'PS3',\n",
    "                                                           'RM1', 'NP1',\n",
    "                                                           'MA1', 'MA2', 'MA3'].index), ignore_index=True))\n",
    "unified"
   ]
  },
  {
   "cell_type": "code",
   "execution_count": 3,
   "id": "ed593416",
   "metadata": {},
   "outputs": [],
   "source": [
    "unified_pivot: pd.DataFrame = unified.pivot(columns='sample', index='lab', values='rmse')\n",
    "labels = ['D5', 'D6', 'F7', 'M8', 'T1', 'T2', 'T3', 'T4', 'BC', 'BL']\n",
    "for label in labels:\n",
    "    unified_pivot.loc['NP1', f'{label}_2'] = unified_pivot.loc['NP1', f'{label}_1']\n"
   ]
  },
  {
   "cell_type": "code",
   "execution_count": 27,
   "id": "ed44b2ab",
   "metadata": {},
   "outputs": [
    {
     "data": {
      "text/plain": [
       "<Axes: xlabel='sample', ylabel='lab'>"
      ]
     },
     "execution_count": 27,
     "metadata": {},
     "output_type": "execute_result"
    },
    {
     "data": {
      "image/png": "[encoded data removed]",
      "text/plain": [
       "<Figure size 640x480 with 2 Axes>"
      ]
     },
     "metadata": {},
     "output_type": "display_data"
    }
   ],
   "source": [
    "(sns.heatmap(data=unified_pivot[['D5_1', 'D5_2', 'D6_1', 'D6_2',\n",
    "                                 'F7_1', 'F7_2', 'M8_1', 'M8_2',\n",
    "                                 'T1_1', 'T1_2', 'T2_1', 'T2_2',\n",
    "                                 'T3_1', 'T3_2', 'T4_1', 'T4_2',\n",
    "                                 'BC_1', 'BC_2', 'BL_1', 'BL_2']],\n",
    "             cmap='coolwarm', linewidths=.5))"
   ]
  },
  {
   "cell_type": "code",
   "execution_count": 28,
   "id": "0b08867c",
   "metadata": {},
   "outputs": [
    {
     "data": {
      "text/plain": [
       "<seaborn.matrix.ClusterGrid at 0x74aac4943e60>"
      ]
     },
     "execution_count": 28,
     "metadata": {},
     "output_type": "execute_result"
    },
    {
     "data": {
      "image/png": "[encoded data removed]",
      "text/plain": [
       "<Figure size 1000x1000 with 4 Axes>"
      ]
     },
     "metadata": {},
     "output_type": "display_data"
    }
   ],
   "source": [
    "(sns.clustermap(data=unified_pivot,\n",
    "                cmap='coolwarm', linewidths=.5))"
   ]
  },
  {
   "cell_type": "code",
   "execution_count": 29,
   "id": "dc5ac99a",
   "metadata": {},
   "outputs": [
    {
     "data": {
      "text/plain": [
       "<Axes: xlabel='lab', ylabel='rmse'>"
      ]
     },
     "execution_count": 29,
     "metadata": {},
     "output_type": "execute_result"
    },
    {
     "data": {
      "image/png": "[encoded data removed]",
      "text/plain": [
       "<Figure size 640x480 with 1 Axes>"
      ]
     },
     "metadata": {},
     "output_type": "display_data"
    }
   ],
   "source": [
    "sns.boxplot(data=unified, x='lab', y='rmse')"
   ]
  },
  {
   "cell_type": "code",
   "execution_count": 32,
   "id": "8697a4a0",
   "metadata": {},
   "outputs": [
    {
     "data": {
      "application/vnd.microsoft.datawrangler.viewer.v0+json": {
       "columns": [
        {
         "name": "index",
         "rawType": "object",
         "type": "string"
        },
        {
         "name": "rmse",
         "rawType": "float64",
         "type": "float"
        }
       ],
       "ref": "05c682f2-45d7-47bb-8d12-2eeaf87ece57",
       "rows": [
        [
         "count",
         "20.0"
        ],
        [
         "mean",
         "24.034925006552644"
        ],
        [
         "std",
         "1.4347440632338462"
        ],
        [
         "min",
         "21.260503838111035"
        ],
        [
         "25%",
         "23.521459510790304"
        ],
        [
         "50%",
         "23.90364167714914"
        ],
        [
         "75%",
         "24.320133814963494"
        ],
        [
         "max",
         "27.498736160480146"
        ]
       ],
       "shape": {
        "columns": 1,
        "rows": 8
       }
      },
      "text/plain": [
       "count    20.000000\n",
       "mean     24.034925\n",
       "std       1.434744\n",
       "min      21.260504\n",
       "25%      23.521460\n",
       "50%      23.903642\n",
       "75%      24.320134\n",
       "max      27.498736\n",
       "Name: rmse, dtype: float64"
      ]
     },
     "execution_count": 32,
     "metadata": {},
     "output_type": "execute_result"
    }
   ],
   "source": [
    "unified[unified['lab'] == 'BS4']['rmse'].describe()"
   ]
  },
  {
   "cell_type": "code",
   "execution_count": 33,
   "id": "38ca7f9c",
   "metadata": {},
   "outputs": [
    {
     "data": {
      "application/vnd.microsoft.datawrangler.viewer.v0+json": {
       "columns": [
        {
         "name": "index",
         "rawType": "object",
         "type": "string"
        },
        {
         "name": "rmse",
         "rawType": "float64",
         "type": "float"
        }
       ],
       "ref": "486ec5ad-af00-411b-9e2b-bcf06392ce2b",
       "rows": [
        [
         "count",
         "60.0"
        ],
        [
         "mean",
         "15.75352552921785"
        ],
        [
         "std",
         "1.185040931832293"
        ],
        [
         "min",
         "13.159559077163886"
        ],
        [
         "25%",
         "14.98360305768876"
        ],
        [
         "50%",
         "15.946357944839187"
        ],
        [
         "75%",
         "16.525243526335366"
        ],
        [
         "max",
         "17.792927080698288"
        ]
       ],
       "shape": {
        "columns": 1,
        "rows": 8
       }
      },
      "text/plain": [
       "count    60.000000\n",
       "mean     15.753526\n",
       "std       1.185041\n",
       "min      13.159559\n",
       "25%      14.983603\n",
       "50%      15.946358\n",
       "75%      16.525244\n",
       "max      17.792927\n",
       "Name: rmse, dtype: float64"
      ]
     },
     "execution_count": 33,
     "metadata": {},
     "output_type": "execute_result"
    }
   ],
   "source": [
    "unified[unified['lab'].isin(['BS1', 'BS2', 'BS3'])]['rmse'].describe()"
   ]
  },
  {
   "cell_type": "code",
   "execution_count": 4,
   "id": "33137d10",
   "metadata": {},
   "outputs": [
    {
     "data": {
      "application/vnd.microsoft.datawrangler.viewer.v0+json": {
       "columns": [
        {
         "name": "index",
         "rawType": "object",
         "type": "string"
        },
        {
         "name": "rmse",
         "rawType": "float64",
         "type": "float"
        }
       ],
       "ref": "d8fc6672-c577-4da0-bc7b-833ebc3f9e34",
       "rows": [
        [
         "count",
         "80.0"
        ],
        [
         "mean",
         "17.823875398551547"
        ],
        [
         "std",
         "3.8165031017996864"
        ],
        [
         "min",
         "13.159559077163886"
        ],
        [
         "25%",
         "15.332569687380351"
        ],
        [
         "50%",
         "16.2868241037362"
        ],
        [
         "75%",
         "18.659821270051474"
        ],
        [
         "max",
         "27.498736160480146"
        ]
       ],
       "shape": {
        "columns": 1,
        "rows": 8
       }
      },
      "text/plain": [
       "count    80.000000\n",
       "mean     17.823875\n",
       "std       3.816503\n",
       "min      13.159559\n",
       "25%      15.332570\n",
       "50%      16.286824\n",
       "75%      18.659821\n",
       "max      27.498736\n",
       "Name: rmse, dtype: float64"
      ]
     },
     "execution_count": 4,
     "metadata": {},
     "output_type": "execute_result"
    }
   ],
   "source": [
    "unified[unified['lab'].isin(['BS1', 'BS2', 'BS3', 'BS4'])]['rmse'].describe()"
   ]
  },
  {
   "cell_type": "code",
   "execution_count": 35,
   "id": "b5571a41",
   "metadata": {},
   "outputs": [
    {
     "data": {
      "application/vnd.microsoft.datawrangler.viewer.v0+json": {
       "columns": [
        {
         "name": "index",
         "rawType": "object",
         "type": "string"
        },
        {
         "name": "rmse",
         "rawType": "float64",
         "type": "float"
        }
       ],
       "ref": "45991383-4d04-40e0-a875-012a0c80999c",
       "rows": [
        [
         "count",
         "80.0"
        ],
        [
         "mean",
         "16.427980189120962"
        ],
        [
         "std",
         "1.1674656283664395"
        ],
        [
         "min",
         "13.36164022348754"
        ],
        [
         "25%",
         "15.867996441283411"
        ],
        [
         "50%",
         "16.47983855589069"
        ],
        [
         "75%",
         "17.26223104317051"
        ],
        [
         "max",
         "18.450954520561503"
        ]
       ],
       "shape": {
        "columns": 1,
        "rows": 8
       }
      },
      "text/plain": [
       "count    80.000000\n",
       "mean     16.427980\n",
       "std       1.167466\n",
       "min      13.361640\n",
       "25%      15.867996\n",
       "50%      16.479839\n",
       "75%      17.262231\n",
       "max      18.450955\n",
       "Name: rmse, dtype: float64"
      ]
     },
     "execution_count": 35,
     "metadata": {},
     "output_type": "execute_result"
    }
   ],
   "source": [
    "unified[unified['lab'].str.contains('EM')]['rmse'].describe()"
   ]
  },
  {
   "cell_type": "code",
   "execution_count": 36,
   "id": "68d0fd24",
   "metadata": {},
   "outputs": [
    {
     "data": {
      "application/vnd.microsoft.datawrangler.viewer.v0+json": {
       "columns": [
        {
         "name": "index",
         "rawType": "object",
         "type": "string"
        },
        {
         "name": "rmse",
         "rawType": "float64",
         "type": "float"
        }
       ],
       "ref": "e74ab35e-aeea-457e-b6b9-1260213f13e5",
       "rows": [
        [
         "count",
         "20.0"
        ],
        [
         "mean",
         "14.897366760367921"
        ],
        [
         "std",
         "0.8684163863885804"
        ],
        [
         "min",
         "13.468904213403688"
        ],
        [
         "25%",
         "14.290979042919655"
        ],
        [
         "50%",
         "14.775065349718592"
        ],
        [
         "75%",
         "15.52226921123799"
        ],
        [
         "max",
         "16.60590459037091"
        ]
       ],
       "shape": {
        "columns": 1,
        "rows": 8
       }
      },
      "text/plain": [
       "count    20.000000\n",
       "mean     14.897367\n",
       "std       0.868416\n",
       "min      13.468904\n",
       "25%      14.290979\n",
       "50%      14.775065\n",
       "75%      15.522269\n",
       "max      16.605905\n",
       "Name: rmse, dtype: float64"
      ]
     },
     "execution_count": 36,
     "metadata": {},
     "output_type": "execute_result"
    }
   ],
   "source": [
    "unified[unified['lab'] == 'RR1']['rmse'].describe()"
   ]
  },
  {
   "cell_type": "code",
   "execution_count": 38,
   "id": "0b0b4a9b",
   "metadata": {},
   "outputs": [
    {
     "data": {
      "application/vnd.microsoft.datawrangler.viewer.v0+json": {
       "columns": [
        {
         "name": "index",
         "rawType": "object",
         "type": "string"
        },
        {
         "name": "rmse",
         "rawType": "float64",
         "type": "float"
        }
       ],
       "ref": "0686afe1-bf27-43c3-ba15-d9b5cf705b92",
       "rows": [
        [
         "count",
         "20.0"
        ],
        [
         "mean",
         "14.897366760367921"
        ],
        [
         "std",
         "0.8684163863885804"
        ],
        [
         "min",
         "13.468904213403688"
        ],
        [
         "25%",
         "14.290979042919655"
        ],
        [
         "50%",
         "14.775065349718592"
        ],
        [
         "75%",
         "15.52226921123799"
        ],
        [
         "max",
         "16.60590459037091"
        ]
       ],
       "shape": {
        "columns": 1,
        "rows": 8
       }
      },
      "text/plain": [
       "count    20.000000\n",
       "mean     14.897367\n",
       "std       0.868416\n",
       "min      13.468904\n",
       "25%      14.290979\n",
       "50%      14.775065\n",
       "75%      15.522269\n",
       "max      16.605905\n",
       "Name: rmse, dtype: float64"
      ]
     },
     "execution_count": 38,
     "metadata": {},
     "output_type": "execute_result"
    }
   ],
   "source": [
    "unified[unified['lab'] == 'RR1']['rmse'].describe()"
   ]
  },
  {
   "cell_type": "code",
   "execution_count": 37,
   "id": "8609a763",
   "metadata": {},
   "outputs": [
    {
     "data": {
      "application/vnd.microsoft.datawrangler.viewer.v0+json": {
       "columns": [
        {
         "name": "index",
         "rawType": "object",
         "type": "string"
        },
        {
         "name": "rmse",
         "rawType": "float64",
         "type": "float"
        }
       ],
       "ref": "ab33f9ab-f0d5-49ce-a839-cbc00832ed71",
       "rows": [
        [
         "count",
         "60.0"
        ],
        [
         "mean",
         "14.90509158644149"
        ],
        [
         "std",
         "0.83580022040158"
        ],
        [
         "min",
         "12.928630837935104"
        ],
        [
         "25%",
         "14.314730747912986"
        ],
        [
         "50%",
         "15.147021569389475"
        ],
        [
         "75%",
         "15.50561270207441"
        ],
        [
         "max",
         "16.041454985173186"
        ]
       ],
       "shape": {
        "columns": 1,
        "rows": 8
       }
      },
      "text/plain": [
       "count    60.000000\n",
       "mean     14.905092\n",
       "std       0.835800\n",
       "min      12.928631\n",
       "25%      14.314731\n",
       "50%      15.147022\n",
       "75%      15.505613\n",
       "max      16.041455\n",
       "Name: rmse, dtype: float64"
      ]
     },
     "execution_count": 37,
     "metadata": {},
     "output_type": "execute_result"
    }
   ],
   "source": [
    "unified[unified['lab'].str.contains('PS')]['rmse'].describe()"
   ]
  },
  {
   "cell_type": "code",
   "execution_count": 43,
   "id": "5f44585f",
   "metadata": {},
   "outputs": [
    {
     "data": {
      "application/vnd.microsoft.datawrangler.viewer.v0+json": {
       "columns": [
        {
         "name": "index",
         "rawType": "object",
         "type": "string"
        },
        {
         "name": "rmse",
         "rawType": "float64",
         "type": "float"
        }
       ],
       "ref": "ebad165b-765c-4eb1-9e05-0bf46ed5a84c",
       "rows": [
        [
         "count",
         "20.0"
        ],
        [
         "mean",
         "14.704902906158287"
        ],
        [
         "std",
         "0.7917080021645815"
        ],
        [
         "min",
         "13.20104449541939"
        ],
        [
         "25%",
         "14.420217067471771"
        ],
        [
         "50%",
         "14.872453840130925"
        ],
        [
         "75%",
         "15.289254742590046"
        ],
        [
         "max",
         "15.736969779732622"
        ]
       ],
       "shape": {
        "columns": 1,
        "rows": 8
       }
      },
      "text/plain": [
       "count    20.000000\n",
       "mean     14.704903\n",
       "std       0.791708\n",
       "min      13.201044\n",
       "25%      14.420217\n",
       "50%      14.872454\n",
       "75%      15.289255\n",
       "max      15.736970\n",
       "Name: rmse, dtype: float64"
      ]
     },
     "execution_count": 43,
     "metadata": {},
     "output_type": "execute_result"
    }
   ],
   "source": [
    "unified[unified['lab'] == 'PS3']['rmse'].describe()"
   ]
  },
  {
   "cell_type": "code",
   "execution_count": 34,
   "id": "3d04c675",
   "metadata": {},
   "outputs": [
    {
     "data": {
      "application/vnd.microsoft.datawrangler.viewer.v0+json": {
       "columns": [
        {
         "name": "index",
         "rawType": "int64",
         "type": "integer"
        },
        {
         "name": "lab",
         "rawType": "object",
         "type": "string"
        },
        {
         "name": "sample",
         "rawType": "object",
         "type": "string"
        },
        {
         "name": "feature",
         "rawType": "object",
         "type": "string"
        },
        {
         "name": "fgroup",
         "rawType": "object",
         "type": "string"
        },
        {
         "name": "count",
         "rawType": "int64",
         "type": "integer"
        },
        {
         "name": "rmse",
         "rawType": "float64",
         "type": "float"
        }
       ],
       "ref": "306361c6-2e25-4b47-8c23-9d7973eaa8ac",
       "rows": [
        [
         "227",
         "PS3",
         "BL_2",
         "global",
         "global",
         "41480695",
         "13.20104449541939"
        ],
        [
         "226",
         "PS3",
         "BL_1",
         "global",
         "global",
         "41363755",
         "13.366091584129313"
        ]
       ],
       "shape": {
        "columns": 6,
        "rows": 2
       }
      },
      "text/html": [
       "<div>\n",
       "<style scoped>\n",
       "    .dataframe tbody tr th:only-of-type {\n",
       "        vertical-align: middle;\n",
       "    }\n",
       "\n",
       "    .dataframe tbody tr th {\n",
       "        vertical-align: top;\n",
       "    }\n",
       "\n",
       "    .dataframe thead th {\n",
       "        text-align: right;\n",
       "    }\n",
       "</style>\n",
       "<table border=\"1\" class=\"dataframe\">\n",
       "  <thead>\n",
       "    <tr style=\"text-align: right;\">\n",
       "      <th></th>\n",
       "      <th>lab</th>\n",
       "      <th>sample</th>\n",
       "      <th>feature</th>\n",
       "      <th>fgroup</th>\n",
       "      <th>count</th>\n",
       "      <th>rmse</th>\n",
       "    </tr>\n",
       "  </thead>\n",
       "  <tbody>\n",
       "    <tr>\n",
       "      <th>227</th>\n",
       "      <td>PS3</td>\n",
       "      <td>BL_2</td>\n",
       "      <td>global</td>\n",
       "      <td>global</td>\n",
       "      <td>41480695</td>\n",
       "      <td>13.201044</td>\n",
       "    </tr>\n",
       "    <tr>\n",
       "      <th>226</th>\n",
       "      <td>PS3</td>\n",
       "      <td>BL_1</td>\n",
       "      <td>global</td>\n",
       "      <td>global</td>\n",
       "      <td>41363755</td>\n",
       "      <td>13.366092</td>\n",
       "    </tr>\n",
       "  </tbody>\n",
       "</table>\n",
       "</div>"
      ],
      "text/plain": [
       "     lab sample feature  fgroup     count       rmse\n",
       "227  PS3   BL_2  global  global  41480695  13.201044\n",
       "226  PS3   BL_1  global  global  41363755  13.366092"
      ]
     },
     "execution_count": 34,
     "metadata": {},
     "output_type": "execute_result"
    }
   ],
   "source": [
    "unified[unified['lab'].str.contains('PS')].sort_values(by='rmse', ascending=True).head(n=2)"
   ]
  },
  {
   "cell_type": "code",
   "execution_count": 35,
   "id": "5bd27e39",
   "metadata": {},
   "outputs": [
    {
     "data": {
      "application/vnd.microsoft.datawrangler.viewer.v0+json": {
       "columns": [
        {
         "name": "index",
         "rawType": "object",
         "type": "string"
        },
        {
         "name": "rmse",
         "rawType": "float64",
         "type": "float"
        }
       ],
       "ref": "da921834-2881-4655-b882-e029184927d4",
       "rows": [
        [
         "count",
         "20.0"
        ],
        [
         "mean",
         "18.61327419501151"
        ],
        [
         "std",
         "0.8231605113000056"
        ],
        [
         "min",
         "16.96974525475988"
        ],
        [
         "25%",
         "18.077675769335"
        ],
        [
         "50%",
         "18.75889284111527"
        ],
        [
         "75%",
         "18.983521344369777"
        ],
        [
         "max",
         "20.043946303645395"
        ]
       ],
       "shape": {
        "columns": 1,
        "rows": 8
       }
      },
      "text/plain": [
       "count    20.000000\n",
       "mean     18.613274\n",
       "std       0.823161\n",
       "min      16.969745\n",
       "25%      18.077676\n",
       "50%      18.758893\n",
       "75%      18.983521\n",
       "max      20.043946\n",
       "Name: rmse, dtype: float64"
      ]
     },
     "execution_count": 35,
     "metadata": {},
     "output_type": "execute_result"
    }
   ],
   "source": [
    "unified[unified['lab'] == 'RM1']['rmse'].describe()"
   ]
  },
  {
   "cell_type": "code",
   "execution_count": 37,
   "id": "d9687078",
   "metadata": {},
   "outputs": [
    {
     "data": {
      "application/vnd.microsoft.datawrangler.viewer.v0+json": {
       "columns": [
        {
         "name": "index",
         "rawType": "int64",
         "type": "integer"
        },
        {
         "name": "lab",
         "rawType": "object",
         "type": "string"
        },
        {
         "name": "sample",
         "rawType": "object",
         "type": "string"
        },
        {
         "name": "feature",
         "rawType": "object",
         "type": "string"
        },
        {
         "name": "fgroup",
         "rawType": "object",
         "type": "string"
        },
        {
         "name": "count",
         "rawType": "int64",
         "type": "integer"
        },
        {
         "name": "rmse",
         "rawType": "float64",
         "type": "float"
        }
       ],
       "ref": "b58a499e-bbc9-4dea-979a-1fbbe8975b03",
       "rows": [
        [
         "245",
         "RM1",
         "BL_1",
         "global",
         "global",
         "5102156",
         "16.96974525475988"
        ],
        [
         "244",
         "RM1",
         "BL_2",
         "global",
         "global",
         "7994637",
         "17.217411168104505"
        ]
       ],
       "shape": {
        "columns": 6,
        "rows": 2
       }
      },
      "text/html": [
       "<div>\n",
       "<style scoped>\n",
       "    .dataframe tbody tr th:only-of-type {\n",
       "        vertical-align: middle;\n",
       "    }\n",
       "\n",
       "    .dataframe tbody tr th {\n",
       "        vertical-align: top;\n",
       "    }\n",
       "\n",
       "    .dataframe thead th {\n",
       "        text-align: right;\n",
       "    }\n",
       "</style>\n",
       "<table border=\"1\" class=\"dataframe\">\n",
       "  <thead>\n",
       "    <tr style=\"text-align: right;\">\n",
       "      <th></th>\n",
       "      <th>lab</th>\n",
       "      <th>sample</th>\n",
       "      <th>feature</th>\n",
       "      <th>fgroup</th>\n",
       "      <th>count</th>\n",
       "      <th>rmse</th>\n",
       "    </tr>\n",
       "  </thead>\n",
       "  <tbody>\n",
       "    <tr>\n",
       "      <th>245</th>\n",
       "      <td>RM1</td>\n",
       "      <td>BL_1</td>\n",
       "      <td>global</td>\n",
       "      <td>global</td>\n",
       "      <td>5102156</td>\n",
       "      <td>16.969745</td>\n",
       "    </tr>\n",
       "    <tr>\n",
       "      <th>244</th>\n",
       "      <td>RM1</td>\n",
       "      <td>BL_2</td>\n",
       "      <td>global</td>\n",
       "      <td>global</td>\n",
       "      <td>7994637</td>\n",
       "      <td>17.217411</td>\n",
       "    </tr>\n",
       "  </tbody>\n",
       "</table>\n",
       "</div>"
      ],
      "text/plain": [
       "     lab sample feature  fgroup    count       rmse\n",
       "245  RM1   BL_1  global  global  5102156  16.969745\n",
       "244  RM1   BL_2  global  global  7994637  17.217411"
      ]
     },
     "execution_count": 37,
     "metadata": {},
     "output_type": "execute_result"
    }
   ],
   "source": [
    "unified[unified['lab'] == 'RM1'].sort_values(by='rmse', ascending=True).head(n=2)"
   ]
  },
  {
   "cell_type": "code",
   "execution_count": 39,
   "id": "7f30e63e",
   "metadata": {},
   "outputs": [
    {
     "data": {
      "application/vnd.microsoft.datawrangler.viewer.v0+json": {
       "columns": [
        {
         "name": "index",
         "rawType": "object",
         "type": "string"
        },
        {
         "name": "rmse",
         "rawType": "float64",
         "type": "float"
        }
       ],
       "ref": "87768a91-2c22-4eef-aa7d-d7bc11f56bd6",
       "rows": [
        [
         "count",
         "60.0"
        ],
        [
         "mean",
         "11.646317878905405"
        ],
        [
         "std",
         "1.9000969228793996"
        ],
        [
         "min",
         "8.76803213136221"
        ],
        [
         "25%",
         "10.186138776906663"
        ],
        [
         "50%",
         "10.975915785808999"
        ],
        [
         "75%",
         "13.500521176095468"
        ],
        [
         "max",
         "15.243043958940325"
        ]
       ],
       "shape": {
        "columns": 1,
        "rows": 8
       }
      },
      "text/plain": [
       "count    60.000000\n",
       "mean     11.646318\n",
       "std       1.900097\n",
       "min       8.768032\n",
       "25%      10.186139\n",
       "50%      10.975916\n",
       "75%      13.500521\n",
       "max      15.243044\n",
       "Name: rmse, dtype: float64"
      ]
     },
     "execution_count": 39,
     "metadata": {},
     "output_type": "execute_result"
    }
   ],
   "source": [
    "unified[unified['lab'].str.contains('MA')]['rmse'].describe()"
   ]
  },
  {
   "cell_type": "code",
   "execution_count": 39,
   "id": "45b98025",
   "metadata": {},
   "outputs": [
    {
     "data": {
      "application/vnd.microsoft.datawrangler.viewer.v0+json": {
       "columns": [
        {
         "name": "index",
         "rawType": "object",
         "type": "string"
        },
        {
         "name": "rmse",
         "rawType": "float64",
         "type": "float"
        }
       ],
       "ref": "acf2d035-9d01-4d57-94c4-ff4fafb4bd7a",
       "rows": [
        [
         "count",
         "20.0"
        ],
        [
         "mean",
         "10.070402238393182"
        ],
        [
         "std",
         "0.792576500022661"
        ],
        [
         "min",
         "8.76803213136221"
        ],
        [
         "25%",
         "9.478106908626238"
        ],
        [
         "50%",
         "9.990821358130919"
        ],
        [
         "75%",
         "10.659172621804258"
        ],
        [
         "max",
         "11.502878514473094"
        ]
       ],
       "shape": {
        "columns": 1,
        "rows": 8
       }
      },
      "text/plain": [
       "count    20.000000\n",
       "mean     10.070402\n",
       "std       0.792577\n",
       "min       8.768032\n",
       "25%       9.478107\n",
       "50%       9.990821\n",
       "75%      10.659173\n",
       "max      11.502879\n",
       "Name: rmse, dtype: float64"
      ]
     },
     "execution_count": 39,
     "metadata": {},
     "output_type": "execute_result"
    }
   ],
   "source": [
    "unified[unified['lab'] == 'MA2']['rmse'].describe()"
   ]
  },
  {
   "cell_type": "code",
   "execution_count": 42,
   "id": "585eaab2",
   "metadata": {},
   "outputs": [
    {
     "data": {
      "application/vnd.microsoft.datawrangler.viewer.v0+json": {
       "columns": [
        {
         "name": "index",
         "rawType": "object",
         "type": "string"
        },
        {
         "name": "rmse",
         "rawType": "float64",
         "type": "float"
        }
       ],
       "ref": "bec7d155-d44a-4a7e-bbfb-6920b2743945",
       "rows": [
        [
         "count",
         "20.0"
        ],
        [
         "mean",
         "14.069597226066369"
        ],
        [
         "std",
         "0.736735088078801"
        ],
        [
         "min",
         "12.705824974549992"
        ],
        [
         "25%",
         "13.53921000294835"
        ],
        [
         "50%",
         "14.05082368935848"
        ],
        [
         "75%",
         "14.592771268388228"
        ],
        [
         "max",
         "15.243043958940325"
        ]
       ],
       "shape": {
        "columns": 1,
        "rows": 8
       }
      },
      "text/plain": [
       "count    20.000000\n",
       "mean     14.069597\n",
       "std       0.736735\n",
       "min      12.705825\n",
       "25%      13.539210\n",
       "50%      14.050824\n",
       "75%      14.592771\n",
       "max      15.243044\n",
       "Name: rmse, dtype: float64"
      ]
     },
     "execution_count": 42,
     "metadata": {},
     "output_type": "execute_result"
    }
   ],
   "source": [
    "unified[unified['lab'] == 'MA3']['rmse'].describe()"
   ]
  },
  {
   "cell_type": "code",
   "execution_count": 40,
   "id": "a2edb2c1",
   "metadata": {},
   "outputs": [
    {
     "data": {
      "application/vnd.microsoft.datawrangler.viewer.v0+json": {
       "columns": [
        {
         "name": "index",
         "rawType": "object",
         "type": "string"
        },
        {
         "name": "rmse",
         "rawType": "float64",
         "type": "float"
        }
       ],
       "ref": "bbd5dd01-174b-41d6-ba35-edb68824ccb9",
       "rows": [
        [
         "count",
         "20.0"
        ],
        [
         "mean",
         "16.475089108185443"
        ],
        [
         "std",
         "0.6723481692698656"
        ],
        [
         "min",
         "15.308752845981289"
        ],
        [
         "25%",
         "16.102636456221013"
        ],
        [
         "50%",
         "16.683779651529765"
        ],
        [
         "75%",
         "16.963161284531246"
        ],
        [
         "max",
         "17.420302202390992"
        ]
       ],
       "shape": {
        "columns": 1,
        "rows": 8
       }
      },
      "text/plain": [
       "count    20.000000\n",
       "mean     16.475089\n",
       "std       0.672348\n",
       "min      15.308753\n",
       "25%      16.102636\n",
       "50%      16.683780\n",
       "75%      16.963161\n",
       "max      17.420302\n",
       "Name: rmse, dtype: float64"
      ]
     },
     "execution_count": 40,
     "metadata": {},
     "output_type": "execute_result"
    }
   ],
   "source": [
    "unified[unified['lab'] == 'RM1']['rmse'].describe()"
   ]
  },
  {
   "cell_type": "code",
   "execution_count": 41,
   "id": "9ee26a18",
   "metadata": {},
   "outputs": [
    {
     "data": {
      "application/vnd.microsoft.datawrangler.viewer.v0+json": {
       "columns": [
        {
         "name": "index",
         "rawType": "object",
         "type": "string"
        },
        {
         "name": "rmse",
         "rawType": "float64",
         "type": "float"
        }
       ],
       "ref": "7246cec8-d1a9-49bd-b49c-56fedea1a576",
       "rows": [
        [
         "count",
         "10.0"
        ],
        [
         "mean",
         "18.92704171565126"
        ],
        [
         "std",
         "0.9009864721135992"
        ],
        [
         "min",
         "17.686542061060077"
        ],
        [
         "25%",
         "18.08054096649458"
        ],
        [
         "50%",
         "19.098705320379544"
        ],
        [
         "75%",
         "19.5485382126753"
        ],
        [
         "max",
         "20.249801967855507"
        ]
       ],
       "shape": {
        "columns": 1,
        "rows": 8
       }
      },
      "text/plain": [
       "count    10.000000\n",
       "mean     18.927042\n",
       "std       0.900986\n",
       "min      17.686542\n",
       "25%      18.080541\n",
       "50%      19.098705\n",
       "75%      19.548538\n",
       "max      20.249802\n",
       "Name: rmse, dtype: float64"
      ]
     },
     "execution_count": 41,
     "metadata": {},
     "output_type": "execute_result"
    }
   ],
   "source": [
    "unified[unified['lab'] == 'NP1']['rmse'].describe()"
   ]
  },
  {
   "cell_type": "code",
   "execution_count": 4,
   "id": "e23d55aa",
   "metadata": {},
   "outputs": [
    {
     "data": {
      "application/vnd.microsoft.datawrangler.viewer.v0+json": {
       "columns": [
        {
         "name": "lab",
         "rawType": "object",
         "type": "string"
        },
        {
         "name": "BC_1",
         "rawType": "float64",
         "type": "float"
        },
        {
         "name": "BC_2",
         "rawType": "float64",
         "type": "float"
        },
        {
         "name": "BL_1",
         "rawType": "float64",
         "type": "float"
        },
        {
         "name": "BL_2",
         "rawType": "float64",
         "type": "float"
        },
        {
         "name": "D5_1",
         "rawType": "float64",
         "type": "float"
        },
        {
         "name": "D5_2",
         "rawType": "float64",
         "type": "float"
        },
        {
         "name": "D6_1",
         "rawType": "float64",
         "type": "float"
        },
        {
         "name": "D6_2",
         "rawType": "float64",
         "type": "float"
        },
        {
         "name": "F7_1",
         "rawType": "float64",
         "type": "float"
        },
        {
         "name": "F7_2",
         "rawType": "float64",
         "type": "float"
        },
        {
         "name": "M8_1",
         "rawType": "float64",
         "type": "float"
        },
        {
         "name": "M8_2",
         "rawType": "float64",
         "type": "float"
        },
        {
         "name": "T1_1",
         "rawType": "float64",
         "type": "float"
        },
        {
         "name": "T1_2",
         "rawType": "float64",
         "type": "float"
        },
        {
         "name": "T2_1",
         "rawType": "float64",
         "type": "float"
        },
        {
         "name": "T2_2",
         "rawType": "float64",
         "type": "float"
        },
        {
         "name": "T3_1",
         "rawType": "float64",
         "type": "float"
        },
        {
         "name": "T3_2",
         "rawType": "float64",
         "type": "float"
        },
        {
         "name": "T4_1",
         "rawType": "float64",
         "type": "float"
        },
        {
         "name": "T4_2",
         "rawType": "float64",
         "type": "float"
        }
       ],
       "ref": "d332f6ee-1781-4a24-8616-14a771317c85",
       "rows": [
        [
         "BS1",
         "13.809189305382892",
         "13.95605202745858",
         "13.228193213566826",
         "13.159559077163886",
         "16.271191530633057",
         "15.946387263993346",
         "15.504327786519545",
         "15.03521847273075",
         "14.953260953705565",
         "14.9631677990012",
         "14.100828642565435",
         "13.920989466374705",
         "15.946328625685029",
         "16.02951642672753",
         "15.926805333791975",
         "15.96534047464909",
         "15.72057978562393",
         "15.656713164442234",
         "15.239125122346442",
         "15.302930803477638"
        ],
        [
         "BS2",
         "15.76908878789808",
         "15.891719292372676",
         "13.924425008885908",
         "14.108253740573849",
         "17.768825499310896",
         "17.792927080698288",
         "16.301775213714002",
         "16.48434271348044",
         "16.271872993758404",
         "16.177055394795325",
         "15.335111066045464",
         "15.324945551385014",
         "17.606248996484045",
         "17.60478939954812",
         "17.298398779150876",
         "17.344603096564544",
         "16.985847560864702",
         "17.116774011415988",
         "16.84937316276114",
         "16.948130252854778"
        ],
        [
         "BS3",
         "14.776156388468747",
         "14.793245701261888",
         "13.669813771311974",
         "13.63966255396169",
         "17.11973430615453",
         "17.038407009398224",
         "15.974867670090946",
         "16.26558104088579",
         "15.482321453343054",
         "15.578328203731974",
         "14.990414810584614",
         "14.886424534183398",
         "16.746353448448566",
         "16.713640896217335",
         "16.482486529487264",
         "16.64794596490014",
         "16.37880415871961",
         "16.304689026426086",
         "16.086406519523795",
         "16.096034887569118"
        ],
        [
         "BS4",
         "21.791007394910565",
         "21.260503838111035",
         "27.498736160480146",
         "26.60450905512993",
         "25.2442997015598",
         "25.49694130019131",
         "23.68354187769169",
         "23.626153515030406",
         "22.71955816296154",
         "23.93823846719555",
         "23.097957990309",
         "23.73506255232685",
         "23.869044887102728",
         "24.468265795706028",
         "24.270756488049315",
         "24.126405953733407",
         "23.641298693898182",
         "24.205844237585254",
         "24.21299656101005",
         "23.20737749807"
        ],
        [
         "EM1",
         "16.38859210814279",
         "16.43132910917341",
         "14.968582012231906",
         "15.176474616214996",
         "18.415013118859843",
         "18.335578833880444",
         "17.529220306447947",
         "17.714897182055477",
         "17.00706854214732",
         "17.357910285467852",
         "16.085656327983422",
         "16.370520859719825",
         "18.390184991732717",
         "18.450954520561503",
         "18.14661822967972",
         "18.30165923007273",
         "17.872137573896847",
         "18.01110381283142",
         "17.884035797097887",
         "17.83884601277372"
        ],
        [
         "EM2",
         "15.593919504752504",
         "16.383114800260785",
         "13.36164022348754",
         "14.357558726549891",
         "17.333393677963226",
         "16.717144196586705",
         "16.34561263332276",
         "16.23614175278284",
         "15.87567897964233",
         "15.325892036613476",
         "14.346493214712162",
         "15.252623989303814",
         "17.23851016490627",
         "17.38282936138682",
         "16.620234374058043",
         "17.032221716371478",
         "16.250372177937503",
         "16.881809011925643",
         "16.17577894867357",
         "16.7477679136655"
        ],
        [
         "EM3",
         "16.255332903006675",
         "15.963824841554558",
         "14.19866263664184",
         "13.837425675403365",
         "17.44173762333197",
         "17.390921304929737",
         "16.472742554447912",
         "16.03338915129428",
         "16.002264741249135",
         "15.986522788000464",
         "14.968674471051315",
         "14.881521120399103",
         "17.187087751290424",
         "17.187932079585693",
         "16.938366994305515",
         "16.70875147323069",
         "16.810983959131697",
         "16.71328852681245",
         "16.205669108346626",
         "16.385063124386928"
        ],
        [
         "EM4",
         "15.789225078924485",
         "15.180716085158652",
         "14.156999560618212",
         "13.893329774585",
         "17.477364696439484",
         "17.14400398436895",
         "16.123793559151128",
         "16.117696232101732",
         "15.701415515368629",
         "15.844948826206656",
         "15.002193831327975",
         "14.933271019712636",
         "17.46942586529869",
         "17.380831041809447",
         "17.099083412551373",
         "17.111704124113228",
         "16.601265794327965",
         "16.48693455733347",
         "16.487621404744665",
         "16.53130706125946"
        ],
        [
         "MA1",
         "10.647177445461672",
         "10.579626328793468",
         "10.148535937470276",
         "9.313718267381685",
         "11.83662536113512",
         "10.997334236034154",
         "10.909866620281816",
         "12.333106579027303",
         "9.969254540765377",
         "10.173036898698925",
         "10.339533478857376",
         "10.190506069642575",
         "11.80608437734436",
         "10.794573181121631",
         "10.892544649465952",
         "11.053279176077046",
         "10.954497335583843",
         "10.661513956155614",
         "11.124854226554596",
         "11.25341477928051"
        ],
        [
         "MA2",
         "9.765149518742724",
         "10.504098781665492",
         "8.972686016588838",
         "9.163841452756202",
         "10.795979757846554",
         "10.652643983655144",
         "11.310815868289115",
         "9.44712151933262",
         "9.664448992811442",
         "9.48843537172411",
         "8.76803213136221",
         "10.444523632430174",
         "11.502878514473094",
         "10.293717022254905",
         "10.678758536251596",
         "10.14106572434826",
         "11.117701903284305",
         "9.840576991913576",
         "9.573655032997328",
         "9.281914015135962"
        ],
        [
         "MA3",
         "13.237323698662964",
         "13.367225193959886",
         "12.76504802266122",
         "12.705824974549992",
         "15.181384376855886",
         "15.243043958940325",
         "13.93354972717971",
         "13.9575810941534",
         "13.745350531330796",
         "13.84252076588642",
         "13.481176762669026",
         "13.558554416374792",
         "14.737667005737825",
         "14.792101978465707",
         "14.544472689271696",
         "14.773596600977912",
         "14.478692930536264",
         "14.489986823044957",
         "14.14406628456356",
         "14.412776685505062"
        ],
        [
         "NP1",
         "17.686542061060077",
         "17.686542061060077",
         "17.96333005242984",
         "17.96333005242984",
         "20.249801967855507",
         "20.249801967855507",
         "19.086645971021227",
         "19.086645971021227",
         "18.4321737086888",
         "18.4321737086888",
         "17.84626803531602",
         "17.84626803531602",
         "19.89856834073392",
         "19.89856834073392",
         "19.59891525051591",
         "19.59891525051591",
         "19.39740709915348",
         "19.39740709915348",
         "19.11076466973786",
         "19.11076466973786"
        ],
        [
         "PS1",
         "14.99461954865379",
         "15.06383793583764",
         "13.397251064663402",
         "13.366338035256398",
         "15.914644776045442",
         "15.956583011683982",
         "15.141533374918186",
         "15.011907823181543",
         "14.84274365230806",
         "14.8936443916885",
         "13.858473864438867",
         "14.137678028981258",
         "15.811861931026211",
         "15.816254829772951",
         "15.674537589166682",
         "15.644228666403748",
         "15.421908073102031",
         "15.497933454084036",
         "15.306505904905196",
         "15.206532143909987"
        ],
        [
         "PS2",
         "15.428361140334315",
         "15.504741415933434",
         "13.48462645761868",
         "13.53849885057975",
         "16.016796804170152",
         "15.786131204286788",
         "15.16033674536867",
         "15.314588615499076",
         "14.815453810765437",
         "14.840156459640609",
         "14.28222207354173",
         "13.621055013591045",
         "15.710159469615226",
         "16.041454985173186",
         "15.603406716270468",
         "15.901194126469044",
         "15.459346342028915",
         "15.4718482679416",
         "15.314370882883026",
         "15.619847182627243"
        ],
        [
         "PS3",
         "14.77513399876836",
         "14.664275660723114",
         "13.05575652253222",
         "12.928630837935104",
         "15.50822656049734",
         "15.556005078587743",
         "14.318269288571594",
         "14.272274383875498",
         "14.30411512593716",
         "14.087297666244488",
         "13.390858484694489",
         "13.34821276404536",
         "15.431384563738318",
         "15.392448557792852",
         "15.161316939278551",
         "15.152509763860763",
         "14.783480735769732",
         "14.975647575152554",
         "14.688743143364237",
         "14.637292870753278"
        ],
        [
         "RM1",
         "16.73939403423332",
         "17.116913867637386",
         "15.35727124732875",
         "15.308752845981289",
         "17.064883996490337",
         "17.21354295233287",
         "16.181468445051348",
         "16.68997473261965",
         "15.86614048973001",
         "16.228204549928133",
         "15.516272313681345",
         "15.42355958612408",
         "16.279999691130048",
         "17.420302202390992",
         "16.62897894687131",
         "17.23789009569287",
         "16.75878186572218",
         "16.862612016444878",
         "16.929253713878218",
         "16.67758457043988"
        ],
        [
         "RR1",
         "14.31805972052122",
         "14.117396290347244",
         "13.468904213403688",
         "13.554603115479235",
         "15.957801710602432",
         "16.60590459037091",
         "14.40706807751351",
         "14.528026621517109",
         "14.512605417775877",
         "14.819315065527867",
         "14.02311746781236",
         "14.20973701011496",
         "15.457061383845245",
         "16.226382359471593",
         "15.672310457063224",
         "15.485389715301524",
         "14.730815633909316",
         "15.259313398733624",
         "14.9606152590001",
         "15.632907699047392"
        ]
       ],
       "shape": {
        "columns": 20,
        "rows": 17
       }
      },
      "text/html": [
       "<div>\n",
       "<style scoped>\n",
       "    .dataframe tbody tr th:only-of-type {\n",
       "        vertical-align: middle;\n",
       "    }\n",
       "\n",
       "    .dataframe tbody tr th {\n",
       "        vertical-align: top;\n",
       "    }\n",
       "\n",
       "    .dataframe thead th {\n",
       "        text-align: right;\n",
       "    }\n",
       "</style>\n",
       "<table border=\"1\" class=\"dataframe\">\n",
       "  <thead>\n",
       "    <tr style=\"text-align: right;\">\n",
       "      <th>sample</th>\n",
       "      <th>BC_1</th>\n",
       "      <th>BC_2</th>\n",
       "      <th>BL_1</th>\n",
       "      <th>BL_2</th>\n",
       "      <th>D5_1</th>\n",
       "      <th>D5_2</th>\n",
       "      <th>D6_1</th>\n",
       "      <th>D6_2</th>\n",
       "      <th>F7_1</th>\n",
       "      <th>F7_2</th>\n",
       "      <th>M8_1</th>\n",
       "      <th>M8_2</th>\n",
       "      <th>T1_1</th>\n",
       "      <th>T1_2</th>\n",
       "      <th>T2_1</th>\n",
       "      <th>T2_2</th>\n",
       "      <th>T3_1</th>\n",
       "      <th>T3_2</th>\n",
       "      <th>T4_1</th>\n",
       "      <th>T4_2</th>\n",
       "    </tr>\n",
       "    <tr>\n",
       "      <th>lab</th>\n",
       "      <th></th>\n",
       "      <th></th>\n",
       "      <th></th>\n",
       "      <th></th>\n",
       "      <th></th>\n",
       "      <th></th>\n",
       "      <th></th>\n",
       "      <th></th>\n",
       "      <th></th>\n",
       "      <th></th>\n",
       "      <th></th>\n",
       "      <th></th>\n",
       "      <th></th>\n",
       "      <th></th>\n",
       "      <th></th>\n",
       "      <th></th>\n",
       "      <th></th>\n",
       "      <th></th>\n",
       "      <th></th>\n",
       "      <th></th>\n",
       "    </tr>\n",
       "  </thead>\n",
       "  <tbody>\n",
       "    <tr>\n",
       "      <th>BS1</th>\n",
       "      <td>13.809189</td>\n",
       "      <td>13.956052</td>\n",
       "      <td>13.228193</td>\n",
       "      <td>13.159559</td>\n",
       "      <td>16.271192</td>\n",
       "      <td>15.946387</td>\n",
       "      <td>15.504328</td>\n",
       "      <td>15.035218</td>\n",
       "      <td>14.953261</td>\n",
       "      <td>14.963168</td>\n",
       "      <td>14.100829</td>\n",
       "      <td>13.920989</td>\n",
       "      <td>15.946329</td>\n",
       "      <td>16.029516</td>\n",
       "      <td>15.926805</td>\n",
       "      <td>15.965340</td>\n",
       "      <td>15.720580</td>\n",
       "      <td>15.656713</td>\n",
       "      <td>15.239125</td>\n",
       "      <td>15.302931</td>\n",
       "    </tr>\n",
       "    <tr>\n",
       "      <th>BS2</th>\n",
       "      <td>15.769089</td>\n",
       "      <td>15.891719</td>\n",
       "      <td>13.924425</td>\n",
       "      <td>14.108254</td>\n",
       "      <td>17.768825</td>\n",
       "      <td>17.792927</td>\n",
       "      <td>16.301775</td>\n",
       "      <td>16.484343</td>\n",
       "      <td>16.271873</td>\n",
       "      <td>16.177055</td>\n",
       "      <td>15.335111</td>\n",
       "      <td>15.324946</td>\n",
       "      <td>17.606249</td>\n",
       "      <td>17.604789</td>\n",
       "      <td>17.298399</td>\n",
       "      <td>17.344603</td>\n",
       "      <td>16.985848</td>\n",
       "      <td>17.116774</td>\n",
       "      <td>16.849373</td>\n",
       "      <td>16.948130</td>\n",
       "    </tr>\n",
       "    <tr>\n",
       "      <th>BS3</th>\n",
       "      <td>14.776156</td>\n",
       "      <td>14.793246</td>\n",
       "      <td>13.669814</td>\n",
       "      <td>13.639663</td>\n",
       "      <td>17.119734</td>\n",
       "      <td>17.038407</td>\n",
       "      <td>15.974868</td>\n",
       "      <td>16.265581</td>\n",
       "      <td>15.482321</td>\n",
       "      <td>15.578328</td>\n",
       "      <td>14.990415</td>\n",
       "      <td>14.886425</td>\n",
       "      <td>16.746353</td>\n",
       "      <td>16.713641</td>\n",
       "      <td>16.482487</td>\n",
       "      <td>16.647946</td>\n",
       "      <td>16.378804</td>\n",
       "      <td>16.304689</td>\n",
       "      <td>16.086407</td>\n",
       "      <td>16.096035</td>\n",
       "    </tr>\n",
       "    <tr>\n",
       "      <th>BS4</th>\n",
       "      <td>21.791007</td>\n",
       "      <td>21.260504</td>\n",
       "      <td>27.498736</td>\n",
       "      <td>26.604509</td>\n",
       "      <td>25.244300</td>\n",
       "      <td>25.496941</td>\n",
       "      <td>23.683542</td>\n",
       "      <td>23.626154</td>\n",
       "      <td>22.719558</td>\n",
       "      <td>23.938238</td>\n",
       "      <td>23.097958</td>\n",
       "      <td>23.735063</td>\n",
       "      <td>23.869045</td>\n",
       "      <td>24.468266</td>\n",
       "      <td>24.270756</td>\n",
       "      <td>24.126406</td>\n",
       "      <td>23.641299</td>\n",
       "      <td>24.205844</td>\n",
       "      <td>24.212997</td>\n",
       "      <td>23.207377</td>\n",
       "    </tr>\n",
       "    <tr>\n",
       "      <th>EM1</th>\n",
       "      <td>16.388592</td>\n",
       "      <td>16.431329</td>\n",
       "      <td>14.968582</td>\n",
       "      <td>15.176475</td>\n",
       "      <td>18.415013</td>\n",
       "      <td>18.335579</td>\n",
       "      <td>17.529220</td>\n",
       "      <td>17.714897</td>\n",
       "      <td>17.007069</td>\n",
       "      <td>17.357910</td>\n",
       "      <td>16.085656</td>\n",
       "      <td>16.370521</td>\n",
       "      <td>18.390185</td>\n",
       "      <td>18.450955</td>\n",
       "      <td>18.146618</td>\n",
       "      <td>18.301659</td>\n",
       "      <td>17.872138</td>\n",
       "      <td>18.011104</td>\n",
       "      <td>17.884036</td>\n",
       "      <td>17.838846</td>\n",
       "    </tr>\n",
       "    <tr>\n",
       "      <th>EM2</th>\n",
       "      <td>15.593920</td>\n",
       "      <td>16.383115</td>\n",
       "      <td>13.361640</td>\n",
       "      <td>14.357559</td>\n",
       "      <td>17.333394</td>\n",
       "      <td>16.717144</td>\n",
       "      <td>16.345613</td>\n",
       "      <td>16.236142</td>\n",
       "      <td>15.875679</td>\n",
       "      <td>15.325892</td>\n",
       "      <td>14.346493</td>\n",
       "      <td>15.252624</td>\n",
       "      <td>17.238510</td>\n",
       "      <td>17.382829</td>\n",
       "      <td>16.620234</td>\n",
       "      <td>17.032222</td>\n",
       "      <td>16.250372</td>\n",
       "      <td>16.881809</td>\n",
       "      <td>16.175779</td>\n",
       "      <td>16.747768</td>\n",
       "    </tr>\n",
       "    <tr>\n",
       "      <th>EM3</th>\n",
       "      <td>16.255333</td>\n",
       "      <td>15.963825</td>\n",
       "      <td>14.198663</td>\n",
       "      <td>13.837426</td>\n",
       "      <td>17.441738</td>\n",
       "      <td>17.390921</td>\n",
       "      <td>16.472743</td>\n",
       "      <td>16.033389</td>\n",
       "      <td>16.002265</td>\n",
       "      <td>15.986523</td>\n",
       "      <td>14.968674</td>\n",
       "      <td>14.881521</td>\n",
       "      <td>17.187088</td>\n",
       "      <td>17.187932</td>\n",
       "      <td>16.938367</td>\n",
       "      <td>16.708751</td>\n",
       "      <td>16.810984</td>\n",
       "      <td>16.713289</td>\n",
       "      <td>16.205669</td>\n",
       "      <td>16.385063</td>\n",
       "    </tr>\n",
       "    <tr>\n",
       "      <th>EM4</th>\n",
       "      <td>15.789225</td>\n",
       "      <td>15.180716</td>\n",
       "      <td>14.157000</td>\n",
       "      <td>13.893330</td>\n",
       "      <td>17.477365</td>\n",
       "      <td>17.144004</td>\n",
       "      <td>16.123794</td>\n",
       "      <td>16.117696</td>\n",
       "      <td>15.701416</td>\n",
       "      <td>15.844949</td>\n",
       "      <td>15.002194</td>\n",
       "      <td>14.933271</td>\n",
       "      <td>17.469426</td>\n",
       "      <td>17.380831</td>\n",
       "      <td>17.099083</td>\n",
       "      <td>17.111704</td>\n",
       "      <td>16.601266</td>\n",
       "      <td>16.486935</td>\n",
       "      <td>16.487621</td>\n",
       "      <td>16.531307</td>\n",
       "    </tr>\n",
       "    <tr>\n",
       "      <th>MA1</th>\n",
       "      <td>10.647177</td>\n",
       "      <td>10.579626</td>\n",
       "      <td>10.148536</td>\n",
       "      <td>9.313718</td>\n",
       "      <td>11.836625</td>\n",
       "      <td>10.997334</td>\n",
       "      <td>10.909867</td>\n",
       "      <td>12.333107</td>\n",
       "      <td>9.969255</td>\n",
       "      <td>10.173037</td>\n",
       "      <td>10.339533</td>\n",
       "      <td>10.190506</td>\n",
       "      <td>11.806084</td>\n",
       "      <td>10.794573</td>\n",
       "      <td>10.892545</td>\n",
       "      <td>11.053279</td>\n",
       "      <td>10.954497</td>\n",
       "      <td>10.661514</td>\n",
       "      <td>11.124854</td>\n",
       "      <td>11.253415</td>\n",
       "    </tr>\n",
       "    <tr>\n",
       "      <th>MA2</th>\n",
       "      <td>9.765150</td>\n",
       "      <td>10.504099</td>\n",
       "      <td>8.972686</td>\n",
       "      <td>9.163841</td>\n",
       "      <td>10.795980</td>\n",
       "      <td>10.652644</td>\n",
       "      <td>11.310816</td>\n",
       "      <td>9.447122</td>\n",
       "      <td>9.664449</td>\n",
       "      <td>9.488435</td>\n",
       "      <td>8.768032</td>\n",
       "      <td>10.444524</td>\n",
       "      <td>11.502879</td>\n",
       "      <td>10.293717</td>\n",
       "      <td>10.678759</td>\n",
       "      <td>10.141066</td>\n",
       "      <td>11.117702</td>\n",
       "      <td>9.840577</td>\n",
       "      <td>9.573655</td>\n",
       "      <td>9.281914</td>\n",
       "    </tr>\n",
       "    <tr>\n",
       "      <th>MA3</th>\n",
       "      <td>13.237324</td>\n",
       "      <td>13.367225</td>\n",
       "      <td>12.765048</td>\n",
       "      <td>12.705825</td>\n",
       "      <td>15.181384</td>\n",
       "      <td>15.243044</td>\n",
       "      <td>13.933550</td>\n",
       "      <td>13.957581</td>\n",
       "      <td>13.745351</td>\n",
       "      <td>13.842521</td>\n",
       "      <td>13.481177</td>\n",
       "      <td>13.558554</td>\n",
       "      <td>14.737667</td>\n",
       "      <td>14.792102</td>\n",
       "      <td>14.544473</td>\n",
       "      <td>14.773597</td>\n",
       "      <td>14.478693</td>\n",
       "      <td>14.489987</td>\n",
       "      <td>14.144066</td>\n",
       "      <td>14.412777</td>\n",
       "    </tr>\n",
       "    <tr>\n",
       "      <th>NP1</th>\n",
       "      <td>17.686542</td>\n",
       "      <td>17.686542</td>\n",
       "      <td>17.963330</td>\n",
       "      <td>17.963330</td>\n",
       "      <td>20.249802</td>\n",
       "      <td>20.249802</td>\n",
       "      <td>19.086646</td>\n",
       "      <td>19.086646</td>\n",
       "      <td>18.432174</td>\n",
       "      <td>18.432174</td>\n",
       "      <td>17.846268</td>\n",
       "      <td>17.846268</td>\n",
       "      <td>19.898568</td>\n",
       "      <td>19.898568</td>\n",
       "      <td>19.598915</td>\n",
       "      <td>19.598915</td>\n",
       "      <td>19.397407</td>\n",
       "      <td>19.397407</td>\n",
       "      <td>19.110765</td>\n",
       "      <td>19.110765</td>\n",
       "    </tr>\n",
       "    <tr>\n",
       "      <th>PS1</th>\n",
       "      <td>14.994620</td>\n",
       "      <td>15.063838</td>\n",
       "      <td>13.397251</td>\n",
       "      <td>13.366338</td>\n",
       "      <td>15.914645</td>\n",
       "      <td>15.956583</td>\n",
       "      <td>15.141533</td>\n",
       "      <td>15.011908</td>\n",
       "      <td>14.842744</td>\n",
       "      <td>14.893644</td>\n",
       "      <td>13.858474</td>\n",
       "      <td>14.137678</td>\n",
       "      <td>15.811862</td>\n",
       "      <td>15.816255</td>\n",
       "      <td>15.674538</td>\n",
       "      <td>15.644229</td>\n",
       "      <td>15.421908</td>\n",
       "      <td>15.497933</td>\n",
       "      <td>15.306506</td>\n",
       "      <td>15.206532</td>\n",
       "    </tr>\n",
       "    <tr>\n",
       "      <th>PS2</th>\n",
       "      <td>15.428361</td>\n",
       "      <td>15.504741</td>\n",
       "      <td>13.484626</td>\n",
       "      <td>13.538499</td>\n",
       "      <td>16.016797</td>\n",
       "      <td>15.786131</td>\n",
       "      <td>15.160337</td>\n",
       "      <td>15.314589</td>\n",
       "      <td>14.815454</td>\n",
       "      <td>14.840156</td>\n",
       "      <td>14.282222</td>\n",
       "      <td>13.621055</td>\n",
       "      <td>15.710159</td>\n",
       "      <td>16.041455</td>\n",
       "      <td>15.603407</td>\n",
       "      <td>15.901194</td>\n",
       "      <td>15.459346</td>\n",
       "      <td>15.471848</td>\n",
       "      <td>15.314371</td>\n",
       "      <td>15.619847</td>\n",
       "    </tr>\n",
       "    <tr>\n",
       "      <th>PS3</th>\n",
       "      <td>14.775134</td>\n",
       "      <td>14.664276</td>\n",
       "      <td>13.055757</td>\n",
       "      <td>12.928631</td>\n",
       "      <td>15.508227</td>\n",
       "      <td>15.556005</td>\n",
       "      <td>14.318269</td>\n",
       "      <td>14.272274</td>\n",
       "      <td>14.304115</td>\n",
       "      <td>14.087298</td>\n",
       "      <td>13.390858</td>\n",
       "      <td>13.348213</td>\n",
       "      <td>15.431385</td>\n",
       "      <td>15.392449</td>\n",
       "      <td>15.161317</td>\n",
       "      <td>15.152510</td>\n",
       "      <td>14.783481</td>\n",
       "      <td>14.975648</td>\n",
       "      <td>14.688743</td>\n",
       "      <td>14.637293</td>\n",
       "    </tr>\n",
       "    <tr>\n",
       "      <th>RM1</th>\n",
       "      <td>16.739394</td>\n",
       "      <td>17.116914</td>\n",
       "      <td>15.357271</td>\n",
       "      <td>15.308753</td>\n",
       "      <td>17.064884</td>\n",
       "      <td>17.213543</td>\n",
       "      <td>16.181468</td>\n",
       "      <td>16.689975</td>\n",
       "      <td>15.866140</td>\n",
       "      <td>16.228205</td>\n",
       "      <td>15.516272</td>\n",
       "      <td>15.423560</td>\n",
       "      <td>16.280000</td>\n",
       "      <td>17.420302</td>\n",
       "      <td>16.628979</td>\n",
       "      <td>17.237890</td>\n",
       "      <td>16.758782</td>\n",
       "      <td>16.862612</td>\n",
       "      <td>16.929254</td>\n",
       "      <td>16.677585</td>\n",
       "    </tr>\n",
       "    <tr>\n",
       "      <th>RR1</th>\n",
       "      <td>14.318060</td>\n",
       "      <td>14.117396</td>\n",
       "      <td>13.468904</td>\n",
       "      <td>13.554603</td>\n",
       "      <td>15.957802</td>\n",
       "      <td>16.605905</td>\n",
       "      <td>14.407068</td>\n",
       "      <td>14.528027</td>\n",
       "      <td>14.512605</td>\n",
       "      <td>14.819315</td>\n",
       "      <td>14.023117</td>\n",
       "      <td>14.209737</td>\n",
       "      <td>15.457061</td>\n",
       "      <td>16.226382</td>\n",
       "      <td>15.672310</td>\n",
       "      <td>15.485390</td>\n",
       "      <td>14.730816</td>\n",
       "      <td>15.259313</td>\n",
       "      <td>14.960615</td>\n",
       "      <td>15.632908</td>\n",
       "    </tr>\n",
       "  </tbody>\n",
       "</table>\n",
       "</div>"
      ],
      "text/plain": [
       "sample       BC_1       BC_2       BL_1       BL_2       D5_1       D5_2  \\\n",
       "lab                                                                        \n",
       "BS1     13.809189  13.956052  13.228193  13.159559  16.271192  15.946387   \n",
       "BS2     15.769089  15.891719  13.924425  14.108254  17.768825  17.792927   \n",
       "BS3     14.776156  14.793246  13.669814  13.639663  17.119734  17.038407   \n",
       "BS4     21.791007  21.260504  27.498736  26.604509  25.244300  25.496941   \n",
       "EM1     16.388592  16.431329  14.968582  15.176475  18.415013  18.335579   \n",
       "EM2     15.593920  16.383115  13.361640  14.357559  17.333394  16.717144   \n",
       "EM3     16.255333  15.963825  14.198663  13.837426  17.441738  17.390921   \n",
       "EM4     15.789225  15.180716  14.157000  13.893330  17.477365  17.144004   \n",
       "MA1     10.647177  10.579626  10.148536   9.313718  11.836625  10.997334   \n",
       "MA2      9.765150  10.504099   8.972686   9.163841  10.795980  10.652644   \n",
       "MA3     13.237324  13.367225  12.765048  12.705825  15.181384  15.243044   \n",
       "NP1     17.686542  17.686542  17.963330  17.963330  20.249802  20.249802   \n",
       "PS1     14.994620  15.063838  13.397251  13.366338  15.914645  15.956583   \n",
       "PS2     15.428361  15.504741  13.484626  13.538499  16.016797  15.786131   \n",
       "PS3     14.775134  14.664276  13.055757  12.928631  15.508227  15.556005   \n",
       "RM1     16.739394  17.116914  15.357271  15.308753  17.064884  17.213543   \n",
       "RR1     14.318060  14.117396  13.468904  13.554603  15.957802  16.605905   \n",
       "\n",
       "sample       D6_1       D6_2       F7_1       F7_2       M8_1       M8_2  \\\n",
       "lab                                                                        \n",
       "BS1     15.504328  15.035218  14.953261  14.963168  14.100829  13.920989   \n",
       "BS2     16.301775  16.484343  16.271873  16.177055  15.335111  15.324946   \n",
       "BS3     15.974868  16.265581  15.482321  15.578328  14.990415  14.886425   \n",
       "BS4     23.683542  23.626154  22.719558  23.938238  23.097958  23.735063   \n",
       "EM1     17.529220  17.714897  17.007069  17.357910  16.085656  16.370521   \n",
       "EM2     16.345613  16.236142  15.875679  15.325892  14.346493  15.252624   \n",
       "EM3     16.472743  16.033389  16.002265  15.986523  14.968674  14.881521   \n",
       "EM4     16.123794  16.117696  15.701416  15.844949  15.002194  14.933271   \n",
       "MA1     10.909867  12.333107   9.969255  10.173037  10.339533  10.190506   \n",
       "MA2     11.310816   9.447122   9.664449   9.488435   8.768032  10.444524   \n",
       "MA3     13.933550  13.957581  13.745351  13.842521  13.481177  13.558554   \n",
       "NP1     19.086646  19.086646  18.432174  18.432174  17.846268  17.846268   \n",
       "PS1     15.141533  15.011908  14.842744  14.893644  13.858474  14.137678   \n",
       "PS2     15.160337  15.314589  14.815454  14.840156  14.282222  13.621055   \n",
       "PS3     14.318269  14.272274  14.304115  14.087298  13.390858  13.348213   \n",
       "RM1     16.181468  16.689975  15.866140  16.228205  15.516272  15.423560   \n",
       "RR1     14.407068  14.528027  14.512605  14.819315  14.023117  14.209737   \n",
       "\n",
       "sample       T1_1       T1_2       T2_1       T2_2       T3_1       T3_2  \\\n",
       "lab                                                                        \n",
       "BS1     15.946329  16.029516  15.926805  15.965340  15.720580  15.656713   \n",
       "BS2     17.606249  17.604789  17.298399  17.344603  16.985848  17.116774   \n",
       "BS3     16.746353  16.713641  16.482487  16.647946  16.378804  16.304689   \n",
       "BS4     23.869045  24.468266  24.270756  24.126406  23.641299  24.205844   \n",
       "EM1     18.390185  18.450955  18.146618  18.301659  17.872138  18.011104   \n",
       "EM2     17.238510  17.382829  16.620234  17.032222  16.250372  16.881809   \n",
       "EM3     17.187088  17.187932  16.938367  16.708751  16.810984  16.713289   \n",
       "EM4     17.469426  17.380831  17.099083  17.111704  16.601266  16.486935   \n",
       "MA1     11.806084  10.794573  10.892545  11.053279  10.954497  10.661514   \n",
       "MA2     11.502879  10.293717  10.678759  10.141066  11.117702   9.840577   \n",
       "MA3     14.737667  14.792102  14.544473  14.773597  14.478693  14.489987   \n",
       "NP1     19.898568  19.898568  19.598915  19.598915  19.397407  19.397407   \n",
       "PS1     15.811862  15.816255  15.674538  15.644229  15.421908  15.497933   \n",
       "PS2     15.710159  16.041455  15.603407  15.901194  15.459346  15.471848   \n",
       "PS3     15.431385  15.392449  15.161317  15.152510  14.783481  14.975648   \n",
       "RM1     16.280000  17.420302  16.628979  17.237890  16.758782  16.862612   \n",
       "RR1     15.457061  16.226382  15.672310  15.485390  14.730816  15.259313   \n",
       "\n",
       "sample       T4_1       T4_2  \n",
       "lab                           \n",
       "BS1     15.239125  15.302931  \n",
       "BS2     16.849373  16.948130  \n",
       "BS3     16.086407  16.096035  \n",
       "BS4     24.212997  23.207377  \n",
       "EM1     17.884036  17.838846  \n",
       "EM2     16.175779  16.747768  \n",
       "EM3     16.205669  16.385063  \n",
       "EM4     16.487621  16.531307  \n",
       "MA1     11.124854  11.253415  \n",
       "MA2      9.573655   9.281914  \n",
       "MA3     14.144066  14.412777  \n",
       "NP1     19.110765  19.110765  \n",
       "PS1     15.306506  15.206532  \n",
       "PS2     15.314371  15.619847  \n",
       "PS3     14.688743  14.637293  \n",
       "RM1     16.929254  16.677585  \n",
       "RR1     14.960615  15.632908  "
      ]
     },
     "execution_count": 4,
     "metadata": {},
     "output_type": "execute_result"
    }
   ],
   "source": [
    "unified_pivot"
   ]
  },
  {
   "cell_type": "code",
   "execution_count": 15,
   "id": "3b7009a5",
   "metadata": {},
   "outputs": [
    {
     "data": {
      "text/plain": [
       "Index(['BC_1', 'BC_2', 'BL_1', 'BL_2', 'D5_1', 'D5_2', 'D6_1', 'D6_2', 'F7_1',\n",
       "       'F7_2', 'M8_1', 'M8_2', 'T1_1', 'T1_2', 'T2_1', 'T2_2', 'T3_1', 'T3_2',\n",
       "       'T4_1', 'T4_2'],\n",
       "      dtype='object', name='sample')"
      ]
     },
     "execution_count": 15,
     "metadata": {},
     "output_type": "execute_result"
    }
   ],
   "source": [
    "unified_pivot.columns"
   ]
  },
  {
   "cell_type": "code",
   "execution_count": 5,
   "id": "921be957",
   "metadata": {},
   "outputs": [
    {
     "data": {
      "application/vnd.microsoft.datawrangler.viewer.v0+json": {
       "columns": [
        {
         "name": "lab",
         "rawType": "object",
         "type": "string"
        },
        {
         "name": "total",
         "rawType": "int64",
         "type": "integer"
        },
        {
         "name": "BC_1",
         "rawType": "int64",
         "type": "integer"
        },
        {
         "name": "BC_2",
         "rawType": "int64",
         "type": "integer"
        },
        {
         "name": "BL_1",
         "rawType": "int64",
         "type": "integer"
        },
        {
         "name": "BL_2",
         "rawType": "int64",
         "type": "integer"
        },
        {
         "name": "D5_1",
         "rawType": "int64",
         "type": "integer"
        },
        {
         "name": "D5_2",
         "rawType": "int64",
         "type": "integer"
        },
        {
         "name": "D6_1",
         "rawType": "int64",
         "type": "integer"
        },
        {
         "name": "D6_2",
         "rawType": "int64",
         "type": "integer"
        },
        {
         "name": "F7_1",
         "rawType": "int64",
         "type": "integer"
        },
        {
         "name": "F7_2",
         "rawType": "int64",
         "type": "integer"
        },
        {
         "name": "M8_1",
         "rawType": "int64",
         "type": "integer"
        },
        {
         "name": "M8_2",
         "rawType": "int64",
         "type": "integer"
        },
        {
         "name": "T1_1",
         "rawType": "int64",
         "type": "integer"
        },
        {
         "name": "T1_2",
         "rawType": "int64",
         "type": "integer"
        },
        {
         "name": "T2_1",
         "rawType": "int64",
         "type": "integer"
        },
        {
         "name": "T2_2",
         "rawType": "int64",
         "type": "integer"
        },
        {
         "name": "T3_1",
         "rawType": "int64",
         "type": "integer"
        },
        {
         "name": "T3_2",
         "rawType": "int64",
         "type": "integer"
        },
        {
         "name": "T4_1",
         "rawType": "int64",
         "type": "integer"
        },
        {
         "name": "T4_2",
         "rawType": "int64",
         "type": "integer"
        }
       ],
       "ref": "254855fa-c84a-4392-9840-0204bbf366db",
       "rows": [
        [
         "MA2",
         "3",
         "0",
         "0",
         "0",
         "0",
         "0",
         "0",
         "1",
         "0",
         "0",
         "0",
         "0",
         "1",
         "0",
         "0",
         "0",
         "0",
         "1",
         "0",
         "0",
         "0"
        ],
        [
         "MA1",
         "17",
         "1",
         "1",
         "1",
         "1",
         "1",
         "1",
         "0",
         "1",
         "1",
         "1",
         "1",
         "0",
         "1",
         "1",
         "1",
         "1",
         "0",
         "1",
         "1",
         "1"
        ],
        [
         "MA3",
         "42",
         "2",
         "2",
         "2",
         "2",
         "2",
         "2",
         "2",
         "2",
         "2",
         "2",
         "3",
         "3",
         "2",
         "2",
         "2",
         "2",
         "2",
         "2",
         "2",
         "2"
        ],
        [
         "PS3",
         "63",
         "5",
         "5",
         "3",
         "3",
         "3",
         "3",
         "3",
         "3",
         "3",
         "3",
         "2",
         "2",
         "3",
         "3",
         "3",
         "3",
         "4",
         "3",
         "3",
         "3"
        ],
        [
         "RR1",
         "100",
         "4",
         "4",
         "7",
         "7",
         "5",
         "7",
         "4",
         "4",
         "4",
         "4",
         "5",
         "7",
         "4",
         "7",
         "5",
         "4",
         "3",
         "4",
         "4",
         "7"
        ],
        [
         "PS1",
         "109",
         "7",
         "7",
         "6",
         "5",
         "4",
         "6",
         "5",
         "5",
         "6",
         "6",
         "4",
         "6",
         "6",
         "4",
         "6",
         "5",
         "5",
         "6",
         "6",
         "4"
        ],
        [
         "BS1",
         "114",
         "3",
         "3",
         "4",
         "4",
         "7",
         "5",
         "7",
         "6",
         "7",
         "7",
         "6",
         "5",
         "7",
         "5",
         "7",
         "7",
         "7",
         "7",
         "5",
         "5"
        ],
        [
         "PS2",
         "120",
         "8",
         "9",
         "8",
         "6",
         "6",
         "4",
         "6",
         "7",
         "5",
         "5",
         "7",
         "4",
         "5",
         "6",
         "4",
         "6",
         "6",
         "5",
         "7",
         "6"
        ],
        [
         "BS3",
         "168",
         "6",
         "6",
         "9",
         "8",
         "9",
         "9",
         "8",
         "11",
         "8",
         "9",
         "10",
         "9",
         "9",
         "8",
         "8",
         "8",
         "9",
         "8",
         "8",
         "8"
        ],
        [
         "EM2",
         "198",
         "9",
         "12",
         "5",
         "12",
         "10",
         "8",
         "12",
         "10",
         "11",
         "8",
         "8",
         "11",
         "11",
         "11",
         "9",
         "10",
         "8",
         "12",
         "9",
         "12"
        ],
        [
         "EM4",
         "205",
         "11",
         "8",
         "11",
         "10",
         "12",
         "10",
         "9",
         "9",
         "9",
         "10",
         "11",
         "10",
         "12",
         "10",
         "12",
         "11",
         "10",
         "9",
         "11",
         "10"
        ],
        [
         "EM3",
         "208",
         "12",
         "11",
         "12",
         "9",
         "11",
         "12",
         "13",
         "8",
         "12",
         "11",
         "9",
         "8",
         "10",
         "9",
         "11",
         "9",
         "12",
         "10",
         "10",
         "9"
        ],
        [
         "RM1",
         "235",
         "14",
         "14",
         "14",
         "14",
         "8",
         "11",
         "10",
         "13",
         "10",
         "13",
         "13",
         "13",
         "8",
         "12",
         "10",
         "12",
         "11",
         "11",
         "13",
         "11"
        ],
        [
         "BS2",
         "242",
         "10",
         "10",
         "10",
         "11",
         "13",
         "13",
         "11",
         "12",
         "13",
         "12",
         "12",
         "12",
         "13",
         "13",
         "13",
         "13",
         "13",
         "13",
         "12",
         "13"
        ],
        [
         "EM1",
         "276",
         "13",
         "13",
         "13",
         "13",
         "14",
         "14",
         "14",
         "14",
         "14",
         "14",
         "14",
         "14",
         "14",
         "14",
         "14",
         "14",
         "14",
         "14",
         "14",
         "14"
        ],
        [
         "NP1",
         "300",
         "15",
         "15",
         "15",
         "15",
         "15",
         "15",
         "15",
         "15",
         "15",
         "15",
         "15",
         "15",
         "15",
         "15",
         "15",
         "15",
         "15",
         "15",
         "15",
         "15"
        ],
        [
         "BS4",
         "320",
         "16",
         "16",
         "16",
         "16",
         "16",
         "16",
         "16",
         "16",
         "16",
         "16",
         "16",
         "16",
         "16",
         "16",
         "16",
         "16",
         "16",
         "16",
         "16",
         "16"
        ]
       ],
       "shape": {
        "columns": 21,
        "rows": 17
       }
      },
      "text/html": [
       "<div>\n",
       "<style scoped>\n",
       "    .dataframe tbody tr th:only-of-type {\n",
       "        vertical-align: middle;\n",
       "    }\n",
       "\n",
       "    .dataframe tbody tr th {\n",
       "        vertical-align: top;\n",
       "    }\n",
       "\n",
       "    .dataframe thead th {\n",
       "        text-align: right;\n",
       "    }\n",
       "</style>\n",
       "<table border=\"1\" class=\"dataframe\">\n",
       "  <thead>\n",
       "    <tr style=\"text-align: right;\">\n",
       "      <th>sample</th>\n",
       "      <th>total</th>\n",
       "      <th>BC_1</th>\n",
       "      <th>BC_2</th>\n",
       "      <th>BL_1</th>\n",
       "      <th>BL_2</th>\n",
       "      <th>D5_1</th>\n",
       "      <th>D5_2</th>\n",
       "      <th>D6_1</th>\n",
       "      <th>D6_2</th>\n",
       "      <th>F7_1</th>\n",
       "      <th>...</th>\n",
       "      <th>M8_1</th>\n",
       "      <th>M8_2</th>\n",
       "      <th>T1_1</th>\n",
       "      <th>T1_2</th>\n",
       "      <th>T2_1</th>\n",
       "      <th>T2_2</th>\n",
       "      <th>T3_1</th>\n",
       "      <th>T3_2</th>\n",
       "      <th>T4_1</th>\n",
       "      <th>T4_2</th>\n",
       "    </tr>\n",
       "    <tr>\n",
       "      <th>lab</th>\n",
       "      <th></th>\n",
       "      <th></th>\n",
       "      <th></th>\n",
       "      <th></th>\n",
       "      <th></th>\n",
       "      <th></th>\n",
       "      <th></th>\n",
       "      <th></th>\n",
       "      <th></th>\n",
       "      <th></th>\n",
       "      <th></th>\n",
       "      <th></th>\n",
       "      <th></th>\n",
       "      <th></th>\n",
       "      <th></th>\n",
       "      <th></th>\n",
       "      <th></th>\n",
       "      <th></th>\n",
       "      <th></th>\n",
       "      <th></th>\n",
       "      <th></th>\n",
       "    </tr>\n",
       "  </thead>\n",
       "  <tbody>\n",
       "    <tr>\n",
       "      <th>MA2</th>\n",
       "      <td>3</td>\n",
       "      <td>0</td>\n",
       "      <td>0</td>\n",
       "      <td>0</td>\n",
       "      <td>0</td>\n",
       "      <td>0</td>\n",
       "      <td>0</td>\n",
       "      <td>1</td>\n",
       "      <td>0</td>\n",
       "      <td>0</td>\n",
       "      <td>...</td>\n",
       "      <td>0</td>\n",
       "      <td>1</td>\n",
       "      <td>0</td>\n",
       "      <td>0</td>\n",
       "      <td>0</td>\n",
       "      <td>0</td>\n",
       "      <td>1</td>\n",
       "      <td>0</td>\n",
       "      <td>0</td>\n",
       "      <td>0</td>\n",
       "    </tr>\n",
       "    <tr>\n",
       "      <th>MA1</th>\n",
       "      <td>17</td>\n",
       "      <td>1</td>\n",
       "      <td>1</td>\n",
       "      <td>1</td>\n",
       "      <td>1</td>\n",
       "      <td>1</td>\n",
       "      <td>1</td>\n",
       "      <td>0</td>\n",
       "      <td>1</td>\n",
       "      <td>1</td>\n",
       "      <td>...</td>\n",
       "      <td>1</td>\n",
       "      <td>0</td>\n",
       "      <td>1</td>\n",
       "      <td>1</td>\n",
       "      <td>1</td>\n",
       "      <td>1</td>\n",
       "      <td>0</td>\n",
       "      <td>1</td>\n",
       "      <td>1</td>\n",
       "      <td>1</td>\n",
       "    </tr>\n",
       "    <tr>\n",
       "      <th>MA3</th>\n",
       "      <td>42</td>\n",
       "      <td>2</td>\n",
       "      <td>2</td>\n",
       "      <td>2</td>\n",
       "      <td>2</td>\n",
       "      <td>2</td>\n",
       "      <td>2</td>\n",
       "      <td>2</td>\n",
       "      <td>2</td>\n",
       "      <td>2</td>\n",
       "      <td>...</td>\n",
       "      <td>3</td>\n",
       "      <td>3</td>\n",
       "      <td>2</td>\n",
       "      <td>2</td>\n",
       "      <td>2</td>\n",
       "      <td>2</td>\n",
       "      <td>2</td>\n",
       "      <td>2</td>\n",
       "      <td>2</td>\n",
       "      <td>2</td>\n",
       "    </tr>\n",
       "    <tr>\n",
       "      <th>PS3</th>\n",
       "      <td>63</td>\n",
       "      <td>5</td>\n",
       "      <td>5</td>\n",
       "      <td>3</td>\n",
       "      <td>3</td>\n",
       "      <td>3</td>\n",
       "      <td>3</td>\n",
       "      <td>3</td>\n",
       "      <td>3</td>\n",
       "      <td>3</td>\n",
       "      <td>...</td>\n",
       "      <td>2</td>\n",
       "      <td>2</td>\n",
       "      <td>3</td>\n",
       "      <td>3</td>\n",
       "      <td>3</td>\n",
       "      <td>3</td>\n",
       "      <td>4</td>\n",
       "      <td>3</td>\n",
       "      <td>3</td>\n",
       "      <td>3</td>\n",
       "    </tr>\n",
       "    <tr>\n",
       "      <th>RR1</th>\n",
       "      <td>100</td>\n",
       "      <td>4</td>\n",
       "      <td>4</td>\n",
       "      <td>7</td>\n",
       "      <td>7</td>\n",
       "      <td>5</td>\n",
       "      <td>7</td>\n",
       "      <td>4</td>\n",
       "      <td>4</td>\n",
       "      <td>4</td>\n",
       "      <td>...</td>\n",
       "      <td>5</td>\n",
       "      <td>7</td>\n",
       "      <td>4</td>\n",
       "      <td>7</td>\n",
       "      <td>5</td>\n",
       "      <td>4</td>\n",
       "      <td>3</td>\n",
       "      <td>4</td>\n",
       "      <td>4</td>\n",
       "      <td>7</td>\n",
       "    </tr>\n",
       "    <tr>\n",
       "      <th>PS1</th>\n",
       "      <td>109</td>\n",
       "      <td>7</td>\n",
       "      <td>7</td>\n",
       "      <td>6</td>\n",
       "      <td>5</td>\n",
       "      <td>4</td>\n",
       "      <td>6</td>\n",
       "      <td>5</td>\n",
       "      <td>5</td>\n",
       "      <td>6</td>\n",
       "      <td>...</td>\n",
       "      <td>4</td>\n",
       "      <td>6</td>\n",
       "      <td>6</td>\n",
       "      <td>4</td>\n",
       "      <td>6</td>\n",
       "      <td>5</td>\n",
       "      <td>5</td>\n",
       "      <td>6</td>\n",
       "      <td>6</td>\n",
       "      <td>4</td>\n",
       "    </tr>\n",
       "    <tr>\n",
       "      <th>BS1</th>\n",
       "      <td>114</td>\n",
       "      <td>3</td>\n",
       "      <td>3</td>\n",
       "      <td>4</td>\n",
       "      <td>4</td>\n",
       "      <td>7</td>\n",
       "      <td>5</td>\n",
       "      <td>7</td>\n",
       "      <td>6</td>\n",
       "      <td>7</td>\n",
       "      <td>...</td>\n",
       "      <td>6</td>\n",
       "      <td>5</td>\n",
       "      <td>7</td>\n",
       "      <td>5</td>\n",
       "      <td>7</td>\n",
       "      <td>7</td>\n",
       "      <td>7</td>\n",
       "      <td>7</td>\n",
       "      <td>5</td>\n",
       "      <td>5</td>\n",
       "    </tr>\n",
       "    <tr>\n",
       "      <th>PS2</th>\n",
       "      <td>120</td>\n",
       "      <td>8</td>\n",
       "      <td>9</td>\n",
       "      <td>8</td>\n",
       "      <td>6</td>\n",
       "      <td>6</td>\n",
       "      <td>4</td>\n",
       "      <td>6</td>\n",
       "      <td>7</td>\n",
       "      <td>5</td>\n",
       "      <td>...</td>\n",
       "      <td>7</td>\n",
       "      <td>4</td>\n",
       "      <td>5</td>\n",
       "      <td>6</td>\n",
       "      <td>4</td>\n",
       "      <td>6</td>\n",
       "      <td>6</td>\n",
       "      <td>5</td>\n",
       "      <td>7</td>\n",
       "      <td>6</td>\n",
       "    </tr>\n",
       "    <tr>\n",
       "      <th>BS3</th>\n",
       "      <td>168</td>\n",
       "      <td>6</td>\n",
       "      <td>6</td>\n",
       "      <td>9</td>\n",
       "      <td>8</td>\n",
       "      <td>9</td>\n",
       "      <td>9</td>\n",
       "      <td>8</td>\n",
       "      <td>11</td>\n",
       "      <td>8</td>\n",
       "      <td>...</td>\n",
       "      <td>10</td>\n",
       "      <td>9</td>\n",
       "      <td>9</td>\n",
       "      <td>8</td>\n",
       "      <td>8</td>\n",
       "      <td>8</td>\n",
       "      <td>9</td>\n",
       "      <td>8</td>\n",
       "      <td>8</td>\n",
       "      <td>8</td>\n",
       "    </tr>\n",
       "    <tr>\n",
       "      <th>EM2</th>\n",
       "      <td>198</td>\n",
       "      <td>9</td>\n",
       "      <td>12</td>\n",
       "      <td>5</td>\n",
       "      <td>12</td>\n",
       "      <td>10</td>\n",
       "      <td>8</td>\n",
       "      <td>12</td>\n",
       "      <td>10</td>\n",
       "      <td>11</td>\n",
       "      <td>...</td>\n",
       "      <td>8</td>\n",
       "      <td>11</td>\n",
       "      <td>11</td>\n",
       "      <td>11</td>\n",
       "      <td>9</td>\n",
       "      <td>10</td>\n",
       "      <td>8</td>\n",
       "      <td>12</td>\n",
       "      <td>9</td>\n",
       "      <td>12</td>\n",
       "    </tr>\n",
       "    <tr>\n",
       "      <th>EM4</th>\n",
       "      <td>205</td>\n",
       "      <td>11</td>\n",
       "      <td>8</td>\n",
       "      <td>11</td>\n",
       "      <td>10</td>\n",
       "      <td>12</td>\n",
       "      <td>10</td>\n",
       "      <td>9</td>\n",
       "      <td>9</td>\n",
       "      <td>9</td>\n",
       "      <td>...</td>\n",
       "      <td>11</td>\n",
       "      <td>10</td>\n",
       "      <td>12</td>\n",
       "      <td>10</td>\n",
       "      <td>12</td>\n",
       "      <td>11</td>\n",
       "      <td>10</td>\n",
       "      <td>9</td>\n",
       "      <td>11</td>\n",
       "      <td>10</td>\n",
       "    </tr>\n",
       "    <tr>\n",
       "      <th>EM3</th>\n",
       "      <td>208</td>\n",
       "      <td>12</td>\n",
       "      <td>11</td>\n",
       "      <td>12</td>\n",
       "      <td>9</td>\n",
       "      <td>11</td>\n",
       "      <td>12</td>\n",
       "      <td>13</td>\n",
       "      <td>8</td>\n",
       "      <td>12</td>\n",
       "      <td>...</td>\n",
       "      <td>9</td>\n",
       "      <td>8</td>\n",
       "      <td>10</td>\n",
       "      <td>9</td>\n",
       "      <td>11</td>\n",
       "      <td>9</td>\n",
       "      <td>12</td>\n",
       "      <td>10</td>\n",
       "      <td>10</td>\n",
       "      <td>9</td>\n",
       "    </tr>\n",
       "    <tr>\n",
       "      <th>RM1</th>\n",
       "      <td>235</td>\n",
       "      <td>14</td>\n",
       "      <td>14</td>\n",
       "      <td>14</td>\n",
       "      <td>14</td>\n",
       "      <td>8</td>\n",
       "      <td>11</td>\n",
       "      <td>10</td>\n",
       "      <td>13</td>\n",
       "      <td>10</td>\n",
       "      <td>...</td>\n",
       "      <td>13</td>\n",
       "      <td>13</td>\n",
       "      <td>8</td>\n",
       "      <td>12</td>\n",
       "      <td>10</td>\n",
       "      <td>12</td>\n",
       "      <td>11</td>\n",
       "      <td>11</td>\n",
       "      <td>13</td>\n",
       "      <td>11</td>\n",
       "    </tr>\n",
       "    <tr>\n",
       "      <th>BS2</th>\n",
       "      <td>242</td>\n",
       "      <td>10</td>\n",
       "      <td>10</td>\n",
       "      <td>10</td>\n",
       "      <td>11</td>\n",
       "      <td>13</td>\n",
       "      <td>13</td>\n",
       "      <td>11</td>\n",
       "      <td>12</td>\n",
       "      <td>13</td>\n",
       "      <td>...</td>\n",
       "      <td>12</td>\n",
       "      <td>12</td>\n",
       "      <td>13</td>\n",
       "      <td>13</td>\n",
       "      <td>13</td>\n",
       "      <td>13</td>\n",
       "      <td>13</td>\n",
       "      <td>13</td>\n",
       "      <td>12</td>\n",
       "      <td>13</td>\n",
       "    </tr>\n",
       "    <tr>\n",
       "      <th>EM1</th>\n",
       "      <td>276</td>\n",
       "      <td>13</td>\n",
       "      <td>13</td>\n",
       "      <td>13</td>\n",
       "      <td>13</td>\n",
       "      <td>14</td>\n",
       "      <td>14</td>\n",
       "      <td>14</td>\n",
       "      <td>14</td>\n",
       "      <td>14</td>\n",
       "      <td>...</td>\n",
       "      <td>14</td>\n",
       "      <td>14</td>\n",
       "      <td>14</td>\n",
       "      <td>14</td>\n",
       "      <td>14</td>\n",
       "      <td>14</td>\n",
       "      <td>14</td>\n",
       "      <td>14</td>\n",
       "      <td>14</td>\n",
       "      <td>14</td>\n",
       "    </tr>\n",
       "    <tr>\n",
       "      <th>NP1</th>\n",
       "      <td>300</td>\n",
       "      <td>15</td>\n",
       "      <td>15</td>\n",
       "      <td>15</td>\n",
       "      <td>15</td>\n",
       "      <td>15</td>\n",
       "      <td>15</td>\n",
       "      <td>15</td>\n",
       "      <td>15</td>\n",
       "      <td>15</td>\n",
       "      <td>...</td>\n",
       "      <td>15</td>\n",
       "      <td>15</td>\n",
       "      <td>15</td>\n",
       "      <td>15</td>\n",
       "      <td>15</td>\n",
       "      <td>15</td>\n",
       "      <td>15</td>\n",
       "      <td>15</td>\n",
       "      <td>15</td>\n",
       "      <td>15</td>\n",
       "    </tr>\n",
       "    <tr>\n",
       "      <th>BS4</th>\n",
       "      <td>320</td>\n",
       "      <td>16</td>\n",
       "      <td>16</td>\n",
       "      <td>16</td>\n",
       "      <td>16</td>\n",
       "      <td>16</td>\n",
       "      <td>16</td>\n",
       "      <td>16</td>\n",
       "      <td>16</td>\n",
       "      <td>16</td>\n",
       "      <td>...</td>\n",
       "      <td>16</td>\n",
       "      <td>16</td>\n",
       "      <td>16</td>\n",
       "      <td>16</td>\n",
       "      <td>16</td>\n",
       "      <td>16</td>\n",
       "      <td>16</td>\n",
       "      <td>16</td>\n",
       "      <td>16</td>\n",
       "      <td>16</td>\n",
       "    </tr>\n",
       "  </tbody>\n",
       "</table>\n",
       "<p>17 rows × 21 columns</p>\n",
       "</div>"
      ],
      "text/plain": [
       "sample  total  BC_1  BC_2  BL_1  BL_2  D5_1  D5_2  D6_1  D6_2  F7_1  ...  \\\n",
       "lab                                                                  ...   \n",
       "MA2         3     0     0     0     0     0     0     1     0     0  ...   \n",
       "MA1        17     1     1     1     1     1     1     0     1     1  ...   \n",
       "MA3        42     2     2     2     2     2     2     2     2     2  ...   \n",
       "PS3        63     5     5     3     3     3     3     3     3     3  ...   \n",
       "RR1       100     4     4     7     7     5     7     4     4     4  ...   \n",
       "PS1       109     7     7     6     5     4     6     5     5     6  ...   \n",
       "BS1       114     3     3     4     4     7     5     7     6     7  ...   \n",
       "PS2       120     8     9     8     6     6     4     6     7     5  ...   \n",
       "BS3       168     6     6     9     8     9     9     8    11     8  ...   \n",
       "EM2       198     9    12     5    12    10     8    12    10    11  ...   \n",
       "EM4       205    11     8    11    10    12    10     9     9     9  ...   \n",
       "EM3       208    12    11    12     9    11    12    13     8    12  ...   \n",
       "RM1       235    14    14    14    14     8    11    10    13    10  ...   \n",
       "BS2       242    10    10    10    11    13    13    11    12    13  ...   \n",
       "EM1       276    13    13    13    13    14    14    14    14    14  ...   \n",
       "NP1       300    15    15    15    15    15    15    15    15    15  ...   \n",
       "BS4       320    16    16    16    16    16    16    16    16    16  ...   \n",
       "\n",
       "sample  M8_1  M8_2  T1_1  T1_2  T2_1  T2_2  T3_1  T3_2  T4_1  T4_2  \n",
       "lab                                                                 \n",
       "MA2        0     1     0     0     0     0     1     0     0     0  \n",
       "MA1        1     0     1     1     1     1     0     1     1     1  \n",
       "MA3        3     3     2     2     2     2     2     2     2     2  \n",
       "PS3        2     2     3     3     3     3     4     3     3     3  \n",
       "RR1        5     7     4     7     5     4     3     4     4     7  \n",
       "PS1        4     6     6     4     6     5     5     6     6     4  \n",
       "BS1        6     5     7     5     7     7     7     7     5     5  \n",
       "PS2        7     4     5     6     4     6     6     5     7     6  \n",
       "BS3       10     9     9     8     8     8     9     8     8     8  \n",
       "EM2        8    11    11    11     9    10     8    12     9    12  \n",
       "EM4       11    10    12    10    12    11    10     9    11    10  \n",
       "EM3        9     8    10     9    11     9    12    10    10     9  \n",
       "RM1       13    13     8    12    10    12    11    11    13    11  \n",
       "BS2       12    12    13    13    13    13    13    13    12    13  \n",
       "EM1       14    14    14    14    14    14    14    14    14    14  \n",
       "NP1       15    15    15    15    15    15    15    15    15    15  \n",
       "BS4       16    16    16    16    16    16    16    16    16    16  \n",
       "\n",
       "[17 rows x 21 columns]"
      ]
     },
     "execution_count": 5,
     "metadata": {},
     "output_type": "execute_result"
    }
   ],
   "source": [
    "order_stat = (\n",
    "    unified_pivot\n",
    "           .assign(lab=unified_pivot.index)\n",
    "           .melt(id_vars='lab', var_name='sample', value_name='rmse')\n",
    "           .sort_values(['sample', 'rmse'])\n",
    "           .assign(order=lambda x: x.groupby('sample').cumcount())[['lab', 'sample', 'order']]\n",
    "           .pivot(columns='sample', index='lab', values='order')\n",
    "           .assign(total=lambda df: df.sum(axis=1))\n",
    "           .sort_values(by='total', ascending=True)\n",
    ")\n",
    "order_stat[['total'] + [i for i in order_stat.columns if i != 'total']]"
   ]
  },
  {
   "cell_type": "code",
   "execution_count": null,
   "id": "2775bc8c",
   "metadata": {},
   "outputs": [
    {
     "name": "stdout",
     "output_type": "stream",
     "text": [
      "1\tMA2\t3\n",
      "2\tMA1\t17\n",
      "3\tMA3\t42\n",
      "4\tPS3\t63\n",
      "5\tRR1\t100\n",
      "6\tPS1\t109\n",
      "7\tBS1\t114\n",
      "8\tPS2\t120\n",
      "9\tBS3\t168\n",
      "10\tEM2\t198\n",
      "11\tEM4\t205\n",
      "12\tEM3\t208\n",
      "13\tRM1\t235\n",
      "14\tBS2\t242\n",
      "15\tEM1\t276\n",
      "16\tNP1\t300\n",
      "17\tBS4\t320\n"
     ]
    }
   ],
   "source": [
    "for idx, lab in enumerate(order_stat.index):\n",
    "    print(f\"{idx + 1}\\t{lab}\\t{order_stat.loc[lab, 'total']}\")"
   ]
  },
  {
   "cell_type": "code",
   "execution_count": 45,
   "id": "efcd8d04",
   "metadata": {},
   "outputs": [
    {
     "data": {
      "text/plain": [
       "211.0"
      ]
     },
     "execution_count": 45,
     "metadata": {},
     "output_type": "execute_result"
    }
   ],
   "source": [
    "order_stat[order_stat.index.str.contains('BS')]['total'].mean()"
   ]
  },
  {
   "cell_type": "code",
   "execution_count": 46,
   "id": "77027bb5",
   "metadata": {},
   "outputs": [
    {
     "data": {
      "text/plain": [
       "174.66666666666666"
      ]
     },
     "execution_count": 46,
     "metadata": {},
     "output_type": "execute_result"
    }
   ],
   "source": [
    "order_stat[order_stat.index.isin(['BS1', 'BS2', 'BS3'])]['total'].mean()"
   ]
  },
  {
   "cell_type": "code",
   "execution_count": 47,
   "id": "33c97ed3",
   "metadata": {},
   "outputs": [
    {
     "data": {
      "text/plain": [
       "221.75"
      ]
     },
     "execution_count": 47,
     "metadata": {},
     "output_type": "execute_result"
    }
   ],
   "source": [
    "order_stat[order_stat.index.str.contains('EM')]['total'].mean()"
   ]
  },
  {
   "cell_type": "code",
   "execution_count": 55,
   "id": "4e5d6243",
   "metadata": {},
   "outputs": [
    {
     "data": {
      "text/plain": [
       "117.66666666666667"
      ]
     },
     "execution_count": 55,
     "metadata": {},
     "output_type": "execute_result"
    }
   ],
   "source": [
    "order_stat[order_stat.index.str.contains('PS')]['total'].mean()"
   ]
  },
  {
   "cell_type": "code",
   "execution_count": 48,
   "id": "0f130722",
   "metadata": {},
   "outputs": [],
   "source": [
    "unified.to_csv(\n",
    "    '/mnt/eqa/zhangyuanfeng/methylation/data_for_plot/3_quantative_rmse_spearmanr/unified_rmse.csv',\n",
    "    index=False\n",
    ")"
   ]
  }
 ],
 "metadata": {
  "kernelspec": {
   "display_name": "data2024",
   "language": "python",
   "name": "python3"
  },
  "language_info": {
   "codemirror_mode": {
    "name": "ipython",
    "version": 3
   },
   "file_extension": ".py",
   "mimetype": "text/x-python",
   "name": "python",
   "nbconvert_exporter": "python",
   "pygments_lexer": "ipython3",
   "version": "3.12.2"
  }
 },
 "nbformat": 4,
 "nbformat_minor": 5
}
