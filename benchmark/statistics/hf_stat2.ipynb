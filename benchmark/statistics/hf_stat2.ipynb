{
 "cells": [
  {
   "cell_type": "code",
   "execution_count": 6,
   "id": "a8e56e3c",
   "metadata": {},
   "outputs": [],
   "source": [
    "from pathlib import Path\n",
    "import polars as pl\n",
    "\n",
    "\n",
    "uniformed_dir: Path = Path('/mnt/eqa/zhangyuanfeng/methylation/unified_informed/formatted')\n",
    "rev_files: list[Path] = [p for p in uniformed_dir.glob('*lz4') if any(p.name.startswith(i)\n",
    "                                                                      for i in {'BS', 'EM', 'RR'})]\n",
    "dir_files: list[Path] = [p for p in uniformed_dir.glob('*lz4') if p.name.startswith('PS')]"
   ]
  },
  {
   "cell_type": "code",
   "execution_count": 10,
   "id": "11ab899a",
   "metadata": {},
   "outputs": [],
   "source": [
    "rev_df_list: list[pl.DataFrame] = []\n",
    "\n",
    "for rev_f in rev_files:\n",
    "    fname = rev_f.name.split('.')[0]\n",
    "    lab = fname.split('_')[0]\n",
    "\n",
    "    if 'RR' in lab:\n",
    "        controls = ['chrM']\n",
    "    else:\n",
    "        controls = ['lambda', 'pUC19', 'chrM']    \n",
    "\n",
    "    f_df: pl.DataFrame = (pl.scan_parquet(rev_f)\n",
    "                            .filter(pl.col('depth') >= 10,\n",
    "                                    pl.col('chrom').is_in(controls))\n",
    "                            .with_columns(pl.lit(lab).alias('lab'),\n",
    "                                          pl.col('chrom')\n",
    "                                            .replace(old=['chrM', 'lambda', 'pUC19'],\n",
    "                                                     new=['conversion insufficency',\n",
    "                                                          'conversion insufficency',\n",
    "                                                          'excessive conversion'])\n",
    "                                            .alias('type'))\n",
    "                            .with_columns(pl.when(pl.col('chrom') == 'pUC19')\n",
    "                                            .then(100 - pl.col('beta'))\n",
    "                                            .otherwise(pl.col('beta'))\n",
    "                                            .alias('cr'))\n",
    "                            .select('lab', 'chrom', 'type', 'cr')\n",
    "                            .collect())\n",
    "    rev_df_list.append(f_df)\n",
    "\n",
    "\n",
    "for dir_f in dir_files:\n",
    "    fname = dir_f.name.split('.')[0]\n",
    "    lab = fname.split('_')[0]\n",
    "\n",
    "    controls = ['lambda', 'pUC19', 'chrM']    \n",
    "\n",
    "    f_df: pl.DataFrame = (pl.scan_parquet(dir_f)\n",
    "                            .filter(pl.col('depth') >= 10,\n",
    "                                    pl.col('chrom').is_in(controls))\n",
    "                            .with_columns(pl.lit(lab).alias('lab'),\n",
    "                                          pl.col('chrom')\n",
    "                                            .replace(old=['chrM', 'lambda', 'pUC19'],\n",
    "                                                     new=['excessive conversion',\n",
    "                                                          'excessive conversion',\n",
    "                                                          'conversion insufficency'])\n",
    "                                            .alias('type'))\n",
    "                            .with_columns(pl.when(pl.col('chrom') == 'pUC19')\n",
    "                                            .then(100 - pl.col('beta'))\n",
    "                                            .otherwise(pl.col('beta'))\n",
    "                                            .alias('cr'))\n",
    "                            .select('lab', 'chrom', 'type', 'cr')\n",
    "                            .collect())\n",
    "    rev_df_list.append(f_df)"
   ]
  },
  {
   "cell_type": "code",
   "execution_count": 11,
   "id": "915df231",
   "metadata": {},
   "outputs": [],
   "source": [
    "total_df = pl.concat(rev_df_list).sort('lab', 'type', 'chrom', 'cr')"
   ]
  },
  {
   "cell_type": "code",
   "execution_count": 12,
   "id": "a983ecc4",
   "metadata": {},
   "outputs": [
    {
     "data": {
      "text/html": [
       "<div><style>\n",
       ".dataframe > thead > tr,\n",
       ".dataframe > tbody > tr {\n",
       "  text-align: right;\n",
       "  white-space: pre-wrap;\n",
       "}\n",
       "</style>\n",
       "<small>shape: (150_403, 4)</small><table border=\"1\" class=\"dataframe\"><thead><tr><th>lab</th><th>chrom</th><th>type</th><th>cr</th></tr><tr><td>str</td><td>str</td><td>str</td><td>f64</td></tr></thead><tbody><tr><td>&quot;BS1&quot;</td><td>&quot;chrM&quot;</td><td>&quot;conversion insufficency&quot;</td><td>0.0</td></tr><tr><td>&quot;BS1&quot;</td><td>&quot;chrM&quot;</td><td>&quot;conversion insufficency&quot;</td><td>0.0</td></tr><tr><td>&quot;BS1&quot;</td><td>&quot;chrM&quot;</td><td>&quot;conversion insufficency&quot;</td><td>0.0</td></tr><tr><td>&quot;BS1&quot;</td><td>&quot;chrM&quot;</td><td>&quot;conversion insufficency&quot;</td><td>0.0</td></tr><tr><td>&quot;BS1&quot;</td><td>&quot;chrM&quot;</td><td>&quot;conversion insufficency&quot;</td><td>0.0</td></tr><tr><td>&hellip;</td><td>&hellip;</td><td>&hellip;</td><td>&hellip;</td></tr><tr><td>&quot;BS1&quot;</td><td>&quot;pUC19&quot;</td><td>&quot;excessive conversion&quot;</td><td>59.139785</td></tr><tr><td>&quot;BS1&quot;</td><td>&quot;pUC19&quot;</td><td>&quot;excessive conversion&quot;</td><td>61.585366</td></tr><tr><td>&quot;BS1&quot;</td><td>&quot;pUC19&quot;</td><td>&quot;excessive conversion&quot;</td><td>61.96319</td></tr><tr><td>&quot;BS1&quot;</td><td>&quot;pUC19&quot;</td><td>&quot;excessive conversion&quot;</td><td>62.758621</td></tr><tr><td>&quot;BS1&quot;</td><td>&quot;pUC19&quot;</td><td>&quot;excessive conversion&quot;</td><td>69.672131</td></tr></tbody></table></div>"
      ],
      "text/plain": [
       "shape: (150_403, 4)\n",
       "┌─────┬───────┬─────────────────────────┬───────────┐\n",
       "│ lab ┆ chrom ┆ type                    ┆ cr        │\n",
       "│ --- ┆ ---   ┆ ---                     ┆ ---       │\n",
       "│ str ┆ str   ┆ str                     ┆ f64       │\n",
       "╞═════╪═══════╪═════════════════════════╪═══════════╡\n",
       "│ BS1 ┆ chrM  ┆ conversion insufficency ┆ 0.0       │\n",
       "│ BS1 ┆ chrM  ┆ conversion insufficency ┆ 0.0       │\n",
       "│ BS1 ┆ chrM  ┆ conversion insufficency ┆ 0.0       │\n",
       "│ BS1 ┆ chrM  ┆ conversion insufficency ┆ 0.0       │\n",
       "│ BS1 ┆ chrM  ┆ conversion insufficency ┆ 0.0       │\n",
       "│ …   ┆ …     ┆ …                       ┆ …         │\n",
       "│ BS1 ┆ pUC19 ┆ excessive conversion    ┆ 59.139785 │\n",
       "│ BS1 ┆ pUC19 ┆ excessive conversion    ┆ 61.585366 │\n",
       "│ BS1 ┆ pUC19 ┆ excessive conversion    ┆ 61.96319  │\n",
       "│ BS1 ┆ pUC19 ┆ excessive conversion    ┆ 62.758621 │\n",
       "│ BS1 ┆ pUC19 ┆ excessive conversion    ┆ 69.672131 │\n",
       "└─────┴───────┴─────────────────────────┴───────────┘"
      ]
     },
     "execution_count": 12,
     "metadata": {},
     "output_type": "execute_result"
    }
   ],
   "source": [
    "total_df.filter(pl.col('lab') == 'BS1')"
   ]
  },
  {
   "cell_type": "code",
   "execution_count": 14,
   "id": "6ced6ad4",
   "metadata": {},
   "outputs": [],
   "source": [
    "total_df.write_csv('/mnt/eqa/zhangyuanfeng/methylation/data_for_plot/2_conversion_rate_bias/cr_cytosines.csv')"
   ]
  },
  {
   "cell_type": "code",
   "execution_count": 13,
   "id": "20aa0eed",
   "metadata": {},
   "outputs": [],
   "source": [
    "hf_df: pl.DataFrame\n",
    "\n",
    "hf_f: Path = Path('/mnt/eqa/zhangyuanfeng/methylation/evaluated/hf_bias_choosed.csv')\n",
    "\n",
    "hf_df = (pl.scan_csv(hf_f)\n",
    "           .drop('chrom')\n",
    "           .select('lab', 'direction', 'bias')\n",
    "           .collect())"
   ]
  },
  {
   "cell_type": "code",
   "execution_count": 14,
   "id": "ad8aa7c9",
   "metadata": {},
   "outputs": [
    {
     "data": {
      "text/html": [
       "<div><style>\n",
       ".dataframe > thead > tr,\n",
       ".dataframe > tbody > tr {\n",
       "  text-align: right;\n",
       "  white-space: pre-wrap;\n",
       "}\n",
       "</style>\n",
       "<small>shape: (5_141, 3)</small><table border=\"1\" class=\"dataframe\"><thead><tr><th>lab</th><th>direction</th><th>bias</th></tr><tr><td>str</td><td>str</td><td>f64</td></tr></thead><tbody><tr><td>&quot;MA1&quot;</td><td>&quot;over-estimate&quot;</td><td>12.7706</td></tr><tr><td>&quot;MA1&quot;</td><td>&quot;over-estimate&quot;</td><td>16.5098</td></tr><tr><td>&quot;MA1&quot;</td><td>&quot;over-estimate&quot;</td><td>4.1842</td></tr><tr><td>&quot;MA1&quot;</td><td>&quot;over-estimate&quot;</td><td>8.1982</td></tr><tr><td>&quot;MA1&quot;</td><td>&quot;over-estimate&quot;</td><td>3.4307</td></tr><tr><td>&hellip;</td><td>&hellip;</td><td>&hellip;</td></tr><tr><td>&quot;PS1&quot;</td><td>&quot;under-estimate&quot;</td><td>-10.0</td></tr><tr><td>&quot;PS2&quot;</td><td>&quot;no bias&quot;</td><td>0.0</td></tr><tr><td>&quot;PS2&quot;</td><td>&quot;over-estimate&quot;</td><td>8.064516</td></tr><tr><td>&quot;PS3&quot;</td><td>&quot;no bias&quot;</td><td>0.0</td></tr><tr><td>&quot;PS3&quot;</td><td>&quot;under-estimate&quot;</td><td>-6.164384</td></tr></tbody></table></div>"
      ],
      "text/plain": [
       "shape: (5_141, 3)\n",
       "┌─────┬────────────────┬───────────┐\n",
       "│ lab ┆ direction      ┆ bias      │\n",
       "│ --- ┆ ---            ┆ ---       │\n",
       "│ str ┆ str            ┆ f64       │\n",
       "╞═════╪════════════════╪═══════════╡\n",
       "│ MA1 ┆ over-estimate  ┆ 12.7706   │\n",
       "│ MA1 ┆ over-estimate  ┆ 16.5098   │\n",
       "│ MA1 ┆ over-estimate  ┆ 4.1842    │\n",
       "│ MA1 ┆ over-estimate  ┆ 8.1982    │\n",
       "│ MA1 ┆ over-estimate  ┆ 3.4307    │\n",
       "│ …   ┆ …              ┆ …         │\n",
       "│ PS1 ┆ under-estimate ┆ -10.0     │\n",
       "│ PS2 ┆ no bias        ┆ 0.0       │\n",
       "│ PS2 ┆ over-estimate  ┆ 8.064516  │\n",
       "│ PS3 ┆ no bias        ┆ 0.0       │\n",
       "│ PS3 ┆ under-estimate ┆ -6.164384 │\n",
       "└─────┴────────────────┴───────────┘"
      ]
     },
     "execution_count": 14,
     "metadata": {},
     "output_type": "execute_result"
    }
   ],
   "source": [
    "hf_df"
   ]
  },
  {
   "cell_type": "code",
   "execution_count": 16,
   "id": "53e4fd1b",
   "metadata": {},
   "outputs": [],
   "source": [
    "hf_df.write_csv('/mnt/eqa/zhangyuanfeng/methylation/data_for_plot/2_conversion rate_bias/hf_choosed_cytosines.csv')"
   ]
  }
 ],
 "metadata": {
  "kernelspec": {
   "display_name": "data2024",
   "language": "python",
   "name": "python3"
  },
  "language_info": {
   "codemirror_mode": {
    "name": "ipython",
    "version": 3
   },
   "file_extension": ".py",
   "mimetype": "text/x-python",
   "name": "python",
   "nbconvert_exporter": "python",
   "pygments_lexer": "ipython3",
   "version": "3.12.2"
  }
 },
 "nbformat": 4,
 "nbformat_minor": 5
}
