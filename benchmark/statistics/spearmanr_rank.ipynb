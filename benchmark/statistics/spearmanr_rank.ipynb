{
 "cells": [
  {
   "cell_type": "code",
   "execution_count": 1,
   "id": "e925ce88",
   "metadata": {},
   "outputs": [
    {
     "data": {
      "application/vnd.microsoft.datawrangler.viewer.v0+json": {
       "columns": [
        {
         "name": "index",
         "rawType": "int64",
         "type": "integer"
        },
        {
         "name": "lab",
         "rawType": "object",
         "type": "string"
        },
        {
         "name": "label",
         "rawType": "object",
         "type": "string"
        },
        {
         "name": "feature",
         "rawType": "object",
         "type": "string"
        },
        {
         "name": "fgroup",
         "rawType": "object",
         "type": "string"
        },
        {
         "name": "count",
         "rawType": "int64",
         "type": "integer"
        },
        {
         "name": "spearmanr",
         "rawType": "float64",
         "type": "float"
        },
        {
         "name": "method",
         "rawType": "object",
         "type": "string"
        }
       ],
       "ref": "e54644a5-74ea-4298-b190-56c2a81c8af2",
       "rows": [
        [
         "0",
         "MA1",
         "D5",
         "global",
         "global",
         "926841",
         "0.987099880382836",
         "MA"
        ],
        [
         "1",
         "MA1",
         "D6",
         "global",
         "global",
         "922149",
         "0.9589879875277736",
         "MA"
        ],
        [
         "2",
         "MA1",
         "F7",
         "global",
         "global",
         "927853",
         "0.987754622937374",
         "MA"
        ],
        [
         "3",
         "MA1",
         "M8",
         "global",
         "global",
         "925363",
         "0.98057849201686",
         "MA"
        ],
        [
         "4",
         "MA1",
         "T1",
         "global",
         "global",
         "926818",
         "0.9883497581096278",
         "MA"
        ],
        [
         "5",
         "MA1",
         "T2",
         "global",
         "global",
         "927113",
         "0.9889562242854746",
         "MA"
        ],
        [
         "6",
         "MA1",
         "T3",
         "global",
         "global",
         "927409",
         "0.9905159346191263",
         "MA"
        ],
        [
         "7",
         "MA1",
         "T4",
         "global",
         "global",
         "926084",
         "0.988193352658279",
         "MA"
        ],
        [
         "8",
         "MA1",
         "BC",
         "global",
         "global",
         "924360",
         "0.9569524755779522",
         "MA"
        ],
        [
         "9",
         "MA1",
         "BL",
         "global",
         "global",
         "926504",
         "0.9818151435554529",
         "MA"
        ],
        [
         "10",
         "MA1",
         "HF",
         "global",
         "global",
         "925901",
         "0.8337829092309332",
         "MA"
        ],
        [
         "11",
         "MA2",
         "D5",
         "global",
         "global",
         "927850",
         "0.9897940173567746",
         "MA"
        ],
        [
         "12",
         "MA2",
         "D6",
         "global",
         "global",
         "926198",
         "0.9879909514208122",
         "MA"
        ],
        [
         "13",
         "MA2",
         "F7",
         "global",
         "global",
         "928332",
         "0.988802627170854",
         "MA"
        ],
        [
         "14",
         "MA2",
         "M8",
         "global",
         "global",
         "926138",
         "0.9758951005198858",
         "MA"
        ],
        [
         "15",
         "MA2",
         "T1",
         "global",
         "global",
         "927856",
         "0.9906899692172022",
         "MA"
        ],
        [
         "16",
         "MA2",
         "T2",
         "global",
         "global",
         "928076",
         "0.9906039853932054",
         "MA"
        ],
        [
         "17",
         "MA2",
         "T3",
         "global",
         "global",
         "926425",
         "0.9788150735246816",
         "MA"
        ],
        [
         "18",
         "MA2",
         "T4",
         "global",
         "global",
         "928288",
         "0.991916328735317",
         "MA"
        ],
        [
         "19",
         "MA2",
         "BC",
         "global",
         "global",
         "924895",
         "0.9464882114584978",
         "MA"
        ],
        [
         "20",
         "MA2",
         "BL",
         "global",
         "global",
         "928271",
         "0.9870111634144252",
         "MA"
        ],
        [
         "21",
         "MA2",
         "HF",
         "global",
         "global",
         "927256",
         "0.8515601263896909",
         "MA"
        ],
        [
         "22",
         "MA3",
         "D5",
         "global",
         "global",
         "944684",
         "0.9935867793266628",
         "MA"
        ],
        [
         "23",
         "MA3",
         "D6",
         "global",
         "global",
         "943798",
         "0.9951780897501656",
         "MA"
        ],
        [
         "24",
         "MA3",
         "F7",
         "global",
         "global",
         "945241",
         "0.9934527835648186",
         "MA"
        ],
        [
         "25",
         "MA3",
         "M8",
         "global",
         "global",
         "944186",
         "0.9935542360794232",
         "MA"
        ],
        [
         "26",
         "MA3",
         "T1",
         "global",
         "global",
         "944409",
         "0.9945597649791554",
         "MA"
        ],
        [
         "27",
         "MA3",
         "T2",
         "global",
         "global",
         "944492",
         "0.9950285877735322",
         "MA"
        ],
        [
         "28",
         "MA3",
         "T3",
         "global",
         "global",
         "944358",
         "0.9950954782753116",
         "MA"
        ],
        [
         "29",
         "MA3",
         "T4",
         "global",
         "global",
         "943469",
         "0.9948285492618032",
         "MA"
        ],
        [
         "30",
         "MA3",
         "BC",
         "global",
         "global",
         "941051",
         "0.9785822106997648",
         "MA"
        ],
        [
         "31",
         "MA3",
         "BL",
         "global",
         "global",
         "944718",
         "0.991566606597688",
         "MA"
        ],
        [
         "32",
         "MA3",
         "HF",
         "global",
         "global",
         "883446",
         "0.9095602114275024",
         "MA"
        ],
        [
         "33",
         "BS1",
         "BC",
         "global",
         "global",
         "18376947",
         "0.7125237798532519",
         "BS"
        ],
        [
         "34",
         "BS1",
         "BL",
         "global",
         "global",
         "20107583",
         "0.909085735841308",
         "BS"
        ],
        [
         "35",
         "BS1",
         "D5",
         "global",
         "global",
         "21106350",
         "0.8592104496636976",
         "BS"
        ],
        [
         "36",
         "BS1",
         "D6",
         "global",
         "global",
         "12324341",
         "0.8453822206387386",
         "BS"
        ],
        [
         "37",
         "BS1",
         "F7",
         "global",
         "global",
         "17852812",
         "0.8314657333606567",
         "BS"
        ],
        [
         "38",
         "BS1",
         "HF",
         "global",
         "global",
         "11417376",
         "0.1918596306938282",
         "BS"
        ],
        [
         "39",
         "BS1",
         "M8",
         "global",
         "global",
         "18845582",
         "0.8704931152632246",
         "BS"
        ],
        [
         "40",
         "BS1",
         "T1",
         "global",
         "global",
         "17228169",
         "0.8511289676793358",
         "BS"
        ],
        [
         "41",
         "BS1",
         "T2",
         "global",
         "global",
         "14460512",
         "0.8569042869256946",
         "BS"
        ],
        [
         "42",
         "BS1",
         "T3",
         "global",
         "global",
         "14590001",
         "0.8479480355945093",
         "BS"
        ],
        [
         "43",
         "BS1",
         "T4",
         "global",
         "global",
         "14961682",
         "0.8529199442410971",
         "BS"
        ],
        [
         "44",
         "BS2",
         "BC",
         "global",
         "global",
         "30835699",
         "0.7816497481473628",
         "BS"
        ],
        [
         "45",
         "BS2",
         "BL",
         "global",
         "global",
         "39134327",
         "0.930435824574111",
         "BS"
        ],
        [
         "46",
         "BS2",
         "D5",
         "global",
         "global",
         "34082482",
         "0.9039705955202832",
         "BS"
        ],
        [
         "47",
         "BS2",
         "D6",
         "global",
         "global",
         "39750165",
         "0.8992839236613728",
         "BS"
        ],
        [
         "48",
         "BS2",
         "F7",
         "global",
         "global",
         "35447163",
         "0.8858403683727688",
         "BS"
        ],
        [
         "49",
         "BS2",
         "HF",
         "global",
         "global",
         "29052665",
         "0.2539583304900072",
         "BS"
        ]
       ],
       "shape": {
        "columns": 7,
        "rows": 176
       }
      },
      "text/html": [
       "<div>\n",
       "<style scoped>\n",
       "    .dataframe tbody tr th:only-of-type {\n",
       "        vertical-align: middle;\n",
       "    }\n",
       "\n",
       "    .dataframe tbody tr th {\n",
       "        vertical-align: top;\n",
       "    }\n",
       "\n",
       "    .dataframe thead th {\n",
       "        text-align: right;\n",
       "    }\n",
       "</style>\n",
       "<table border=\"1\" class=\"dataframe\">\n",
       "  <thead>\n",
       "    <tr style=\"text-align: right;\">\n",
       "      <th></th>\n",
       "      <th>lab</th>\n",
       "      <th>label</th>\n",
       "      <th>feature</th>\n",
       "      <th>fgroup</th>\n",
       "      <th>count</th>\n",
       "      <th>spearmanr</th>\n",
       "      <th>method</th>\n",
       "    </tr>\n",
       "  </thead>\n",
       "  <tbody>\n",
       "    <tr>\n",
       "      <th>0</th>\n",
       "      <td>MA1</td>\n",
       "      <td>D5</td>\n",
       "      <td>global</td>\n",
       "      <td>global</td>\n",
       "      <td>926841</td>\n",
       "      <td>0.987100</td>\n",
       "      <td>MA</td>\n",
       "    </tr>\n",
       "    <tr>\n",
       "      <th>1</th>\n",
       "      <td>MA1</td>\n",
       "      <td>D6</td>\n",
       "      <td>global</td>\n",
       "      <td>global</td>\n",
       "      <td>922149</td>\n",
       "      <td>0.958988</td>\n",
       "      <td>MA</td>\n",
       "    </tr>\n",
       "    <tr>\n",
       "      <th>2</th>\n",
       "      <td>MA1</td>\n",
       "      <td>F7</td>\n",
       "      <td>global</td>\n",
       "      <td>global</td>\n",
       "      <td>927853</td>\n",
       "      <td>0.987755</td>\n",
       "      <td>MA</td>\n",
       "    </tr>\n",
       "    <tr>\n",
       "      <th>3</th>\n",
       "      <td>MA1</td>\n",
       "      <td>M8</td>\n",
       "      <td>global</td>\n",
       "      <td>global</td>\n",
       "      <td>925363</td>\n",
       "      <td>0.980578</td>\n",
       "      <td>MA</td>\n",
       "    </tr>\n",
       "    <tr>\n",
       "      <th>4</th>\n",
       "      <td>MA1</td>\n",
       "      <td>T1</td>\n",
       "      <td>global</td>\n",
       "      <td>global</td>\n",
       "      <td>926818</td>\n",
       "      <td>0.988350</td>\n",
       "      <td>MA</td>\n",
       "    </tr>\n",
       "    <tr>\n",
       "      <th>...</th>\n",
       "      <td>...</td>\n",
       "      <td>...</td>\n",
       "      <td>...</td>\n",
       "      <td>...</td>\n",
       "      <td>...</td>\n",
       "      <td>...</td>\n",
       "      <td>...</td>\n",
       "    </tr>\n",
       "    <tr>\n",
       "      <th>171</th>\n",
       "      <td>RR1</td>\n",
       "      <td>M8</td>\n",
       "      <td>global</td>\n",
       "      <td>global</td>\n",
       "      <td>4060421</td>\n",
       "      <td>0.930891</td>\n",
       "      <td>RR</td>\n",
       "    </tr>\n",
       "    <tr>\n",
       "      <th>172</th>\n",
       "      <td>RR1</td>\n",
       "      <td>T1</td>\n",
       "      <td>global</td>\n",
       "      <td>global</td>\n",
       "      <td>3961425</td>\n",
       "      <td>0.930849</td>\n",
       "      <td>RR</td>\n",
       "    </tr>\n",
       "    <tr>\n",
       "      <th>173</th>\n",
       "      <td>RR1</td>\n",
       "      <td>T2</td>\n",
       "      <td>global</td>\n",
       "      <td>global</td>\n",
       "      <td>4343744</td>\n",
       "      <td>0.933114</td>\n",
       "      <td>RR</td>\n",
       "    </tr>\n",
       "    <tr>\n",
       "      <th>174</th>\n",
       "      <td>RR1</td>\n",
       "      <td>T3</td>\n",
       "      <td>global</td>\n",
       "      <td>global</td>\n",
       "      <td>3759925</td>\n",
       "      <td>0.941582</td>\n",
       "      <td>RR</td>\n",
       "    </tr>\n",
       "    <tr>\n",
       "      <th>175</th>\n",
       "      <td>RR1</td>\n",
       "      <td>T4</td>\n",
       "      <td>global</td>\n",
       "      <td>global</td>\n",
       "      <td>3749514</td>\n",
       "      <td>0.921110</td>\n",
       "      <td>RR</td>\n",
       "    </tr>\n",
       "  </tbody>\n",
       "</table>\n",
       "<p>176 rows × 7 columns</p>\n",
       "</div>"
      ],
      "text/plain": [
       "     lab label feature  fgroup    count  spearmanr method\n",
       "0    MA1    D5  global  global   926841   0.987100     MA\n",
       "1    MA1    D6  global  global   922149   0.958988     MA\n",
       "2    MA1    F7  global  global   927853   0.987755     MA\n",
       "3    MA1    M8  global  global   925363   0.980578     MA\n",
       "4    MA1    T1  global  global   926818   0.988350     MA\n",
       "..   ...   ...     ...     ...      ...        ...    ...\n",
       "171  RR1    M8  global  global  4060421   0.930891     RR\n",
       "172  RR1    T1  global  global  3961425   0.930849     RR\n",
       "173  RR1    T2  global  global  4343744   0.933114     RR\n",
       "174  RR1    T3  global  global  3759925   0.941582     RR\n",
       "175  RR1    T4  global  global  3749514   0.921110     RR\n",
       "\n",
       "[176 rows x 7 columns]"
      ]
     },
     "execution_count": 1,
     "metadata": {},
     "output_type": "execute_result"
    }
   ],
   "source": [
    "from pathlib import Path\n",
    "import matplotlib.pyplot as plt\n",
    "import pandas as pd\n",
    "import seaborn as sns\n",
    "\n",
    "submitted_ma_csv = Path('/mnt/eqa/zhangyuanfeng/methylation/evaluated/submitted_ma_spearmanr.csv')\n",
    "unified_csv = Path('/mnt/eqa/zhangyuanfeng/methylation/unified_informed/evaluated/c_spearmanr/spearmanr.csv')\n",
    "\n",
    "unified: pd.DataFrame = (pd.concat([pd.read_csv(submitted_ma_csv), pd.read_csv(unified_csv)])\n",
    "                           .query('feature == \"global\" & lab != \"NP1\"')\n",
    "                           .drop_duplicates(subset=['lab', 'label'], keep='first')\n",
    "                           .reset_index(drop=True))\n",
    "unified['method'] = unified['lab'].str[: 2]\n",
    "unified"
   ]
  },
  {
   "cell_type": "code",
   "execution_count": 11,
   "id": "cb415bc2",
   "metadata": {},
   "outputs": [
    {
     "data": {
      "application/vnd.microsoft.datawrangler.viewer.v0+json": {
       "columns": [
        {
         "name": "method",
         "rawType": "object",
         "type": "string"
        },
        {
         "name": "('spearmanr', 'mean')",
         "rawType": "float64",
         "type": "float"
        },
        {
         "name": "('spearmanr', 'std')",
         "rawType": "float64",
         "type": "float"
        },
        {
         "name": "('spearmanr', 'min')",
         "rawType": "float64",
         "type": "float"
        },
        {
         "name": "('spearmanr', 'max')",
         "rawType": "float64",
         "type": "float"
        }
       ],
       "ref": "54242e04-3584-4f4a-9361-911ffc1ab4fa",
       "rows": [
        [
         "BS",
         "0.8084361071609504",
         "0.1721949948221868",
         "0.1918596306938282",
         "0.930435824574111"
        ],
        [
         "EM",
         "0.8206079561045232",
         "0.1942717515693365",
         "0.2133304666676258",
         "0.9393280476738708"
        ],
        [
         "MA",
         "0.9744711404011777",
         "0.0382595032519784",
         "0.8337829092309332",
         "0.9951780897501656"
        ],
        [
         "PS",
         "0.8544761387256159",
         "0.1709535145212314",
         "0.2917191944072452",
         "0.9372960667895628"
        ],
        [
         "RM",
         "0.7728420174834457",
         "0.23153484054613183",
         "0.127933084968447",
         "0.8998565917049027"
        ],
        [
         "RR",
         "0.8680783629434522",
         "0.18018846205242314",
         "0.3296863374807281",
         "0.9415820714745884"
        ]
       ],
       "shape": {
        "columns": 4,
        "rows": 6
       }
      },
      "text/html": [
       "<div>\n",
       "<style scoped>\n",
       "    .dataframe tbody tr th:only-of-type {\n",
       "        vertical-align: middle;\n",
       "    }\n",
       "\n",
       "    .dataframe tbody tr th {\n",
       "        vertical-align: top;\n",
       "    }\n",
       "\n",
       "    .dataframe thead tr th {\n",
       "        text-align: left;\n",
       "    }\n",
       "\n",
       "    .dataframe thead tr:last-of-type th {\n",
       "        text-align: right;\n",
       "    }\n",
       "</style>\n",
       "<table border=\"1\" class=\"dataframe\">\n",
       "  <thead>\n",
       "    <tr>\n",
       "      <th></th>\n",
       "      <th colspan=\"4\" halign=\"left\">spearmanr</th>\n",
       "    </tr>\n",
       "    <tr>\n",
       "      <th></th>\n",
       "      <th>mean</th>\n",
       "      <th>std</th>\n",
       "      <th>min</th>\n",
       "      <th>max</th>\n",
       "    </tr>\n",
       "    <tr>\n",
       "      <th>method</th>\n",
       "      <th></th>\n",
       "      <th></th>\n",
       "      <th></th>\n",
       "      <th></th>\n",
       "    </tr>\n",
       "  </thead>\n",
       "  <tbody>\n",
       "    <tr>\n",
       "      <th>BS</th>\n",
       "      <td>0.808436</td>\n",
       "      <td>0.172195</td>\n",
       "      <td>0.191860</td>\n",
       "      <td>0.930436</td>\n",
       "    </tr>\n",
       "    <tr>\n",
       "      <th>EM</th>\n",
       "      <td>0.820608</td>\n",
       "      <td>0.194272</td>\n",
       "      <td>0.213330</td>\n",
       "      <td>0.939328</td>\n",
       "    </tr>\n",
       "    <tr>\n",
       "      <th>MA</th>\n",
       "      <td>0.974471</td>\n",
       "      <td>0.038260</td>\n",
       "      <td>0.833783</td>\n",
       "      <td>0.995178</td>\n",
       "    </tr>\n",
       "    <tr>\n",
       "      <th>PS</th>\n",
       "      <td>0.854476</td>\n",
       "      <td>0.170954</td>\n",
       "      <td>0.291719</td>\n",
       "      <td>0.937296</td>\n",
       "    </tr>\n",
       "    <tr>\n",
       "      <th>RM</th>\n",
       "      <td>0.772842</td>\n",
       "      <td>0.231535</td>\n",
       "      <td>0.127933</td>\n",
       "      <td>0.899857</td>\n",
       "    </tr>\n",
       "    <tr>\n",
       "      <th>RR</th>\n",
       "      <td>0.868078</td>\n",
       "      <td>0.180188</td>\n",
       "      <td>0.329686</td>\n",
       "      <td>0.941582</td>\n",
       "    </tr>\n",
       "  </tbody>\n",
       "</table>\n",
       "</div>"
      ],
      "text/plain": [
       "       spearmanr                              \n",
       "            mean       std       min       max\n",
       "method                                        \n",
       "BS      0.808436  0.172195  0.191860  0.930436\n",
       "EM      0.820608  0.194272  0.213330  0.939328\n",
       "MA      0.974471  0.038260  0.833783  0.995178\n",
       "PS      0.854476  0.170954  0.291719  0.937296\n",
       "RM      0.772842  0.231535  0.127933  0.899857\n",
       "RR      0.868078  0.180188  0.329686  0.941582"
      ]
     },
     "execution_count": 11,
     "metadata": {},
     "output_type": "execute_result"
    }
   ],
   "source": [
    "unified.groupby(by='method').agg({'spearmanr': ['mean', 'std', 'min', 'max']})"
   ]
  },
  {
   "cell_type": "code",
   "execution_count": 12,
   "id": "4261c18a",
   "metadata": {},
   "outputs": [
    {
     "data": {
      "text/plain": [
       "<Axes: xlabel='label', ylabel='lab'>"
      ]
     },
     "execution_count": 12,
     "metadata": {},
     "output_type": "execute_result"
    },
    {
     "data": {
      "image/png": "[encoded data removed]",
      "text/plain": [
       "<Figure size 640x480 with 2 Axes>"
      ]
     },
     "metadata": {},
     "output_type": "display_data"
    }
   ],
   "source": [
    "(sns.heatmap(data=unified.pivot(columns='label',\n",
    "                                index='lab',\n",
    "                                values='spearmanr')[['D5', 'D6',\n",
    "                                                'F7', 'M8',\n",
    "                                                'T1', 'T2',\n",
    "                                                'T3', 'T4',\n",
    "                                                'BC', 'BL']],\n",
    "             cmap='coolwarm', linewidths=.5))"
   ]
  },
  {
   "cell_type": "code",
   "execution_count": 13,
   "id": "3a24f84b",
   "metadata": {},
   "outputs": [
    {
     "data": {
      "text/plain": [
       "<seaborn.matrix.ClusterGrid at 0x7f06d7b2d280>"
      ]
     },
     "execution_count": 13,
     "metadata": {},
     "output_type": "execute_result"
    },
    {
     "data": {
      "image/png": "[encoded data removed]",
      "text/plain": [
       "<Figure size 1000x1000 with 4 Axes>"
      ]
     },
     "metadata": {},
     "output_type": "display_data"
    }
   ],
   "source": [
    "(sns.clustermap(data=unified.query('label != \"HF\"')\n",
    "                            .pivot(columns='label',\n",
    "                                   index='lab',\n",
    "                                   values='spearmanr'),\n",
    "                cmap='coolwarm', linewidths=.5))"
   ]
  },
  {
   "cell_type": "code",
   "execution_count": 2,
   "id": "d086fc3b",
   "metadata": {},
   "outputs": [
    {
     "data": {
      "application/vnd.microsoft.datawrangler.viewer.v0+json": {
       "columns": [
        {
         "name": "lab",
         "rawType": "object",
         "type": "string"
        },
        {
         "name": "total",
         "rawType": "int64",
         "type": "integer"
        },
        {
         "name": "BC",
         "rawType": "int64",
         "type": "integer"
        },
        {
         "name": "BL",
         "rawType": "int64",
         "type": "integer"
        },
        {
         "name": "D5",
         "rawType": "int64",
         "type": "integer"
        },
        {
         "name": "D6",
         "rawType": "int64",
         "type": "integer"
        },
        {
         "name": "F7",
         "rawType": "int64",
         "type": "integer"
        },
        {
         "name": "HF",
         "rawType": "int64",
         "type": "integer"
        },
        {
         "name": "M8",
         "rawType": "int64",
         "type": "integer"
        },
        {
         "name": "T1",
         "rawType": "int64",
         "type": "integer"
        },
        {
         "name": "T2",
         "rawType": "int64",
         "type": "integer"
        },
        {
         "name": "T3",
         "rawType": "int64",
         "type": "integer"
        },
        {
         "name": "T4",
         "rawType": "int64",
         "type": "integer"
        }
       ],
       "ref": "3146ba18-48c9-49d1-9141-6c23b951b358",
       "rows": [
        [
         "MA3",
         "0",
         "0",
         "0",
         "0",
         "0",
         "0",
         "0",
         "0",
         "0",
         "0",
         "0",
         "0"
        ],
        [
         "MA2",
         "14",
         "2",
         "1",
         "1",
         "1",
         "1",
         "1",
         "2",
         "1",
         "1",
         "2",
         "1"
        ],
        [
         "MA1",
         "19",
         "1",
         "2",
         "2",
         "2",
         "2",
         "2",
         "1",
         "2",
         "2",
         "1",
         "2"
        ],
        [
         "RR1",
         "39",
         "4",
         "6",
         "3",
         "3",
         "3",
         "5",
         "3",
         "3",
         "3",
         "3",
         "3"
        ],
        [
         "PS3",
         "47",
         "7",
         "4",
         "4",
         "4",
         "4",
         "4",
         "4",
         "4",
         "4",
         "4",
         "4"
        ],
        [
         "PS1",
         "63",
         "6",
         "7",
         "5",
         "5",
         "5",
         "6",
         "6",
         "6",
         "6",
         "5",
         "6"
        ],
        [
         "PS2",
         "71",
         "5",
         "9",
         "6",
         "7",
         "6",
         "7",
         "5",
         "5",
         "7",
         "7",
         "7"
        ],
        [
         "EM3",
         "75",
         "9",
         "3",
         "7",
         "6",
         "8",
         "12",
         "7",
         "7",
         "5",
         "6",
         "5"
        ],
        [
         "BS2",
         "91",
         "8",
         "8",
         "9",
         "8",
         "9",
         "8",
         "8",
         "8",
         "8",
         "8",
         "9"
        ],
        [
         "EM2",
         "98",
         "11",
         "5",
         "8",
         "10",
         "7",
         "13",
         "9",
         "9",
         "9",
         "9",
         "8"
        ],
        [
         "EM4",
         "114",
         "14",
         "10",
         "10",
         "9",
         "10",
         "9",
         "11",
         "10",
         "10",
         "11",
         "10"
        ],
        [
         "BS3",
         "127",
         "13",
         "12",
         "12",
         "11",
         "11",
         "11",
         "12",
         "11",
         "11",
         "12",
         "11"
        ],
        [
         "RM1",
         "131",
         "3",
         "15",
         "11",
         "12",
         "12",
         "15",
         "10",
         "15",
         "15",
         "10",
         "13"
        ],
        [
         "EM1",
         "135",
         "12",
         "11",
         "14",
         "13",
         "13",
         "10",
         "13",
         "12",
         "12",
         "13",
         "12"
        ],
        [
         "BS4",
         "144",
         "10",
         "14",
         "15",
         "15",
         "14",
         "3",
         "15",
         "14",
         "14",
         "15",
         "15"
        ],
        [
         "BS1",
         "152",
         "15",
         "13",
         "13",
         "14",
         "15",
         "14",
         "14",
         "13",
         "13",
         "14",
         "14"
        ]
       ],
       "shape": {
        "columns": 12,
        "rows": 16
       }
      },
      "text/html": [
       "<div>\n",
       "<style scoped>\n",
       "    .dataframe tbody tr th:only-of-type {\n",
       "        vertical-align: middle;\n",
       "    }\n",
       "\n",
       "    .dataframe tbody tr th {\n",
       "        vertical-align: top;\n",
       "    }\n",
       "\n",
       "    .dataframe thead th {\n",
       "        text-align: right;\n",
       "    }\n",
       "</style>\n",
       "<table border=\"1\" class=\"dataframe\">\n",
       "  <thead>\n",
       "    <tr style=\"text-align: right;\">\n",
       "      <th>label</th>\n",
       "      <th>total</th>\n",
       "      <th>BC</th>\n",
       "      <th>BL</th>\n",
       "      <th>D5</th>\n",
       "      <th>D6</th>\n",
       "      <th>F7</th>\n",
       "      <th>HF</th>\n",
       "      <th>M8</th>\n",
       "      <th>T1</th>\n",
       "      <th>T2</th>\n",
       "      <th>T3</th>\n",
       "      <th>T4</th>\n",
       "    </tr>\n",
       "    <tr>\n",
       "      <th>lab</th>\n",
       "      <th></th>\n",
       "      <th></th>\n",
       "      <th></th>\n",
       "      <th></th>\n",
       "      <th></th>\n",
       "      <th></th>\n",
       "      <th></th>\n",
       "      <th></th>\n",
       "      <th></th>\n",
       "      <th></th>\n",
       "      <th></th>\n",
       "      <th></th>\n",
       "    </tr>\n",
       "  </thead>\n",
       "  <tbody>\n",
       "    <tr>\n",
       "      <th>MA3</th>\n",
       "      <td>0</td>\n",
       "      <td>0</td>\n",
       "      <td>0</td>\n",
       "      <td>0</td>\n",
       "      <td>0</td>\n",
       "      <td>0</td>\n",
       "      <td>0</td>\n",
       "      <td>0</td>\n",
       "      <td>0</td>\n",
       "      <td>0</td>\n",
       "      <td>0</td>\n",
       "      <td>0</td>\n",
       "    </tr>\n",
       "    <tr>\n",
       "      <th>MA2</th>\n",
       "      <td>14</td>\n",
       "      <td>2</td>\n",
       "      <td>1</td>\n",
       "      <td>1</td>\n",
       "      <td>1</td>\n",
       "      <td>1</td>\n",
       "      <td>1</td>\n",
       "      <td>2</td>\n",
       "      <td>1</td>\n",
       "      <td>1</td>\n",
       "      <td>2</td>\n",
       "      <td>1</td>\n",
       "    </tr>\n",
       "    <tr>\n",
       "      <th>MA1</th>\n",
       "      <td>19</td>\n",
       "      <td>1</td>\n",
       "      <td>2</td>\n",
       "      <td>2</td>\n",
       "      <td>2</td>\n",
       "      <td>2</td>\n",
       "      <td>2</td>\n",
       "      <td>1</td>\n",
       "      <td>2</td>\n",
       "      <td>2</td>\n",
       "      <td>1</td>\n",
       "      <td>2</td>\n",
       "    </tr>\n",
       "    <tr>\n",
       "      <th>RR1</th>\n",
       "      <td>39</td>\n",
       "      <td>4</td>\n",
       "      <td>6</td>\n",
       "      <td>3</td>\n",
       "      <td>3</td>\n",
       "      <td>3</td>\n",
       "      <td>5</td>\n",
       "      <td>3</td>\n",
       "      <td>3</td>\n",
       "      <td>3</td>\n",
       "      <td>3</td>\n",
       "      <td>3</td>\n",
       "    </tr>\n",
       "    <tr>\n",
       "      <th>PS3</th>\n",
       "      <td>47</td>\n",
       "      <td>7</td>\n",
       "      <td>4</td>\n",
       "      <td>4</td>\n",
       "      <td>4</td>\n",
       "      <td>4</td>\n",
       "      <td>4</td>\n",
       "      <td>4</td>\n",
       "      <td>4</td>\n",
       "      <td>4</td>\n",
       "      <td>4</td>\n",
       "      <td>4</td>\n",
       "    </tr>\n",
       "    <tr>\n",
       "      <th>PS1</th>\n",
       "      <td>63</td>\n",
       "      <td>6</td>\n",
       "      <td>7</td>\n",
       "      <td>5</td>\n",
       "      <td>5</td>\n",
       "      <td>5</td>\n",
       "      <td>6</td>\n",
       "      <td>6</td>\n",
       "      <td>6</td>\n",
       "      <td>6</td>\n",
       "      <td>5</td>\n",
       "      <td>6</td>\n",
       "    </tr>\n",
       "    <tr>\n",
       "      <th>PS2</th>\n",
       "      <td>71</td>\n",
       "      <td>5</td>\n",
       "      <td>9</td>\n",
       "      <td>6</td>\n",
       "      <td>7</td>\n",
       "      <td>6</td>\n",
       "      <td>7</td>\n",
       "      <td>5</td>\n",
       "      <td>5</td>\n",
       "      <td>7</td>\n",
       "      <td>7</td>\n",
       "      <td>7</td>\n",
       "    </tr>\n",
       "    <tr>\n",
       "      <th>EM3</th>\n",
       "      <td>75</td>\n",
       "      <td>9</td>\n",
       "      <td>3</td>\n",
       "      <td>7</td>\n",
       "      <td>6</td>\n",
       "      <td>8</td>\n",
       "      <td>12</td>\n",
       "      <td>7</td>\n",
       "      <td>7</td>\n",
       "      <td>5</td>\n",
       "      <td>6</td>\n",
       "      <td>5</td>\n",
       "    </tr>\n",
       "    <tr>\n",
       "      <th>BS2</th>\n",
       "      <td>91</td>\n",
       "      <td>8</td>\n",
       "      <td>8</td>\n",
       "      <td>9</td>\n",
       "      <td>8</td>\n",
       "      <td>9</td>\n",
       "      <td>8</td>\n",
       "      <td>8</td>\n",
       "      <td>8</td>\n",
       "      <td>8</td>\n",
       "      <td>8</td>\n",
       "      <td>9</td>\n",
       "    </tr>\n",
       "    <tr>\n",
       "      <th>EM2</th>\n",
       "      <td>98</td>\n",
       "      <td>11</td>\n",
       "      <td>5</td>\n",
       "      <td>8</td>\n",
       "      <td>10</td>\n",
       "      <td>7</td>\n",
       "      <td>13</td>\n",
       "      <td>9</td>\n",
       "      <td>9</td>\n",
       "      <td>9</td>\n",
       "      <td>9</td>\n",
       "      <td>8</td>\n",
       "    </tr>\n",
       "    <tr>\n",
       "      <th>EM4</th>\n",
       "      <td>114</td>\n",
       "      <td>14</td>\n",
       "      <td>10</td>\n",
       "      <td>10</td>\n",
       "      <td>9</td>\n",
       "      <td>10</td>\n",
       "      <td>9</td>\n",
       "      <td>11</td>\n",
       "      <td>10</td>\n",
       "      <td>10</td>\n",
       "      <td>11</td>\n",
       "      <td>10</td>\n",
       "    </tr>\n",
       "    <tr>\n",
       "      <th>BS3</th>\n",
       "      <td>127</td>\n",
       "      <td>13</td>\n",
       "      <td>12</td>\n",
       "      <td>12</td>\n",
       "      <td>11</td>\n",
       "      <td>11</td>\n",
       "      <td>11</td>\n",
       "      <td>12</td>\n",
       "      <td>11</td>\n",
       "      <td>11</td>\n",
       "      <td>12</td>\n",
       "      <td>11</td>\n",
       "    </tr>\n",
       "    <tr>\n",
       "      <th>RM1</th>\n",
       "      <td>131</td>\n",
       "      <td>3</td>\n",
       "      <td>15</td>\n",
       "      <td>11</td>\n",
       "      <td>12</td>\n",
       "      <td>12</td>\n",
       "      <td>15</td>\n",
       "      <td>10</td>\n",
       "      <td>15</td>\n",
       "      <td>15</td>\n",
       "      <td>10</td>\n",
       "      <td>13</td>\n",
       "    </tr>\n",
       "    <tr>\n",
       "      <th>EM1</th>\n",
       "      <td>135</td>\n",
       "      <td>12</td>\n",
       "      <td>11</td>\n",
       "      <td>14</td>\n",
       "      <td>13</td>\n",
       "      <td>13</td>\n",
       "      <td>10</td>\n",
       "      <td>13</td>\n",
       "      <td>12</td>\n",
       "      <td>12</td>\n",
       "      <td>13</td>\n",
       "      <td>12</td>\n",
       "    </tr>\n",
       "    <tr>\n",
       "      <th>BS4</th>\n",
       "      <td>144</td>\n",
       "      <td>10</td>\n",
       "      <td>14</td>\n",
       "      <td>15</td>\n",
       "      <td>15</td>\n",
       "      <td>14</td>\n",
       "      <td>3</td>\n",
       "      <td>15</td>\n",
       "      <td>14</td>\n",
       "      <td>14</td>\n",
       "      <td>15</td>\n",
       "      <td>15</td>\n",
       "    </tr>\n",
       "    <tr>\n",
       "      <th>BS1</th>\n",
       "      <td>152</td>\n",
       "      <td>15</td>\n",
       "      <td>13</td>\n",
       "      <td>13</td>\n",
       "      <td>14</td>\n",
       "      <td>15</td>\n",
       "      <td>14</td>\n",
       "      <td>14</td>\n",
       "      <td>13</td>\n",
       "      <td>13</td>\n",
       "      <td>14</td>\n",
       "      <td>14</td>\n",
       "    </tr>\n",
       "  </tbody>\n",
       "</table>\n",
       "</div>"
      ],
      "text/plain": [
       "label  total  BC  BL  D5  D6  F7  HF  M8  T1  T2  T3  T4\n",
       "lab                                                     \n",
       "MA3        0   0   0   0   0   0   0   0   0   0   0   0\n",
       "MA2       14   2   1   1   1   1   1   2   1   1   2   1\n",
       "MA1       19   1   2   2   2   2   2   1   2   2   1   2\n",
       "RR1       39   4   6   3   3   3   5   3   3   3   3   3\n",
       "PS3       47   7   4   4   4   4   4   4   4   4   4   4\n",
       "PS1       63   6   7   5   5   5   6   6   6   6   5   6\n",
       "PS2       71   5   9   6   7   6   7   5   5   7   7   7\n",
       "EM3       75   9   3   7   6   8  12   7   7   5   6   5\n",
       "BS2       91   8   8   9   8   9   8   8   8   8   8   9\n",
       "EM2       98  11   5   8  10   7  13   9   9   9   9   8\n",
       "EM4      114  14  10  10   9  10   9  11  10  10  11  10\n",
       "BS3      127  13  12  12  11  11  11  12  11  11  12  11\n",
       "RM1      131   3  15  11  12  12  15  10  15  15  10  13\n",
       "EM1      135  12  11  14  13  13  10  13  12  12  13  12\n",
       "BS4      144  10  14  15  15  14   3  15  14  14  15  15\n",
       "BS1      152  15  13  13  14  15  14  14  13  13  14  14"
      ]
     },
     "execution_count": 2,
     "metadata": {},
     "output_type": "execute_result"
    }
   ],
   "source": [
    "order_stat = (\n",
    "    unified.sort_values(by=['label', 'spearmanr'], ascending=[True, False])\n",
    "           .assign(order=lambda x: x.groupby('label').cumcount())[['lab', 'label', 'order']]\n",
    "           .pivot(columns='label', index='lab', values='order')\n",
    "           .assign(total=lambda df: df.sum(axis=1))\n",
    "           .sort_values(by='total', ascending=True)\n",
    ")\n",
    "order_stat[['total'] + [i for i in order_stat.columns if i != 'total']]"
   ]
  },
  {
   "cell_type": "code",
   "execution_count": 3,
   "id": "fa44dac2",
   "metadata": {},
   "outputs": [
    {
     "name": "stdout",
     "output_type": "stream",
     "text": [
      "1\tMA3\t0\n",
      "2\tMA2\t14\n",
      "3\tMA1\t19\n",
      "4\tRR1\t39\n",
      "5\tPS3\t47\n",
      "6\tPS1\t63\n",
      "7\tPS2\t71\n",
      "8\tEM3\t75\n",
      "9\tBS2\t91\n",
      "10\tEM2\t98\n",
      "11\tEM4\t114\n",
      "12\tBS3\t127\n",
      "13\tRM1\t131\n",
      "14\tEM1\t135\n",
      "15\tBS4\t144\n",
      "16\tBS1\t152\n"
     ]
    }
   ],
   "source": [
    "for idx, lab in enumerate(order_stat.index):\n",
    "    print(idx + 1, lab, order_stat.loc[lab, 'total'], sep='\\t')"
   ]
  },
  {
   "cell_type": "code",
   "execution_count": 21,
   "id": "f6161e6e",
   "metadata": {},
   "outputs": [
    {
     "data": {
      "text/plain": [
       "128.5"
      ]
     },
     "execution_count": 21,
     "metadata": {},
     "output_type": "execute_result"
    }
   ],
   "source": [
    "order_stat[order_stat.index.str.contains('BS')]['total'].mean()"
   ]
  },
  {
   "cell_type": "code",
   "execution_count": 20,
   "id": "ee1fcb79",
   "metadata": {},
   "outputs": [
    {
     "data": {
      "text/plain": [
       "105.5"
      ]
     },
     "execution_count": 20,
     "metadata": {},
     "output_type": "execute_result"
    }
   ],
   "source": [
    "order_stat[order_stat.index.str.contains('EM')]['total'].mean()"
   ]
  },
  {
   "cell_type": "code",
   "execution_count": 19,
   "id": "0eee1097",
   "metadata": {},
   "outputs": [
    {
     "data": {
      "text/plain": [
       "60.333333333333336"
      ]
     },
     "execution_count": 19,
     "metadata": {},
     "output_type": "execute_result"
    }
   ],
   "source": [
    "order_stat[order_stat.index.str.contains('PS')]['total'].mean()"
   ]
  },
  {
   "cell_type": "code",
   "execution_count": 18,
   "id": "51038022",
   "metadata": {},
   "outputs": [],
   "source": [
    "unified.to_csv(\n",
    "    '/mnt/eqa/zhangyuanfeng/methylation/data_for_plot/3_quantative_rmse_spearmanr/unified_spearmanr.csv',\n",
    "    index=False\n",
    ")"
   ]
  }
 ],
 "metadata": {
  "kernelspec": {
   "display_name": "data2024",
   "language": "python",
   "name": "python3"
  },
  "language_info": {
   "codemirror_mode": {
    "name": "ipython",
    "version": 3
   },
   "file_extension": ".py",
   "mimetype": "text/x-python",
   "name": "python",
   "nbconvert_exporter": "python",
   "pygments_lexer": "ipython3",
   "version": "3.12.2"
  }
 },
 "nbformat": 4,
 "nbformat_minor": 5
}
