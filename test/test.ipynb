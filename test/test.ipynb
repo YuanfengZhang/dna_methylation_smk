{
 "cells": [
  {
   "cell_type": "code",
   "execution_count": 6,
   "metadata": {},
   "outputs": [
    {
     "data": {
      "text/html": [
       "<div>\n",
       "<style scoped>\n",
       "    .dataframe tbody tr th:only-of-type {\n",
       "        vertical-align: middle;\n",
       "    }\n",
       "\n",
       "    .dataframe tbody tr th {\n",
       "        vertical-align: top;\n",
       "    }\n",
       "\n",
       "    .dataframe thead th {\n",
       "        text-align: right;\n",
       "    }\n",
       "</style>\n",
       "<table border=\"1\" class=\"dataframe\">\n",
       "  <thead>\n",
       "    <tr style=\"text-align: right;\">\n",
       "      <th></th>\n",
       "      <th>FNAME</th>\n",
       "      <th>TRIMMER</th>\n",
       "      <th>QC_REPORTER</th>\n",
       "      <th>ALIGNER</th>\n",
       "      <th>DEDUPER</th>\n",
       "      <th>RECALIBRATE</th>\n",
       "      <th>COUNTER</th>\n",
       "      <th>STATS</th>\n",
       "    </tr>\n",
       "  </thead>\n",
       "  <tbody>\n",
       "    <tr>\n",
       "      <th>0</th>\n",
       "      <td>abc</td>\n",
       "      <td>fastp</td>\n",
       "      <td>falco</td>\n",
       "      <td>bismark_bowtie2</td>\n",
       "      <td>bismark</td>\n",
       "      <td>True</td>\n",
       "      <td>bismark</td>\n",
       "      <td>True</td>\n",
       "    </tr>\n",
       "    <tr>\n",
       "      <th>1</th>\n",
       "      <td>def</td>\n",
       "      <td>NaN</td>\n",
       "      <td>falco</td>\n",
       "      <td>bismark_bowtie2</td>\n",
       "      <td>bismark</td>\n",
       "      <td>True</td>\n",
       "      <td>bismark</td>\n",
       "      <td>True</td>\n",
       "    </tr>\n",
       "  </tbody>\n",
       "</table>\n",
       "</div>"
      ],
      "text/plain": [
       "  FNAME TRIMMER QC_REPORTER          ALIGNER  DEDUPER  RECALIBRATE  COUNTER  \\\n",
       "0   abc   fastp       falco  bismark_bowtie2  bismark         True  bismark   \n",
       "1   def     NaN       falco  bismark_bowtie2  bismark         True  bismark   \n",
       "\n",
       "   STATS  \n",
       "0   True  \n",
       "1   True  "
      ]
     },
     "execution_count": 6,
     "metadata": {},
     "output_type": "execute_result"
    }
   ],
   "source": [
    "import pandas as pd\n",
    "\n",
    "df = pd.read_table('/mnt/eqa/zhangyuanfeng/methylation/dna_methylation_smk/test/example.tsv')\n",
    "df"
   ]
  },
  {
   "cell_type": "code",
   "execution_count": 2,
   "metadata": {},
   "outputs": [
    {
     "data": {
      "text/plain": [
       "FNAME          object\n",
       "TRIMMER        object\n",
       "QC_REPORTER    object\n",
       "ALIGNER        object\n",
       "DEDUPER        object\n",
       "RECALIBRATE      bool\n",
       "COUNTER        object\n",
       "STATS            bool\n",
       "dtype: object"
      ]
     },
     "execution_count": 2,
     "metadata": {},
     "output_type": "execute_result"
    }
   ],
   "source": [
    "df.dtypes"
   ]
  },
  {
   "cell_type": "code",
   "execution_count": 23,
   "metadata": {},
   "outputs": [
    {
     "name": "stdout",
     "output_type": "stream",
     "text": [
      "==================================================\n",
      "FNAME                      abc\n",
      "TRIMMER                  fastp\n",
      "QC_REPORTER              falco\n",
      "ALIGNER        bismark_bowtie2\n",
      "DEDUPER                bismark\n",
      "RECALIBRATE               True\n",
      "COUNTER                bismark\n",
      "STATS                     True\n",
      "Name: 0, dtype: object\n",
      "False\n",
      "==================================================\n",
      "FNAME                      def\n",
      "TRIMMER                    NaN\n",
      "QC_REPORTER              falco\n",
      "ALIGNER        bismark_bowtie2\n",
      "DEDUPER                bismark\n",
      "RECALIBRATE               True\n",
      "COUNTER                bismark\n",
      "STATS                     True\n",
      "Name: 1, dtype: object\n",
      "True\n"
     ]
    }
   ],
   "source": [
    "for _, i in df.iterrows():\n",
    "    print('=' * 50)\n",
    "    print(i)\n",
    "    print(pd.isna(i['TRIMMER']))"
   ]
  },
  {
   "cell_type": "code",
   "execution_count": 24,
   "metadata": {},
   "outputs": [
    {
     "data": {
      "text/plain": [
       "False"
      ]
     },
     "execution_count": 24,
     "metadata": {},
     "output_type": "execute_result"
    }
   ],
   "source": [
    "pd.isna('wtf')"
   ]
  },
  {
   "cell_type": "code",
   "execution_count": 3,
   "metadata": {},
   "outputs": [],
   "source": [
    "d = {'a': [1, 2, 3], 'b': [4, 5, 6]}"
   ]
  },
  {
   "cell_type": "code",
   "execution_count": 4,
   "metadata": {},
   "outputs": [
    {
     "data": {
      "text/plain": [
       "'None'"
      ]
     },
     "execution_count": 4,
     "metadata": {},
     "output_type": "execute_result"
    }
   ],
   "source": [
    "d.get('c', 'None')"
   ]
  },
  {
   "cell_type": "code",
   "execution_count": 3,
   "metadata": {},
   "outputs": [],
   "source": [
    "tool_config = ({\n",
    "            'trimmer': {\n",
    "                'fastp': [f'result/trimmed/fastp/x.R1.fq.gz',\n",
    "                          f'result/trimmed/fastp/x.R2.fq.gz',\n",
    "                          f'result/trimmed/fastp/x.fastp.json',\n",
    "                          f'result/trimmed/fastp/x.fastp.html'],\n",
    "                'trim_galore': [f'result/trimmed/trim_galore/x.R1.fq.gz',\n",
    "                                f'result/trimmed/trim_galore/x.R2.fq.gz',\n",
    "                                f'result/trimmed/trim_galore/x_trimming_report.txt']\n",
    "            },\n",
    "            'qc_reporter': {\n",
    "                'fastqc': [f'result/qc/fastqc/x.R1_fastqc.html',\n",
    "                           f'result/qc/fastqc/x.R2_fastqc.html'],\n",
    "                'falco': [f'result/qc/falco/x.R1_falco.html',\n",
    "                          f'result/qc/falco/x.R2_falco.html']\n",
    "            },\n",
    "            'aligner': {\n",
    "                'bismark_bowtie2': [f'result/aligned/bismark_bowtie2/x.bam'],\n",
    "                'bismark_hisat2': [f'result/aligned/bismark_hisat2/x.bam'],\n",
    "                'bwa_meth': [f'result/aligned/bwa_meth/x.bam'],\n",
    "                'bwa_meme': [f'result/aligned/bwa_meme/x.bam'],\n",
    "                'biscuit': [f'result/aligned/biscuit/x.bam'],\n",
    "                'bsmapz': [f'result/aligned/bsmapz/x.bam'],\n",
    "                'dnmtools': [f'result/aligned/dnmtools/x.bam']\n",
    "            },\n",
    "        })"
   ]
  },
  {
   "cell_type": "code",
   "execution_count": 5,
   "metadata": {},
   "outputs": [
    {
     "data": {
      "text/plain": [
       "['result/qc/fastqc/x.R1_fastqc.html',\n",
       " 'result/qc/fastqc/x.R2_fastqc.html',\n",
       " 'result/qc/falco/x.R1_falco.html',\n",
       " 'result/qc/falco/x.R2_falco.html']"
      ]
     },
     "execution_count": 5,
     "metadata": {},
     "output_type": "execute_result"
    }
   ],
   "source": [
    "[file_path for file_list in tool_config['qc_reporter'].values() for file_path in file_list]"
   ]
  },
  {
   "cell_type": "code",
   "execution_count": 11,
   "metadata": {},
   "outputs": [
    {
     "data": {
      "text/html": [
       "<div>\n",
       "<style scoped>\n",
       "    .dataframe tbody tr th:only-of-type {\n",
       "        vertical-align: middle;\n",
       "    }\n",
       "\n",
       "    .dataframe tbody tr th {\n",
       "        vertical-align: top;\n",
       "    }\n",
       "\n",
       "    .dataframe thead th {\n",
       "        text-align: right;\n",
       "    }\n",
       "</style>\n",
       "<table border=\"1\" class=\"dataframe\">\n",
       "  <thead>\n",
       "    <tr style=\"text-align: right;\">\n",
       "      <th></th>\n",
       "      <th>FNAME</th>\n",
       "      <th>TRIMMER</th>\n",
       "      <th>QC_REPORTER</th>\n",
       "      <th>ALIGNER</th>\n",
       "      <th>DEDUPER</th>\n",
       "      <th>RECALIBRATE</th>\n",
       "      <th>COUNTER</th>\n",
       "      <th>STATS</th>\n",
       "    </tr>\n",
       "  </thead>\n",
       "  <tbody>\n",
       "    <tr>\n",
       "      <th>0</th>\n",
       "      <td>file1</td>\n",
       "      <td>trim1</td>\n",
       "      <td>qc1</td>\n",
       "      <td>align1</td>\n",
       "      <td>NaN</td>\n",
       "      <td>recal1</td>\n",
       "      <td>count1</td>\n",
       "      <td>stat1</td>\n",
       "    </tr>\n",
       "    <tr>\n",
       "      <th>1</th>\n",
       "      <td>NaN</td>\n",
       "      <td>trim2</td>\n",
       "      <td>NaN</td>\n",
       "      <td>align2</td>\n",
       "      <td>dedupe2</td>\n",
       "      <td>NaN</td>\n",
       "      <td>count2</td>\n",
       "      <td>stat2</td>\n",
       "    </tr>\n",
       "    <tr>\n",
       "      <th>2</th>\n",
       "      <td>file3</td>\n",
       "      <td>NaN</td>\n",
       "      <td>qc3</td>\n",
       "      <td>NaN</td>\n",
       "      <td>NaN</td>\n",
       "      <td>recal3</td>\n",
       "      <td>NaN</td>\n",
       "      <td>stat3</td>\n",
       "    </tr>\n",
       "  </tbody>\n",
       "</table>\n",
       "</div>"
      ],
      "text/plain": [
       "   FNAME TRIMMER QC_REPORTER ALIGNER  DEDUPER RECALIBRATE COUNTER  STATS\n",
       "0  file1   trim1         qc1  align1      NaN      recal1  count1  stat1\n",
       "1    NaN   trim2         NaN  align2  dedupe2         NaN  count2  stat2\n",
       "2  file3     NaN         qc3     NaN      NaN      recal3     NaN  stat3"
      ]
     },
     "execution_count": 11,
     "metadata": {},
     "output_type": "execute_result"
    }
   ],
   "source": [
    "import numpy as np\n",
    "import pandas as pd\n",
    "\n",
    "data = {\n",
    "    'FNAME': ['file1', np.nan, 'file3'],\n",
    "    'TRIMMER': ['trim1', 'trim2', np.nan],\n",
    "    'QC_REPORTER': ['qc1', np.nan, 'qc3'],\n",
    "    'ALIGNER': ['align1', 'align2', np.nan],\n",
    "    'DEDUPER': [np.nan, 'dedupe2', np.nan],\n",
    "    'RECALIBRATE': ['recal1', np.nan, 'recal3'],\n",
    "    'COUNTER': ['count1', 'count2', np.nan],\n",
    "    'STATS': ['stat1', 'stat2', 'stat3']\n",
    "}\n",
    "df = pd.DataFrame(data)\n",
    "df"
   ]
  },
  {
   "cell_type": "code",
   "execution_count": 18,
   "metadata": {},
   "outputs": [
    {
     "data": {
      "text/html": [
       "<div>\n",
       "<style scoped>\n",
       "    .dataframe tbody tr th:only-of-type {\n",
       "        vertical-align: middle;\n",
       "    }\n",
       "\n",
       "    .dataframe tbody tr th {\n",
       "        vertical-align: top;\n",
       "    }\n",
       "\n",
       "    .dataframe thead th {\n",
       "        text-align: right;\n",
       "    }\n",
       "</style>\n",
       "<table border=\"1\" class=\"dataframe\">\n",
       "  <thead>\n",
       "    <tr style=\"text-align: right;\">\n",
       "      <th></th>\n",
       "      <th>FNAME</th>\n",
       "      <th>TRIMMER</th>\n",
       "      <th>QC_REPORTER</th>\n",
       "      <th>ALIGNER</th>\n",
       "      <th>DEDUPER</th>\n",
       "      <th>RECALIBRATE</th>\n",
       "      <th>COUNTER</th>\n",
       "      <th>STATS</th>\n",
       "    </tr>\n",
       "  </thead>\n",
       "  <tbody>\n",
       "    <tr>\n",
       "      <th>0</th>\n",
       "      <td>file1</td>\n",
       "      <td>trim1</td>\n",
       "      <td>qc1</td>\n",
       "      <td>align1</td>\n",
       "      <td>NaN</td>\n",
       "      <td>NaN</td>\n",
       "      <td>NaN</td>\n",
       "      <td>NaN</td>\n",
       "    </tr>\n",
       "    <tr>\n",
       "      <th>1</th>\n",
       "      <td>NaN</td>\n",
       "      <td>NaN</td>\n",
       "      <td>NaN</td>\n",
       "      <td>NaN</td>\n",
       "      <td>NaN</td>\n",
       "      <td>NaN</td>\n",
       "      <td>NaN</td>\n",
       "      <td>NaN</td>\n",
       "    </tr>\n",
       "    <tr>\n",
       "      <th>2</th>\n",
       "      <td>file3</td>\n",
       "      <td>NaN</td>\n",
       "      <td>NaN</td>\n",
       "      <td>NaN</td>\n",
       "      <td>NaN</td>\n",
       "      <td>NaN</td>\n",
       "      <td>NaN</td>\n",
       "      <td>NaN</td>\n",
       "    </tr>\n",
       "  </tbody>\n",
       "</table>\n",
       "</div>"
      ],
      "text/plain": [
       "   FNAME TRIMMER QC_REPORTER ALIGNER  DEDUPER  RECALIBRATE  COUNTER  STATS\n",
       "0  file1   trim1         qc1  align1      NaN          NaN      NaN    NaN\n",
       "1    NaN     NaN         NaN     NaN      NaN          NaN      NaN    NaN\n",
       "2  file3     NaN         NaN     NaN      NaN          NaN      NaN    NaN"
      ]
     },
     "execution_count": 18,
     "metadata": {},
     "output_type": "execute_result"
    }
   ],
   "source": [
    "def clear_after_nan(row):\n",
    "    # Iterate through the first to the third last column\n",
    "    for col_idx in range(len(row)):\n",
    "        if pd.isna(row.iloc[col_idx]):\n",
    "            # If NaN is found, set all following columns (except the last two) to NaN\n",
    "            row.iloc[col_idx + 1:] = np.nan\n",
    "            break\n",
    "    return row\n",
    "\n",
    "df.apply(clear_after_nan, axis=1)"
   ]
  }
 ],
 "metadata": {
  "kernelspec": {
   "display_name": "data2024",
   "language": "python",
   "name": "python3"
  },
  "language_info": {
   "codemirror_mode": {
    "name": "ipython",
    "version": 3
   },
   "file_extension": ".py",
   "mimetype": "text/x-python",
   "name": "python",
   "nbconvert_exporter": "python",
   "pygments_lexer": "ipython3",
   "version": "3.12.2"
  }
 },
 "nbformat": 4,
 "nbformat_minor": 2
}
