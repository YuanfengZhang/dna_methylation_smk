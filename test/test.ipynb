{
 "cells": [
  {
   "cell_type": "code",
   "execution_count": 20,
   "metadata": {},
   "outputs": [
    {
     "data": {
      "text/html": [
       "<div>\n",
       "<style scoped>\n",
       "    .dataframe tbody tr th:only-of-type {\n",
       "        vertical-align: middle;\n",
       "    }\n",
       "\n",
       "    .dataframe tbody tr th {\n",
       "        vertical-align: top;\n",
       "    }\n",
       "\n",
       "    .dataframe thead th {\n",
       "        text-align: right;\n",
       "    }\n",
       "</style>\n",
       "<table border=\"1\" class=\"dataframe\">\n",
       "  <thead>\n",
       "    <tr style=\"text-align: right;\">\n",
       "      <th></th>\n",
       "      <th>FNAME</th>\n",
       "      <th>TRIMMER</th>\n",
       "      <th>QC_REPORTER</th>\n",
       "      <th>ALIGNER</th>\n",
       "      <th>DEDUPER</th>\n",
       "      <th>RECALIBRATE</th>\n",
       "      <th>COUNTER</th>\n",
       "      <th>STATS</th>\n",
       "    </tr>\n",
       "  </thead>\n",
       "  <tbody>\n",
       "    <tr>\n",
       "      <th>0</th>\n",
       "      <td>abc</td>\n",
       "      <td>fastp</td>\n",
       "      <td>falco</td>\n",
       "      <td>bismark_bowtie2</td>\n",
       "      <td>bismark</td>\n",
       "      <td>True</td>\n",
       "      <td>bismark</td>\n",
       "      <td>True</td>\n",
       "    </tr>\n",
       "    <tr>\n",
       "      <th>1</th>\n",
       "      <td>def</td>\n",
       "      <td>NaN</td>\n",
       "      <td>falco</td>\n",
       "      <td>bismark_bowtie2</td>\n",
       "      <td>bismark</td>\n",
       "      <td>True</td>\n",
       "      <td>bismark</td>\n",
       "      <td>True</td>\n",
       "    </tr>\n",
       "  </tbody>\n",
       "</table>\n",
       "</div>"
      ],
      "text/plain": [
       "  FNAME TRIMMER QC_REPORTER          ALIGNER  DEDUPER  RECALIBRATE  COUNTER  \\\n",
       "0   abc   fastp       falco  bismark_bowtie2  bismark         True  bismark   \n",
       "1   def     NaN       falco  bismark_bowtie2  bismark         True  bismark   \n",
       "\n",
       "   STATS  \n",
       "0   True  \n",
       "1   True  "
      ]
     },
     "execution_count": 20,
     "metadata": {},
     "output_type": "execute_result"
    }
   ],
   "source": [
    "import pandas as pd\n",
    "\n",
    "df = pd.read_table('/mnt/eqa/zhangyuanfeng/methylation/dna_methylation_smk/test/example.tsv')\n",
    "df"
   ]
  },
  {
   "cell_type": "code",
   "execution_count": 2,
   "metadata": {},
   "outputs": [
    {
     "data": {
      "text/plain": [
       "FNAME           object\n",
       " TRIMMER        object\n",
       " QC_REPORTER    object\n",
       "ALIGNER         object\n",
       " DEDUPER        object\n",
       " RECALIBRATE      bool\n",
       "COUNTER         object\n",
       " STATS            bool\n",
       "dtype: object"
      ]
     },
     "execution_count": 2,
     "metadata": {},
     "output_type": "execute_result"
    }
   ],
   "source": [
    "df.dtypes"
   ]
  },
  {
   "cell_type": "code",
   "execution_count": 23,
   "metadata": {},
   "outputs": [
    {
     "name": "stdout",
     "output_type": "stream",
     "text": [
      "==================================================\n",
      "FNAME                      abc\n",
      "TRIMMER                  fastp\n",
      "QC_REPORTER              falco\n",
      "ALIGNER        bismark_bowtie2\n",
      "DEDUPER                bismark\n",
      "RECALIBRATE               True\n",
      "COUNTER                bismark\n",
      "STATS                     True\n",
      "Name: 0, dtype: object\n",
      "False\n",
      "==================================================\n",
      "FNAME                      def\n",
      "TRIMMER                    NaN\n",
      "QC_REPORTER              falco\n",
      "ALIGNER        bismark_bowtie2\n",
      "DEDUPER                bismark\n",
      "RECALIBRATE               True\n",
      "COUNTER                bismark\n",
      "STATS                     True\n",
      "Name: 1, dtype: object\n",
      "True\n"
     ]
    }
   ],
   "source": [
    "for _, i in df.iterrows():\n",
    "    print('=' * 50)\n",
    "    print(i)\n",
    "    print(pd.isna(i['TRIMMER']))"
   ]
  },
  {
   "cell_type": "code",
   "execution_count": 24,
   "metadata": {},
   "outputs": [
    {
     "data": {
      "text/plain": [
       "False"
      ]
     },
     "execution_count": 24,
     "metadata": {},
     "output_type": "execute_result"
    }
   ],
   "source": [
    "pd.isna('wtf')"
   ]
  }
 ],
 "metadata": {
  "kernelspec": {
   "display_name": "data2024",
   "language": "python",
   "name": "python3"
  },
  "language_info": {
   "codemirror_mode": {
    "name": "ipython",
    "version": 3
   },
   "file_extension": ".py",
   "mimetype": "text/x-python",
   "name": "python",
   "nbconvert_exporter": "python",
   "pygments_lexer": "ipython3",
   "version": "3.12.2"
  }
 },
 "nbformat": 4,
 "nbformat_minor": 2
}
